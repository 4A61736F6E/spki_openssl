{
 "cells": [
  {
   "attachments": {},
   "cell_type": "markdown",
   "metadata": {},
   "source": [
    "# Introduction\n",
    "\n",
    "The [https://badssl.com](https://badssl.com) website offers a variety of unique scenarios with TLS protocols, cipher suites, and certificates.  In this case, we are using the web site to identify the difference between certificate thumbprints and thrumbprints against each certificate SubjectPublicKeyInfo field.  This work borrows from the research identified from the [OpenSSL Notebook](./openssl.ipynb)."
   ]
  },
  {
   "cell_type": "markdown",
   "metadata": {},
   "source": [
    "## Computing Environemnt\n",
    "\n",
    "Some basic information about the environment in which the Nobeook is executing."
   ]
  },
  {
   "cell_type": "code",
   "execution_count": null,
   "metadata": {
    "vscode": {
     "languageId": "shellscript"
    }
   },
   "outputs": [],
   "source": [
    "# What environment am I running in?\n",
    "!echo \"Kernel:\" && uname -a && echo \"\"\n",
    "!echo \"MacOS Version:\" && sw_vers && echo \"\"\n",
    "!echo \"OpenSSL Version:\" && openssl version && echo \"\"\n",
    "!echo \"Python Version:\" && python --version && echo \"\""
   ]
  },
  {
   "attachments": {},
   "cell_type": "markdown",
   "metadata": {},
   "source": [
    "## Acquire Subdomains\n",
    "\n",
    "Crawl the top-level page of [https://badssl.com](https://badssl.com) for any related sub-domains."
   ]
  },
  {
   "cell_type": "code",
   "execution_count": null,
   "metadata": {
    "vscode": {
     "languageId": "shellscript"
    }
   },
   "outputs": [],
   "source": [
    "%%bash\n",
    "FOLDER=\"data/badssl\"\n",
    "DOMAIN_LIST=\"${FOLDER}/domains.txt\"\n",
    "mkdir -p \"${FOLDER}\"\n",
    "\n",
    "curl -s https://badssl.com/ |\\\n",
    "    grep -Eo '<a href=\"(.*badssl\\.com.*?)\"' |\\\n",
    "    awk -F '/' '{print $3}' |\\\n",
    "    sort | uniq > \"${DOMAIN_LIST}\"\n",
    "\n",
    "echo \"Domains found: $(wc -l ${DOMAIN_LIST} | awk '{print $1}')\"\n",
    "echo \"\"\n",
    "cat ${DOMAIN_LIST}\n"
   ]
  },
  {
   "cell_type": "markdown",
   "metadata": {},
   "source": [
    "## Acquire Certificates by Domain\n",
    "\n",
    "Using the domain target list, retireve the certificates presented for each domain.\n",
    "\n",
    "> Note: Some of the subdomains offer risky TLS configurations which modern versions of `openssl` may not support.  You can expect some errors to happen due to this incompatibility.  There will be enough sample data to illustrate the differences between thumbprint types."
   ]
  },
  {
   "cell_type": "code",
   "execution_count": null,
   "metadata": {
    "vscode": {
     "languageId": "shellscript"
    }
   },
   "outputs": [],
   "source": [
    "%%bash\n",
    "BASE_FOLDER=\"data/badssl\"\n",
    "CERT_FOLDER=\"${BASE_FOLDER}/certificates\"\n",
    "mkdir -p \"${CERT_FOLDER}\"\n",
    "DOMAIN_LIST=\"${BASE_FOLDER}/domains.txt\"\n",
    "\n",
    "for DOMAIN in $(cat ${DOMAIN_LIST}); \n",
    "    do\n",
    "    # assign port 443 if not specified\n",
    "    PORT=$(echo \"${DOMAIN}\" | awk -F ':' '{ if (NF == 1) print 443; else if (NF == 2) print $2 }')\n",
    "    DOMAIN=$(echo \"${DOMAIN}\" | awk -F ':' '{print $1}')\n",
    "\n",
    "    echo \"Acquiring Certificate: https://${DOMAIN}:${PORT}\"\n",
    "\n",
    "    DOMAIN=$(echo \"${DOMAIN}\" | awk -F ':' '{print $1}')\n",
    "    \n",
    "    echo \"\" | openssl s_client -showcerts -servername \"${DOMAIN}\" -connect \"${DOMAIN}:${PORT}\" 2>/dev/null |\\\n",
    "        openssl x509 -outform PEM -out \"${CERT_FOLDER}/${DOMAIN}_${PORT}\"_signed-public-key.pem;\n",
    "\n",
    "    openssl x509 -inform PEM -in \"${CERT_FOLDER}/${DOMAIN}_${PORT}\"_signed-public-key.pem \\\n",
    "        -outform DER -out \"${CERT_FOLDER}/${DOMAIN}_${PORT}\"_signed-public-key.der\n",
    "    done"
   ]
  },
  {
   "cell_type": "markdown",
   "metadata": {},
   "source": [
    "## Display Basic Certificate Information\n",
    "\n",
    "Displays select fields from each certificate.\n",
    "- Subject\n",
    "- Issuer\n",
    "- Serial Number\n",
    "- Validity Period"
   ]
  },
  {
   "cell_type": "code",
   "execution_count": null,
   "metadata": {
    "vscode": {
     "languageId": "shellscript"
    }
   },
   "outputs": [],
   "source": [
    "%%bash\n",
    "FOLDER=\"data/badssl/certificates\"\n",
    "\n",
    "echo \"Basic Certificate Details:\"\n",
    "for CERTIFICATE_PUBLIC_KEY_PEM in \"${FOLDER}\"/*_signed-public-key.pem; do\n",
    "    echo \"--------------------------------------------\"\n",
    "    DOMAIN=$(basename \"${CERTIFICATE_PUBLIC_KEY_PEM}\" | awk -F '_' '{print $1}')\n",
    "    PORT=$(basename \"${CERTIFICATE_PUBLIC_KEY_PEM}\" | awk -F '_' '{print $2}')\n",
    "    echo \"Domain: ${DOMAIN}:${PORT}\"\n",
    "    openssl x509 -noout -in \"${CERTIFICATE_PUBLIC_KEY_PEM}\" \\\n",
    "        -subject -issuer -serial -startdate -enddate\n",
    "done\n",
    "echo \"\"\n"
   ]
  },
  {
   "cell_type": "markdown",
   "metadata": {},
   "source": [
    "## Extract SubjectPublicKeyInfo\n",
    "\n",
    "Process each certificate and extract the SubjectPublicKeyInfo field from the certificate file."
   ]
  },
  {
   "cell_type": "code",
   "execution_count": null,
   "metadata": {
    "vscode": {
     "languageId": "shellscript"
    }
   },
   "outputs": [],
   "source": [
    "%%bash\n",
    "FOLDER=\"data/badssl/certificates\"\n",
    "\n",
    "for CERTIFICATE_PEM in \"${FOLDER}\"/*_signed-public-key.pem; do\n",
    "    # strip the path and suffix from the file name.\n",
    "    TARGET=$(echo \"${CERTIFICATE_PEM}\" | sed 's/.*\\///g' | sed -E 's/\\_signed-public-key.(der|pem)$//g')\n",
    "    \n",
    "    PUBLIC_KEY_INFO_PEM=\"${FOLDER}/${TARGET}_public-key-info.pem\"\n",
    "    PUBLIC_KEY_INFO_DER=\"${FOLDER}/${TARGET}_public-key-info.der\"\n",
    "    echo \"---\"\n",
    "    echo \"Extracting SubjectPublicKeyInfo: ${CERTIFICATE_PEM}\"\n",
    "\n",
    "    echo \"                     Saving PEM: ${PUBLIC_KEY_INFO_PEM}\"\n",
    "    openssl x509 -pubkey -inform PEM -in \"${CERTIFICATE_PEM}\" | \\\n",
    "        sed -n '/BEGIN\\ PUBLIC\\ KEY/,/END\\ PUBLIC\\ KEY/p' > \"${PUBLIC_KEY_INFO_PEM}\"\n",
    "\n",
    "    echo \"          Converting PEM to DER: ${PUBLIC_KEY_INFO_DER}\"\n",
    "    openssl asn1parse -inform PEM -in \"${PUBLIC_KEY_INFO_PEM}\" -out \"${PUBLIC_KEY_INFO_DER}\"\n",
    "done\n",
    "echo \"\""
   ]
  },
  {
   "cell_type": "markdown",
   "metadata": {},
   "source": [
    "## Count of Thumbprint Types\n",
    "\n",
    "Basic metrics on different thumbprint types.  _Certificate thumbprints_ represents the message digest of the binary (DER) certificate file.  _SPKI thumbprints_ represnets the message digest of the certificate's SubjectPublicKeyInfo field."
   ]
  },
  {
   "cell_type": "code",
   "execution_count": null,
   "metadata": {
    "vscode": {
     "languageId": "shellscript"
    }
   },
   "outputs": [],
   "source": [
    "%%bash\n",
    "FOLDER=\"data/badssl/certificates\"\n",
    "\n",
    "COUNT_CERTIFICATES=$(ls \"${FOLDER}\"/*signed-public-key.der | wc -l | awk '{print $1}')\n",
    "\n",
    "UNIQUE_DER_DIGEST_COUNT=$(sha256sum \"${FOLDER}\"/*signed-public-key*.der \\\n",
    "    | awk '{print $1}' | sort | uniq | wc -l | awk '{print $1}')\n",
    "\n",
    "UNIQUE_SPKI_DIGEST_COUNT=$(sha256sum \"${FOLDER}\"/*public-key-info.der \\\n",
    "    | awk '{print $1}' | sort | uniq | wc -l | awk '{print $1}')\n",
    "\n",
    "\n",
    "echo \"Certificate Summary:\"\n",
    "echo \"  Total Certificates: ${COUNT_CERTIFICATES}\"\n",
    "echo \"  Unique Thumbprints:\"\n",
    "echo \"        Certificates: ${UNIQUE_DER_DIGEST_COUNT}\"\n",
    "echo \"                SPKI: ${UNIQUE_SPKI_DIGEST_COUNT}\"\n",
    "echo \"\"\n",
    "\n",
    "echo \"Certificate (DER) Digests (SHA256):\"\n",
    "sha256sum \"${FOLDER}\"/*signed-public-key.der | sort\n",
    "echo \"\"\n",
    "\n",
    "echo \"SubjectPublicKeyInfo Digests (SHA256):\"\n",
    "echo \"[SubjectPublicKeyInfo derived from the Private Key]\"\n",
    "sha256sum \"${FOLDER}\"/*public-key-info.der | sort\n"
   ]
  },
  {
   "cell_type": "code",
   "execution_count": null,
   "metadata": {
    "vscode": {
     "languageId": "shellscript"
    }
   },
   "outputs": [],
   "source": [
    "%%bash\n",
    "BASE_FOLDER=\"data/badssl\"\n",
    "CERT_FOLDER=\"${BASE_FOLDER}/certificates\"\n",
    "CSV=\"${BASE_FOLDER}\"/certificate_inventory.csv\n",
    "D=\"\\t\" \n",
    "\n",
    "echo -e \"Target${D}Subject${D}SerialNumber${D}StartDate${D}EndDate${D}Thumbprint (SHA256)${D}SPKI (SHA256)\" > \"${CSV}\"\n",
    "\n",
    "for CERTIFICATE_DER in  \"${CERT_FOLDER}\"/*_signed-public-key.der; do\n",
    "    # strip the path and suffix from the file name.\n",
    "    TARGET=$(echo \"${CERTIFICATE_DER}\" | sed 's/.*\\///g' | sed -E 's/\\_signed-public-key.(der|pem)$//g')\n",
    "    SUBJECT=$(openssl x509 -subject -noout -inform DER -in \"${CERTIFICATE_DER}\" | awk -F 'subject=' '{print $2}')\n",
    "    SERIAL_NUMBER=$(openssl x509 -serial -noout -inform DER -in \"${CERTIFICATE_DER}\" | awk -F '=' '{print $2}')\n",
    "    START_DATE=$(openssl x509 -startdate -noout -inform DER -in \"${CERTIFICATE_DER}\" | awk -F '=' '{print $2}')\n",
    "    END_DATE=$(openssl x509 -enddate -noout -inform DER -in \"${CERTIFICATE_DER}\" | awk -F '=' '{print $2}')\n",
    "    CERT_THUMBPRINT=$(sha256sum \"${CERTIFICATE_DER}\" | awk -F ' ' '{print $1}')\n",
    "    SPKI_THUMBPRINT=$(sha256sum \"${CERT_FOLDER}\"/\"${TARGET}\"_public-key-info.der | awk '{print $1}')\n",
    "\n",
    "    echo \"--------------------------------\"\n",
    "    echo \"      Target: ${TARGET}\" && echo -ne \"${TARGET}${D}\" >> \"${CSV}\"\n",
    "    echo \"     Subject: ${SUBJECT}\" && echo -ne \"${SUBJECT}${D}\" >> \"${CSV}\"\n",
    "    echo \"SerialNumber: ${SERIAL_NUMBER}\" && echo -ne \"${SERIAL_NUMBER}${D}\" >> \"${CSV}\"\n",
    "    echo \"   StartDate: ${START_DATE}\" && echo -ne \"${START_DATE}${D}\" >> \"${CSV}\"\n",
    "    echo \"     EndDate: ${END_DATE}\" && echo -ne \"${END_DATE}${D}\" >> \"${CSV}\"\n",
    "    echo \" Cert Thumbprint: ${CERT_THUMBPRINT}\"  && echo -ne \"${CERT_THUMBPRINT}${D}\" >> \"${CSV}\"\n",
    "    echo \" SPKI Thumbprint: ${SPKI_THUMBPRINT}\" && echo -ne \"${SPKI_THUMBPRINT}\" >> \"${CSV}\"\n",
    "    echo \"\" >> \"${CSV}\"\n",
    "\n",
    "done"
   ]
  },
  {
   "cell_type": "code",
   "execution_count": null,
   "metadata": {
    "vscode": {
     "languageId": "shellscript"
    }
   },
   "outputs": [],
   "source": [
    "%%bash\n",
    "\n",
    "FOLDER=\"data/badssl\"\n",
    "\n",
    "rm -rf ${FOLDER}"
   ]
  }
 ],
 "metadata": {
  "kernelspec": {
   "display_name": "recon",
   "language": "python",
   "name": "python3"
  },
  "language_info": {
   "codemirror_mode": {
    "name": "ipython",
    "version": 3
   },
   "file_extension": ".py",
   "mimetype": "text/x-python",
   "name": "python",
   "nbconvert_exporter": "python",
   "pygments_lexer": "ipython3",
   "version": "3.11.6"
  },
  "orig_nbformat": 4
 },
 "nbformat": 4,
 "nbformat_minor": 2
}
