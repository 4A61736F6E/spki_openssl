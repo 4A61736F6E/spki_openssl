{
 "cells": [
  {
   "attachments": {},
   "cell_type": "markdown",
   "metadata": {},
   "source": [
    "# Introduction\n",
    "\n",
    "This document serves to provide an orientation to differnet OpenSSL commands."
   ]
  },
  {
   "cell_type": "markdown",
   "metadata": {},
   "source": [
    "## Computing Environment\n",
    "\n",
    "Some basic information about the environment in which the Nobeook is executing."
   ]
  },
  {
   "cell_type": "code",
   "execution_count": null,
   "metadata": {
    "vscode": {
     "languageId": "shellscript"
    }
   },
   "outputs": [],
   "source": [
    "%%bash\n",
    "# This script is used to print the system information of the current machine\n",
    "# It is useful to know the system information when debugging issues\n",
    "\n",
    "\n",
    "echo \"Kernel: `uname -a`\"\n",
    "echo \"Operating System:\"\n",
    "if [ -f /etc/os-release ]; then\n",
    "    cat /etc/os-release | awk '{print \"\\t\" $0}'\n",
    "fi;\n",
    "if uname -a | grep -iq \"darwin\"; then\n",
    "    sw_vers | awk '{print \"\\t\" $0}'\n",
    "fi;\n",
    "\n",
    "echo \"OpenSSL: `openssl version`\"\n",
    "echo \"Python: `python --version`\""
   ]
  },
  {
   "attachments": {},
   "cell_type": "markdown",
   "metadata": {},
   "source": [
    "## Available RSA Key Sizes\n",
    "\n",
    "Below are the exponents associated with given RSA key lengths. "
   ]
  },
  {
   "cell_type": "code",
   "execution_count": null,
   "metadata": {},
   "outputs": [],
   "source": [
    "#python\n",
    "# Some possible RSA key lenths.\n",
    "for exponent in range(7,16):\n",
    "    print(\"2^{0:3d} = {1:5d} bits\".format(exponent, 2**exponent))"
   ]
  },
  {
   "cell_type": "markdown",
   "metadata": {},
   "source": [
    "Note, that 3072-bit (2048+1024) keys are not referenced in this list.  It is likely that 3072-bit is trying to strike a cost/performance balance between weak 2048-bit and high computation cost of 4096-bit RSA keys.  So where to 3072-bit RSA keys come from?"
   ]
  },
  {
   "cell_type": "code",
   "execution_count": null,
   "metadata": {},
   "outputs": [],
   "source": [
    "# RSA key sizes are often represented as exponents to 2.\n",
    "print(f\"2048-bit RSA keys are derived from 2^11 = {2**11}.\")\n",
    "print(f\"Where does 3072-bit RSA keys come from?\")\n",
    "print(f\"- 3072-bit RSA keys might be 2^11.584962501 = {2**11.584962501}.\")\n",
    "print(f\"- Or simply 2048*1.5 = {2048*1.5}.\")"
   ]
  },
  {
   "attachments": {},
   "cell_type": "markdown",
   "metadata": {},
   "source": [
    "## Available Elliptic Curves\n",
    "\n",
    "Some resources on about elliptic curves applied to TLS protocol.   \n",
    "* [RFC 8422, Section 5.1.1 Supported Elliptic Curves Extensions](https://www.rfc-editor.org/rfc/rfc8422.html#section-5.1.1) namely `secp256r1`, `secp384r1`, `secp521r1` and a few others.\n",
    "* [AWS Security Blog](https://aws.amazon.com/blogs/security/) discusses [How to evaluate and use ECDSA certificates in AWS Certificate Manager](https://aws.amazon.com/blogs/security/how-to-evaluate-and-use-ecdsa-certificates-in-aws-certificate-manager/).  It is acknowledged this article discusses ECDSA and not EC. It was just an simple read on EC curve options.\n",
    "\n",
    "For the sake of simplicity and scoping, will focus on `prime256v1` and `secp384r1` curves only.  The tool `openssl` offers support for several different elliptic curves as noted below."
   ]
  },
  {
   "cell_type": "code",
   "execution_count": null,
   "metadata": {
    "vscode": {
     "languageId": "shellscript"
    }
   },
   "outputs": [],
   "source": [
    "#!/bin/bash\n",
    "# What are the EC Curves supported by OpenSSL?\n",
    "!openssl ecparam -list_curves"
   ]
  },
  {
   "attachments": {},
   "cell_type": "markdown",
   "metadata": {},
   "source": [
    "# X.509 Key Types\n",
    "\n",
    "The goal of this section is to demonstrate the differences between message digests (or thumbprints) between two different (but related) data structures with X.509 certificates.  \n",
    "* Thumbprint of the signed certificate.\n",
    "* Thumbprint of the cryptographic public key.\n",
    "\n",
    "In the following sections we use RSA and ECC X.509 key types to perform the following tasks.\n",
    "1. Create an single private key.\n",
    "2. Derive from this private key the corresponding private key.\n",
    "3. Generate multiple certificate signing requesest based on the single private key.\n",
    "4. Self-sign each signing request with the private key.\n",
    "5. We then extract the SubjectPublicKeyInfo from each signing request and self-signed certificate.\n",
    "6. Finally, we compare the SubjectPublicKeyeInfo across all the various exports.\n",
    "\n",
    "File names follow a mixed combination of hyphens (`-`) to separate words within a given field (e.g. `private-key`) and underscores (`_`) to separate fields (e.g. `rsa_private-key`).  \n"
   ]
  },
  {
   "attachments": {},
   "cell_type": "markdown",
   "metadata": {},
   "source": [
    "## RSA\n",
    "\n",
    "Resources\n",
    "1. [openssl-asn1parse](https://docs.openssl.org/master/man1/openssl-asn1parse/) processing ASN.1 files\n",
    "2. [openssl-pkey](https://docs.openssl.org/master/man1/openssl-pkey/) interacting with private keys\n",
    "3. [openssl-req](https://docs.openssl.org/master/man1/openssl-req/) processing signing-requests\n",
    "4. [openssl-rsa](https://docs.openssl.org/master/man1/openssl-rsa/) generating RSA private keys\n",
    "5. [openssl-x509](https://docs.openssl.org/master/man1/openssl-x509/) processing X.509 certificates"
   ]
  },
  {
   "attachments": {},
   "cell_type": "markdown",
   "metadata": {},
   "source": [
    "### Generate RSA Private Key\n",
    "\n",
    "For illustration purposes, let us create a single RSA private key. \n",
    "\n",
    "> Warning: Please do not use these keys in any production or live environment as they are intended for demonstration purposes only.  As a _demo_, you have no control over who may have viewed or obtain a copy of this key material making these private keys potentially _public_."
   ]
  },
  {
   "cell_type": "code",
   "execution_count": null,
   "metadata": {
    "vscode": {
     "languageId": "shellscript"
    }
   },
   "outputs": [],
   "source": [
    "%%bash\n",
    "# preamble\n",
    "FOLDER=\"data/poc\"\n",
    "mkdir -p \"${FOLDER}\"\n",
    "RSA_PRIVATE_KEY_PEM=\"${FOLDER}/rsa_private-key.pem\"\n",
    "RSA_PRIVATE_KEY_DER=\"${FOLDER}/rsa_private-key.der\"\n",
    "KEYLENGTH=\"2048\" # Typical sizes: 2048, 3072, 4096`\n",
    "\n",
    "# validate environment\n",
    "echo \"Environment:\"\n",
    "echo \"  Working Folder: '${FOLDER}'\"\n",
    "echo \"  Private Key PEM: '${RSA_PRIVATE_KEY_PEM}'\"\n",
    "echo \"  Private Key DER: '${RSA_PRIVATE_KEY_DER}'\"\n",
    "echo \"  Key Length: '${KEYLENGTH}'\"\n",
    "echo \"\"\n",
    "\n",
    "# execute\n",
    "echo \"Generating RSA Private Key:\"\n",
    "\n",
    "# create the private key in PEM form.\n",
    "openssl genrsa -out \"${RSA_PRIVATE_KEY_PEM}\" \"${KEYLENGTH}\"\n",
    "\n",
    "# convert private key from PEM (ASCII) to DER (binary)\n",
    "openssl rsa -inform PEM -in \"${RSA_PRIVATE_KEY_PEM}\" -outform DER -out \"${RSA_PRIVATE_KEY_DER}\"\n",
    "echo \"\"\n",
    "\n",
    "# valdiate result\n",
    "echo \"Files:\"\n",
    "ls -l -go \"${FOLDER}\"/rsa_private-key.*\n",
    "echo \"\"\n",
    "\n",
    "echo \"File Types:\"\n",
    "file \"${RSA_PRIVATE_KEY_PEM}\" \"${RSA_PRIVATE_KEY_DER}\"\n",
    "echo \"\"\n",
    "\n",
    "echo \"File Digests (SHA256):\"\n",
    "sha256sum \"${FOLDER}\"/rsa_private-key.*"
   ]
  },
  {
   "attachments": {},
   "cell_type": "markdown",
   "metadata": {},
   "source": [
    "### Derive the RSA Public Key\n",
    "\n",
    "The raw private key material itself does not contain the public key.  However we can derive the cryptographic public key material from the private key using one of the `openssl` command options.  \n",
    "1. `openssl rsa -pubout ...`\n",
    "2. `openssl pkey -pubout ...`"
   ]
  },
  {
   "cell_type": "code",
   "execution_count": null,
   "metadata": {
    "vscode": {
     "languageId": "shellscript"
    }
   },
   "outputs": [],
   "source": [
    "%%bash\n",
    "# preamble\n",
    "FOLDER=\"data/poc\"\n",
    "mkdir -p \"${FOLDER}\"\n",
    "RSA_PRIVATE_KEY_PEM=\"${FOLDER}/rsa_private-key.pem\"\n",
    "RSA_PRIVATE_KEY_DER=\"${FOLDER}/rsa_private-key.der\"\n",
    "\n",
    "\n",
    "# validate environment\n",
    "echo \"Environment:\"\n",
    "echo \"  RSA Private Key PEM: '${RSA_PRIVATE_KEY_PEM}'\"\n",
    "echo \"  RSA Private Key DER: '${RSA_PRIVATE_KEY_DER}'\"\n",
    "echo \"\"\n",
    "\n",
    "# execute\n",
    "echo \"Deriving the RSA Public Key using the corresponding Private Key (rsa):\"\n",
    "openssl rsa -pubout -inform PEM -in \"${RSA_PRIVATE_KEY_PEM}\" \\\n",
    "    -outform PEM -out \"${FOLDER}/rsa_public-key-info_via_private-key_rsa.pem\"\n",
    "openssl rsa -pubout -inform DER -in \"${RSA_PRIVATE_KEY_DER}\" \\\n",
    "    -outform DER -out \"${FOLDER}/rsa_public-key-info_via_private-key_rsa.der\"\n",
    "echo \"\"\n",
    "\n",
    "echo \"Deriving the RSA Public Key using the corresponding Private Key (rsa):\"\n",
    "openssl pkey -pubout -inform PEM -in \"${RSA_PRIVATE_KEY_PEM}\" \\\n",
    "    -outform PEM -out \"${FOLDER}/rsa_public-key-info_via_private-key_pkey.pem\"\n",
    "openssl pkey -pubout -inform DER -in \"${RSA_PRIVATE_KEY_DER}\" \\\n",
    "    -outform DER -out \"${FOLDER}/rsa_public-key-info_via_private-key_pkey.der\"\n",
    "echo \"\"\n",
    "\n",
    "# validate results\n",
    "echo \"RSA Files:\"\n",
    "ls -l -go \"${FOLDER}\"/rsa_public-key-info_via_private-key*\n",
    "echo \"\"\n",
    "\n",
    "echo \"RSA File Types:\"\n",
    "file \"${FOLDER}\"/rsa_public-key-info_via_private-key*\n",
    "echo \"\"\n",
    "\n",
    "echo \"RSA File Digests (SHA256):\"\n",
    "sha256sum \"${FOLDER}\"/rsa_public-key-info_via_private-key*.der\n",
    "echo \"---\"\n",
    "sha256sum \"${FOLDER}\"/rsa_public-key-info_via_private-key*.pem"
   ]
  },
  {
   "attachments": {},
   "cell_type": "markdown",
   "metadata": {},
   "source": [
    "### Generate RSA Signing Requests\n",
    "\n",
    "Our goal is to create multiple unique signed public certificates each based on the single private key we just created.  To begin, we must create a set of _certificate signing requests_, each provided with a unique name.  \n",
    "\n",
    "To uniquely identify each signing request (and later the certificate) we apply a unique ID to the request `CommonName` field of the `Subject`."
   ]
  },
  {
   "cell_type": "code",
   "execution_count": null,
   "metadata": {
    "vscode": {
     "languageId": "shellscript"
    }
   },
   "outputs": [],
   "source": [
    "%%bash\n",
    "FOLDER=\"data/poc\"\n",
    "RSA_PRIVATE_KEY_PEM=\"${FOLDER}/rsa_private-key.pem\"\n",
    "MAX_SIGNING_REQUESTS=5\n",
    "\n",
    "echo \"Environment:\"\n",
    "echo \"  Signing Request Count: ${MAX_SIGNING_REQUESTS}\"\n",
    "echo \"\"\n",
    "\n",
    "for ((i=1; i<=\"${MAX_SIGNING_REQUESTS}\"; i++)); do\n",
    "    GUID=$(uuidgen)\n",
    "    RSA_SIGNING_REQUEST_PEM=\"${FOLDER}/rsa_signing-request_${GUID}.pem\"\n",
    "    RSA_SIGNING_REQUEST_DER=\"${FOLDER}/rsa_signing-request_${GUID}.der\"\n",
    "    \n",
    "    # creates PEM signing request\n",
    "    echo \"Creating PEM: ${RSA_SIGNING_REQUEST_PEM}\"\n",
    "    openssl req -new -sha256 -inform pem -key \"${RSA_PRIVATE_KEY_PEM}\" \\\n",
    "      -outform pem -out \"${RSA_SIGNING_REQUEST_PEM}\" -subj \"/O=WARNING\\: PRIVATE KEY MADE PUBLIC/CN=${GUID}\"\n",
    "\n",
    "    # converts PEM to DER signing request\n",
    "    echo \"Creating DER: ${RSA_SIGNING_REQUEST_DER}\"\n",
    "    openssl req -inform PEM -in \"${RSA_SIGNING_REQUEST_PEM}\" \\\n",
    "      -outform DER -out \"${RSA_SIGNING_REQUEST_DER}\"\n",
    "\n",
    "done\n",
    "echo \"\"\n",
    "\n",
    "echo \"RSA Signing Requests:\"\n",
    "ls -l -go \"${FOLDER}\"/rsa_signing-request*\n",
    "echo \"\"\n",
    "\n",
    "echo \"RSA File Types:\"\n",
    "file \"${FOLDER}\"/rsa_signing-request*\n",
    "echo \"\"\n",
    "\n",
    "echo \"RSA Signing Request Digests (SHA256):\"\n",
    "sha256sum \"${FOLDER}\"/rsa_signing-request*.der\n",
    "echo \"---\"\n",
    "sha256sum \"${FOLDER}\"/rsa_signing-request*.pem\n",
    "echo \"\"\n"
   ]
  },
  {
   "attachments": {},
   "cell_type": "markdown",
   "metadata": {},
   "source": [
    "### Self-Sign RSA Signing Requests\n",
    "\n",
    "Using the single private key, we can self-sign each of the signing requests to create a completed signed certificate for analysis.  For added variability with our certificates, each has a unique validity duration."
   ]
  },
  {
   "cell_type": "code",
   "execution_count": null,
   "metadata": {
    "vscode": {
     "languageId": "shellscript"
    }
   },
   "outputs": [],
   "source": [
    "%%bash\n",
    "FOLDER=\"data/poc\"\n",
    "RSA_PRIVATE_KEY_PEM=\"${FOLDER}/rsa_private-key.pem\"\n",
    "VALIDITY_DURATION=30\n",
    "VALIDITY_INCREMENT=10\n",
    "\n",
    "for RSA_SIGNING_REQUEST_PEM in \"${FOLDER}\"/rsa_signing-request_*.pem; do\n",
    "    VALIDITY_DURATION=$((VALIDITY_DURATION+VALIDITY_INCREMENT))\n",
    "    GUID=$(openssl req -noout -in \"${RSA_SIGNING_REQUEST_PEM}\" -subject | awk -F 'CN=' '{print $2}')\n",
    "    RSA_SELF_SIGNED_PUBLIC_KEY_PEM=\"${FOLDER}/rsa_self-signed-public-key_${GUID}.pem\" \n",
    "    RSA_SELF_SIGNED_PUBLIC_KEY_DER=\"${FOLDER}/rsa_self-signed-public-key_${GUID}.der\"  \n",
    "\n",
    "    # creating PEM signed certificate\n",
    "    echo \"Creating Self-Signed PEM: ${RSA_SELF_SIGNED_PUBLIC_KEY_PEM}\"\n",
    "    openssl x509 -req -sha256 -days ${VALIDITY_DURATION} \\\n",
    "        -keyform PEM -signkey \"${RSA_PRIVATE_KEY_PEM}\" \\\n",
    "        -inform PEM -in \"${RSA_SIGNING_REQUEST_PEM}\" \\\n",
    "        -outform PEM -out \"${RSA_SELF_SIGNED_PUBLIC_KEY_PEM}\"\n",
    "\n",
    "    # converting PEM to DER\n",
    "    echo \"Converting PEM to DER: ${RSA_SELF_SIGNED_PUBLIC_KEY_DER}\"\n",
    "    openssl x509 -inform PEM -in \"${RSA_SELF_SIGNED_PUBLIC_KEY_PEM}\" \\\n",
    "        -outform DER -out \"${RSA_SELF_SIGNED_PUBLIC_KEY_DER}\"\n",
    "    echo \"\"\n",
    "done\n",
    "echo \"\"\n",
    "\n",
    "echo \"RSA Self-Signed Certificates:\"\n",
    "ls -l -go \"${FOLDER}\"/rsa_self-signed-public-key*\n",
    "echo \"\"\n",
    "\n",
    "echo \"RSA Self-Signed Certificate File Types:\"\n",
    "file \"${FOLDER}\"/rsa_self-signed-public-key*\n",
    "echo \"\"\n",
    "\n",
    "echo \"RSA Self-Signed Certificate Digests (SHA256):\"\n",
    "sha256sum \"${FOLDER}\"/rsa_self-signed-public-key*.der\n",
    "echo \"---\"\n",
    "sha256sum \"${FOLDER}\"/rsa_self-signed-public-key*.pem\n",
    "echo \"\"\n"
   ]
  },
  {
   "attachments": {},
   "cell_type": "markdown",
   "metadata": {},
   "source": [
    "### Display Certificate Details (Briefly)\n",
    "\n",
    "Confirming our certificates have unique names and validity periods."
   ]
  },
  {
   "cell_type": "code",
   "execution_count": null,
   "metadata": {
    "vscode": {
     "languageId": "shellscript"
    }
   },
   "outputs": [],
   "source": [
    "%%bash\n",
    "FOLDER=\"data/poc\"\n",
    "\n",
    "# from signed certificates\n",
    "echo \"Basic Certificate Details:\"\n",
    "for RSA_SELF_SIGNED_PUBLIC_KEY_PEM in \"${FOLDER}\"/rsa_self-signed-public-key*.pem; do\n",
    "    echo \"--------------------------------------------\"\n",
    "    openssl x509 -noout -in \"${RSA_SELF_SIGNED_PUBLIC_KEY_PEM}\" \\\n",
    "        -subject -serial -startdate -enddate\n",
    "done\n",
    "echo \"\""
   ]
  },
  {
   "attachments": {},
   "cell_type": "markdown",
   "metadata": {},
   "source": [
    "### Extract RSA SubjectPublicKeyInfo\n",
    "\n",
    "We already derived the raw public key material earlier by accessing the private key for this information.  Here, we'll shift our focus to both the signing requests and self-signed certificates for analysis.\n",
    "\n",
    "First, we'll access the signing requests to extract the `SubjectPublicKeyInfo` data and convert it to DER (binary) format.  Then we'll access each self-signed certificate to perform a similar action.\n",
    "\n",
    "> Note: when using the `-pubkey` option, the output will often contain two sections, in ASCII format, defining the `PUBLIC KEY` and `CERTIFICATE REQUEST`.  We use `sed` to parse out only the `PUBLIC KEY` portion of this output."
   ]
  },
  {
   "cell_type": "code",
   "execution_count": null,
   "metadata": {
    "vscode": {
     "languageId": "shellscript"
    }
   },
   "outputs": [],
   "source": [
    "%%bash\n",
    "FOLDER=\"data/poc\"\n",
    "\n",
    "echo \"Extracting the SubjectPublicKeyInfo from RSA Signing Requests:\"\n",
    "echo \"--------------------------------------------\"\n",
    "# from signing request\n",
    "for RSA_SIGNING_REQUEST_PEM in \"${FOLDER}\"/rsa_signing-request*.pem; do\n",
    "    GUID=$(openssl req -noout -in \"${RSA_SIGNING_REQUEST_PEM}\" -subject | awk -F 'CN=' '{print $2}')\n",
    "    RSA_PUBLIC_KEY_INFO_SIGNING_REQUEST_PEM=\"${FOLDER}/rsa_public-key-info_via_signing-request_${GUID}.pem\" \n",
    "    RSA_PUBLIC_KEY_INFO_SIGNING_REQUEST_DER=\"${FOLDER}/rsa_public-key-info_via_signing-request_${GUID}.der\"  \n",
    "\n",
    "    # creating PEM signed certificate\n",
    "    echo \"Creating Public Key Info PEM: ${RSA_PUBLIC_KEY_INFO_SIGNING_REQUEST_PEM}\"\n",
    "    openssl req -pubkey -inform PEM -in \"${RSA_SIGNING_REQUEST_PEM}\" | \\\n",
    "        sed -n '/BEGIN\\ PUBLIC\\ KEY/,/END\\ PUBLIC\\ KEY/p' > \"${RSA_PUBLIC_KEY_INFO_SIGNING_REQUEST_PEM}\"\n",
    "\n",
    "    # converting PEM to DER\n",
    "    echo \"Converting PEM to DER: ${RSA_PUBLIC_KEY_INFO_SIGNING_REQUEST_DER}\"\n",
    "    openssl asn1parse -inform PEM -in \"${RSA_PUBLIC_KEY_INFO_SIGNING_REQUEST_PEM}\" -out \"${RSA_PUBLIC_KEY_INFO_SIGNING_REQUEST_DER}\"\n",
    "    echo \"\"\n",
    "done\n",
    "echo \"\"\n",
    "\n",
    "echo \"Extracting the SubjectPublicKeyInfo from RSA Self-Signed Certificates:\"\n",
    "echo \"--------------------------------------------\"\n",
    "# from self-signed public key\n",
    "for RSA_SELF_SIGNED_PUBLIC_KEY_PEM in \"${FOLDER}\"/rsa_self-signed-public-key*.pem; do\n",
    "    GUID=$(openssl x509 -noout -in \"${RSA_SELF_SIGNED_PUBLIC_KEY_PEM}\" -subject | awk -F 'CN=' '{print $2}')\n",
    "    RSA_PUBLIC_KEY_INFO_SELF_SIGNED_PEM=\"${FOLDER}/rsa_public-key-info_via_self-signed_${GUID}.pem\" \n",
    "    RSA_PUBLIC_KEY_INFO_SELF_SIGNED_DER=\"${FOLDER}/rsa_public-key-info_via_self-signed_${GUID}.der\"  \n",
    "\n",
    "    # creating PEM signed certificate\n",
    "    echo \"Creating Public Key Info PEM: ${RSA_PUBLIC_KEY_INFO_SELF_SIGNED_PEM}\"\n",
    "    openssl x509 -pubkey -inform PEM -in \"${RSA_SELF_SIGNED_PUBLIC_KEY_PEM}\" | \\\n",
    "        sed -n '/BEGIN\\ PUBLIC\\ KEY/,/END\\ PUBLIC\\ KEY/p' > \"${RSA_PUBLIC_KEY_INFO_SELF_SIGNED_PEM}\"\n",
    "\n",
    "    # converting PEM to DER\n",
    "    echo \"Converting PEM to DER: ${RSA_PUBLIC_KEY_INFO_SELF_SIGNED_DER}\"\n",
    "    openssl asn1parse -inform PEM -in \"${RSA_PUBLIC_KEY_INFO_SELF_SIGNED_PEM}\" -out \"${RSA_PUBLIC_KEY_INFO_SELF_SIGNED_DER}\"\n",
    "    echo \"\"\n",
    "done\n",
    "echo \"\"\n"
   ]
  },
  {
   "attachments": {},
   "cell_type": "markdown",
   "metadata": {},
   "source": [
    "### Compare PublicKeyInfo Digests\n",
    "\n",
    "In summary, we've performed the following actions:\n",
    "1. Derived the public key from a single private key \n",
    "<br>(see `*public-key-info_via_private_key*.der`).\n",
    "2. Extracted the public key material from multiple certificate signing requests\n",
    "<br>(see `*public-key-info_via_signing-request*.der`).\n",
    "3. Extracted the public key material from multiple self-signed certificates \n",
    "<br>(see `*public-key-info_via_self-signed*.der`).\n",
    "\n",
    "Do we have message digests which match across all these different exports?\n",
    "\n",
    "> Note 1: If you do not see the results you expect, make sure you are [Erase All RSA Key Data](#Erase-All-RSA-Key-Data) between test runs.\n",
    "\n",
    "If you want more samples, then follow these steps without erasing or resetting the RSA data.\n",
    "1. Run [Generate RSA Signing Requests](#generate-rsa-signing-requests) multiple times.  e.g. 4 more times for a total of 25 signing requests.\n",
    "2. Run [Self-Sign RSA Signing Requests](#self-sign-rsa-signing-requests) just once.  \n",
    "3. Run [Extract RSA SubjectPublicKeyInfo](#extract-rsa-subjectpublickeyinfo) just once.\n",
    "4. Run this cell again."
   ]
  },
  {
   "cell_type": "code",
   "execution_count": null,
   "metadata": {
    "vscode": {
     "languageId": "shellscript"
    }
   },
   "outputs": [],
   "source": [
    "%%bash\n",
    "FOLDER=\"data/poc\"\n",
    "\n",
    "# basic error checking\n",
    "if ! find \"${FOLDER}\" -type f -name \"rsa_self-signed-public-key*.der\" | grep -q .; then\n",
    "    echo \"WARNING: No RSA Self-Signed Certificates found.\"\n",
    "    echo \"         Please run the previous cells to generate RSA content.\"\n",
    "    exit\n",
    "fi\n",
    "\n",
    "UNIQUE_DER_DIGEST_COUNT=$(sha256sum \"${FOLDER}\"/rsa_self-signed-public-key*.der \\\n",
    "    | awk '{print $1}' | sort | uniq | wc -l | awk '{print $1}')\n",
    "\n",
    "UNIQUE_SPKI_DIGEST_COUNT=$(sha256sum \"${FOLDER}\"/rsa_public-key-info*.der \\\n",
    "    | awk '{print $1}' | sort | uniq | wc -l | awk '{print $1}')\n",
    "\n",
    "# if UNIQUE_SPKI_DIGEST_COUNT greater than 1 then issue a warning\n",
    "if [ \"${UNIQUE_SPKI_DIGEST_COUNT}\" -gt 1 ]; then\n",
    "    echo \"WARNING: Multiple SubjectPublicKeyInfo Digests found.\"\n",
    "    echo \"         Did you forget to erase all key data between runs?\"\n",
    "    echo \"\"\n",
    "fi\n",
    "\n",
    "echo \"Summary of Unique RSA Key Data:\"\n",
    "echo \"   Signed Certificates: ${UNIQUE_DER_DIGEST_COUNT}\"\n",
    "echo \"  SubjectPublicKeyInfo: ${UNIQUE_SPKI_DIGEST_COUNT}\"\n",
    "echo \"\"\n",
    "\n",
    "echo \"Certificate (DER) Digests (SHA256):\"\n",
    "sha256sum \"${FOLDER}\"/rsa_self-signed-public-key*.der\n",
    "echo \"\"\n",
    "\n",
    "echo \"SubjectPublicKeyInfo Digests (SHA256):\"\n",
    "echo \"[SubjectPublicKeyInfo derived from the Private Key]\"\n",
    "sha256sum \"${FOLDER}\"/rsa_public-key-info_via_private-key*.der | sort\n",
    "echo \"[SubjectPublicKeyInfo extracted from Signing Requests]\"\n",
    "sha256sum \"${FOLDER}\"/rsa_public-key-info_via_signing-request*.der | sort\n",
    "echo \"[SubjectPublicKeyInfo extracted from Self-Signed Certificates]\"\n",
    "sha256sum \"${FOLDER}\"/rsa_public-key-info_via_self-signed*.der | sort\n"
   ]
  },
  {
   "attachments": {},
   "cell_type": "markdown",
   "metadata": {},
   "source": [
    "### Erase All RSA Key Data\n",
    "\n",
    "Use this to reset the proof-of-concept data related to RSA key data."
   ]
  },
  {
   "cell_type": "code",
   "execution_count": null,
   "metadata": {
    "vscode": {
     "languageId": "shellscript"
    }
   },
   "outputs": [],
   "source": [
    "%%bash\n",
    "FOLDER=\"data/poc\"\n",
    "\n",
    "# if folder exists, remove it\n",
    "rm -rf \"${FOLDER}\"/rsa_*"
   ]
  },
  {
   "attachments": {},
   "cell_type": "markdown",
   "metadata": {},
   "source": [
    "## EC\n",
    "\n",
    "Resources:\n",
    "\n",
    "1. [openssl-asn1parse](https://docs.openssl.org/master/man1/openssl-asn1parse/) processing ASN.1 files\n",
    "2. [openssl-ec](https://docs.openssl.org/master/man1/openssl-ec/) generating elliptic curve private keys\n",
    "3. [openssl-pkey](https://docs.openssl.org/master/man1/openssl-pkey/) interacting with private keys\n",
    "4. [openssl-req](https://docs.openssl.org/master/man1/openssl-req/) processing signing-requests\n",
    "5. [openssl-x509](https://docs.openssl.org/master/man1/openssl-x509/) processing X.509 certificates\n"
   ]
  },
  {
   "attachments": {},
   "cell_type": "markdown",
   "metadata": {
    "vscode": {
     "languageId": "shellscript"
    }
   },
   "source": [
    "### Generate EC Private Key\n",
    "\n",
    "For illustration purposes, let us create a single RSA private key. \n",
    "\n",
    "> Warning: Please do not use these keys in any production or live environment as they are intended for demonstration purposes only.  As a _demo_, you have no control over who may have viewed or obtain a copy of this key material making these private keys potentially _public_."
   ]
  },
  {
   "cell_type": "code",
   "execution_count": null,
   "metadata": {
    "vscode": {
     "languageId": "shellscript"
    }
   },
   "outputs": [],
   "source": [
    "%%bash\n",
    "# preamble\n",
    "FOLDER=\"data/poc\"\n",
    "mkdir -p \"${FOLDER}\"\n",
    "EC_PRIVATE_KEY_PEM=\"${FOLDER}/ec_private-key.pem\"\n",
    "EC_PRIVATE_KEY_DER=\"${FOLDER}/ec_private-key.der\"\n",
    "EC_CURVE=\"prime256v1\" # `prime256v1` and `secp384r1`\n",
    "\n",
    "# validate environment\n",
    "echo \"Environment:\"\n",
    "echo \"  Working Folder:  '${FOLDER}'\"\n",
    "echo \"  Private Key PEM: '${EC_PRIVATE_KEY_PEM}'\"\n",
    "echo \"  Private Key DER: '${EC_PRIVATE_KEY_DER}'\"\n",
    "echo \"  Elliptic Curve:  '${EC_CURVE}'\"\n",
    "echo \"\"\n",
    "\n",
    "# execute\n",
    "echo \"Generating EC Private Key:\"\n",
    "\n",
    "# create the private key in PEM form.\n",
    "openssl ecparam -genkey -name \"${EC_CURVE}\" -noout -out \"${EC_PRIVATE_KEY_PEM}\"\n",
    "\n",
    "# convert private key from PEM (ASCII) to DER (binary)\n",
    "openssl ec -inform pem -in \"${EC_PRIVATE_KEY_PEM}\" -outform der -out \"${EC_PRIVATE_KEY_DER}\"\n",
    "echo \"\"\n",
    "\n",
    "# valdiate result\n",
    "echo \"Files:\"\n",
    "ls -l -go \"${FOLDER}\"/ec_private-key.*\n",
    "echo \"\"\n",
    "\n",
    "echo \"File Types:\"\n",
    "file \"${FOLDER}\"/ec_private-key.*\n",
    "echo \"\"\n",
    "\n",
    "echo \"File Digests (SHA256):\"\n",
    "sha256sum \"${FOLDER}\"/ec_private-key.*\n"
   ]
  },
  {
   "attachments": {},
   "cell_type": "markdown",
   "metadata": {},
   "source": [
    "### Derive the EC Public Key\n",
    "\n",
    "The raw private key material itself does not contain the public key.  However we can derive the cryptographic public key material from the private key using one of the `openssl` command options.  \n",
    "1. `openssl ec -pubout ...`\n",
    "2. `openssl pkey -pubout ...`"
   ]
  },
  {
   "cell_type": "code",
   "execution_count": null,
   "metadata": {
    "vscode": {
     "languageId": "shellscript"
    }
   },
   "outputs": [],
   "source": [
    "%%bash\n",
    "# preamble\n",
    "FOLDER=\"data/poc\"\n",
    "EC_PRIVATE_KEY_PEM=\"${FOLDER}/ec_private-key.pem\"\n",
    "EC_PRIVATE_KEY_DER=\"${FOLDER}/ec_private-key.der\"\n",
    "\n",
    "# validate environment\n",
    "echo \"Environment:\"\n",
    "echo \"  EC Private Key PEM: '${EC_PRIVATE_KEY_PEM}'\"\n",
    "echo \"  EC Private Key DER: '${EC_PRIVATE_KEY_DER}'\"\n",
    "echo \"\"\n",
    "\n",
    "# execute\n",
    "echo \"Deriving the EC Public Key using the corresponding Private Key (ec):\"\n",
    "openssl ec -pubout -inform PEM -in \"${EC_PRIVATE_KEY_PEM}\" \\\n",
    "    -outform PEM -out \"${FOLDER}/ec_public-key-info_via_private-key_ec.pem\"\n",
    "openssl ec -pubout -inform DER -in \"${EC_PRIVATE_KEY_DER}\" \\\n",
    "    -outform DER -out \"${FOLDER}/ec_public-key-info_via_private-key_ec.der\"\n",
    "echo \"\"\n",
    "\n",
    "echo \"Deriving the EC Public Key using the corresponding Private Key (pkey):\"\n",
    "openssl pkey -pubout -inform PEM -in \"${EC_PRIVATE_KEY_PEM}\" \\\n",
    "    -outform PEM -out \"${FOLDER}\"/ec_public-key-info_via_private-key_pkey.pem\n",
    "openssl pkey -pubout -inform DER -in \"${EC_PRIVATE_KEY_DER}\" \\\n",
    "    -outform DER -out \"${FOLDER}\"/ec_public-key-info_via_private-key_pkey.der\n",
    "echo \"\"\n",
    "\n",
    "# validate results\n",
    "echo \"EC Files:\"\n",
    "ls -l -go \"${FOLDER}\"/ec_public-key-info_via_private-key*\n",
    "echo \"\"\n",
    "\n",
    "echo \"EC File Types:\"\n",
    "file \"${FOLDER}\"/ec_public-key-info_via_private-key*\n",
    "echo \"\"\n",
    "\n",
    "echo \"EC File Digests (SHA256):\"\n",
    "sha256sum \"${FOLDER}\"/ec_public-key-info_via_private-key*.der\n",
    "echo \"---\"\n",
    "sha256sum \"${FOLDER}\"/ec_public-key-info_via_private-key*.pem"
   ]
  },
  {
   "attachments": {},
   "cell_type": "markdown",
   "metadata": {},
   "source": [
    "### Generate EC Signing Requests\n",
    "\n",
    "Our goal is to create multiple unique signed public certificates each based on the single private key we just created.  To begin, we must create a set of _certificate signing requests_, each provided with a unique name.\n",
    "\n",
    "To uniquely identify each signing request (and later the certificate) we apply a unique ID to the request `CommonName` field of the `Subject`."
   ]
  },
  {
   "cell_type": "code",
   "execution_count": null,
   "metadata": {
    "vscode": {
     "languageId": "shellscript"
    }
   },
   "outputs": [],
   "source": [
    "%%bash\n",
    "# preamble\n",
    "FOLDER=\"data/poc\"\n",
    "EC_PRIVATE_KEY_PEM=\"${FOLDER}/ec_private-key.pem\"\n",
    "MAX_SIGNING_REQUESTS=5\n",
    "\n",
    "\n",
    "echo \"Environment:\"\n",
    "echo \"  Signing Request Count: ${MAX_SIGNING_REQUESTS}\"\n",
    "echo \"\"\n",
    "\n",
    "for ((i=1; i<=\"${MAX_SIGNING_REQUESTS}\"; i++)); do\n",
    "    GUID=$(uuidgen)\n",
    "    EC_SIGNING_REQUEST_PEM=\"${FOLDER}/ec_signing-request_${GUID}.pem\"\n",
    "    EC_SIGNING_REQUEST_DER=\"${FOLDER}/ec_signing-request_${GUID}.der\"\n",
    "    \n",
    "    # creates PEM signing request\n",
    "    echo \"Creating PEM: ${EC_SIGNING_REQUEST_PEM}\"\n",
    "    openssl req -new -sha256 -inform pem -key \"${EC_PRIVATE_KEY_PEM}\" \\\n",
    "      -outform pem -out \"${EC_SIGNING_REQUEST_PEM}\" -subj \"/O=WARNING\\: PRIVATE KEY MADE PUBLIC/CN=${GUID}\"\n",
    "\n",
    "    # converts PEM to DER signing request\n",
    "    echo \"Creating DER: ${EC_SIGNING_REQUEST_DER}\"\n",
    "    openssl req -inform PEM -in \"${EC_SIGNING_REQUEST_PEM}\" \\\n",
    "      -outform DER -out \"${EC_SIGNING_REQUEST_DER}\"\n",
    "\n",
    "done\n",
    "echo \"\"\n",
    "\n",
    "echo \"EC Signing Requests:\"\n",
    "ls -l -go \"${FOLDER}\"/ec_signing-request*\n",
    "echo \"\"\n",
    "\n",
    "echo \"EC File Types:\"\n",
    "file \"${FOLDER}\"/ec_signing-request*\n",
    "echo \"\"\n",
    "\n",
    "echo \"EC Signing Request Digests (SHA256):\"\n",
    "sha256sum \"${FOLDER}\"/ec_signing-request*.der\n",
    "echo \"---\"\n",
    "sha256sum \"${FOLDER}\"/ec_signing-request*.pem\n",
    "echo \"\"\n"
   ]
  },
  {
   "attachments": {},
   "cell_type": "markdown",
   "metadata": {},
   "source": [
    "### Self-Sign EC Signing Requests\n",
    "\n",
    "Using the single private key, we can self-sign each of the signing requests to create a completed signed certificate for analysis."
   ]
  },
  {
   "cell_type": "code",
   "execution_count": null,
   "metadata": {
    "vscode": {
     "languageId": "shellscript"
    }
   },
   "outputs": [],
   "source": [
    "%%bash\n",
    "# preamble\n",
    "FOLDER=\"data/poc\"\n",
    "EC_PRIVATE_KEY_PEM=\"${FOLDER}/ec_private-key.pem\"\n",
    "VALIDITY_DURATION=30\n",
    "VALIDITY_INCREMENT=10\n",
    "\n",
    "for EC_SIGNING_REQUEST_PEM in \"${FOLDER}\"/ec_signing-request*.pem; do\n",
    "    VALIDITY_DURATION=$((VALIDITY_DURATION+VALIDITY_INCREMENT))\n",
    "    GUID=$(openssl req -noout -in \"${EC_SIGNING_REQUEST_PEM}\" -subject | awk -F 'CN=' '{print $2}')\n",
    "    EC_SELF_SIGNED_PUBLIC_KEY_PEM=\"${FOLDER}/ec_self-signed-public-key_${GUID}.pem\" \n",
    "    EC_SELF_SIGNED_PUBLIC_KEY_DER=\"${FOLDER}/ec_self-signed-public-key_${GUID}.der\"  \n",
    "\n",
    "    # creating PEM signed certificate\n",
    "    echo \"Creating Self-Signed PEM: ${EC_SELF_SIGNED_PUBLIC_KEY_PEM}\"\n",
    "    openssl x509 -req -sha256 -days ${VALIDITY_DURATION} \\\n",
    "        -keyform PEM -signkey \"${EC_PRIVATE_KEY_PEM}\" \\\n",
    "        -inform PEM -in \"${EC_SIGNING_REQUEST_PEM}\" \\\n",
    "        -outform PEM -out \"${EC_SELF_SIGNED_PUBLIC_KEY_PEM}\"\n",
    "\n",
    "    # converting PEM to DER\n",
    "    echo \"Converting PEM to DER: ${EC_SELF_SIGNED_PUBLIC_KEY_DER}\"\n",
    "    openssl x509 -inform PEM -in \"${EC_SELF_SIGNED_PUBLIC_KEY_PEM}\" \\\n",
    "        -outform DER -out \"${EC_SELF_SIGNED_PUBLIC_KEY_DER}\"\n",
    "done\n",
    "echo \"\"\n",
    "\n",
    "echo \"EC Self-Signed Certificates:\"\n",
    "ls -l -go \"${FOLDER}\"/ec_self-signed-public-key*\n",
    "echo \"\"\n",
    "\n",
    "echo \"EC Self-Signed Certificate File Types:\"\n",
    "file \"${FOLDER}\"/ec_self-signed-public-key*\n",
    "echo \"\"\n",
    "\n",
    "echo \"EC Self-Signed Certificate SHA256 Digests:\"\n",
    "sha256sum \"${FOLDER}\"/ec_self-signed-public-key*.der\n",
    "echo \"---\"\n",
    "sha256sum \"${FOLDER}\"/ec_self-signed-public-key*.pem\n",
    "echo \"\"\n"
   ]
  },
  {
   "attachments": {},
   "cell_type": "markdown",
   "metadata": {},
   "source": [
    "### Display Certificate Details (Briefly)\n",
    "\n",
    "Confirming our certificates have unique names and validity periods."
   ]
  },
  {
   "cell_type": "code",
   "execution_count": null,
   "metadata": {
    "vscode": {
     "languageId": "shellscript"
    }
   },
   "outputs": [],
   "source": [
    "%%bash\n",
    "FOLDER=\"data/poc\"\n",
    "\n",
    "# from signed certificates\n",
    "echo \"Basic Certificate Details:\"\n",
    "for EC_SELF_SIGNED_PUBLIC_KEY_PEM in \"${FOLDER}\"/ec_self-signed-public-key*.pem; do\n",
    "    echo \"--------------------------------------------\"\n",
    "    openssl x509 -noout -in \"${EC_SELF_SIGNED_PUBLIC_KEY_PEM}\" \\\n",
    "        -subject -serial -startdate -enddate\n",
    "done\n",
    "echo \"\""
   ]
  },
  {
   "attachments": {},
   "cell_type": "markdown",
   "metadata": {},
   "source": [
    "### Extract EC SubjectPublicKeyInfo\n",
    "\n",
    "We already derived the raw public key material earlier by accessing the private key for this information.  Here, we'll shift our focus to both the signing requests and self-signed certificates for analysis.\n",
    "\n",
    "First, we'll access the signing requests to extract the `SubjectPublicKeyInfo` data and convert it to DER (binary) format.  Then we'll access each self-signed certificate to perform a similar action.\n",
    "\n",
    "> Note: when using the `-pubkey` option, the output will often contain two sections, in ASCII format, defining the `PUBLIC KEY` and `CERTIFICATE REQUEST`.  We use `sed` to parse out only the `PUBLIC KEY` portion of this output."
   ]
  },
  {
   "cell_type": "code",
   "execution_count": null,
   "metadata": {
    "vscode": {
     "languageId": "shellscript"
    }
   },
   "outputs": [],
   "source": [
    "%%bash\n",
    "FOLDER=\"data/poc\"\n",
    "\n",
    "echo \"Extracting the SubjectPublicKeyInfo from EC Signing Requests:\"\n",
    "echo \"--------------------------------------------\"\n",
    "# from signing request\n",
    "for EC_SIGNING_REQUEST_PEM in \"${FOLDER}\"/ec_signing-request*.pem; do\n",
    "    GUID=$(openssl req -noout -in \"${EC_SIGNING_REQUEST_PEM}\" -subject | awk -F 'CN=' '{print $2}')\n",
    "    EC_PUBLIC_KEY_INFO_SIGNING_REQUEST_PEM=\"${FOLDER}/ec_public-key-info_via_signing-request_${GUID}.pem\" \n",
    "    EC_PUBLIC_KEY_INFO_SIGNING_REQUEST_DER=\"${FOLDER}/ec_public-key-info_via_signing-request_${GUID}.der\"  \n",
    "\n",
    "    # creating PEM signed certificate\n",
    "    echo \"Creating Public Key Info PEM: ${EC_PUBLIC_KEY_INFO_SIGNING_REQUEST_PEM}\"\n",
    "    openssl req -pubkey -inform PEM -in \"${EC_SIGNING_REQUEST_PEM}\" | \\\n",
    "        sed -n '/BEGIN\\ PUBLIC\\ KEY/,/END\\ PUBLIC\\ KEY/p' > \"${EC_PUBLIC_KEY_INFO_SIGNING_REQUEST_PEM}\"\n",
    "\n",
    "    # converting PEM to DER\n",
    "    echo \"Converting PEM to DER: ${EC_PUBLIC_KEY_INFO_SIGNING_REQUEST_DER}\"\n",
    "    openssl asn1parse -inform PEM -in \"${EC_PUBLIC_KEY_INFO_SIGNING_REQUEST_PEM}\" \\\n",
    "        -out \"${EC_PUBLIC_KEY_INFO_SIGNING_REQUEST_DER}\"\n",
    "done\n",
    "echo \"\"\n",
    "\n",
    "echo \"Extracting the SubjectPublicKeyInfo from EC Self-Signed Certificates:\"\n",
    "echo \"--------------------------------------------\"\n",
    "# from self-signed public key\n",
    "for EC_SELF_SIGNED_PUBLIC_KEY_PEM in \"${FOLDER}\"/ec_self-signed-public-key*.pem; do\n",
    "    echo \"Self-Signed Key: ${EC_SELF_SIGNED_PUBLIC_KEY_PEM}\"\n",
    "    GUID=$(openssl x509 -noout -in \"${EC_SELF_SIGNED_PUBLIC_KEY_PEM}\" -subject | awk -F 'CN=' '{print $2}')\n",
    "    EC_PUBLIC_KEY_INFO_SELF_SIGNED_PEM=\"${FOLDER}/ec_public-key-info_via_self-signed_${GUID}.pem\" \n",
    "    EC_PUBLIC_KEY_INFO_SELF_SIGNED_DER=\"${FOLDER}/ec_public-key-info_via_self-signed_${GUID}.der\"  \n",
    "\n",
    "    # creating PEM signed certificate\n",
    "    echo \"Creating Public Key Info PEM: ${EC_PUBLIC_KEY_INFO_SELF_SIGNED_PEM}\"\n",
    "    openssl x509 -pubkey -inform PEM -in \"${EC_SELF_SIGNED_PUBLIC_KEY_PEM}\" | \\\n",
    "        sed -n '/BEGIN\\ PUBLIC\\ KEY/,/END\\ PUBLIC\\ KEY/p' > \"${EC_PUBLIC_KEY_INFO_SELF_SIGNED_PEM}\"\n",
    "\n",
    "    # converting PEM to DER\n",
    "    echo \"Converting PEM to DER: ${EC_PUBLIC_KEY_INFO_SELF_SIGNED_DER}\"\n",
    "    openssl asn1parse -inform PEM -in \"${EC_PUBLIC_KEY_INFO_SELF_SIGNED_PEM}\" \\\n",
    "        -out \"${EC_PUBLIC_KEY_INFO_SELF_SIGNED_DER}\"\n",
    "done\n",
    "echo \"\""
   ]
  },
  {
   "attachments": {},
   "cell_type": "markdown",
   "metadata": {},
   "source": [
    "### Compare PublicKeyInfo Digests\n",
    "\n",
    "In summary, we've performed the following actions:\n",
    "1. Derived the public key from a single private key \n",
    "<br>(see `ec_public-key-info_via_private_key*.der`).\n",
    "2. Extracted the public key material from multiple certificate signing requests\n",
    "<br>(see `ec_public-key-info_via_signing-request*.der`).\n",
    "3. Extracted the public key material from multiple self-signed certificates \n",
    "<br>(see `ec_public-key-info_via_self-signed*.der`).\n",
    "\n",
    "Do we have message digests which match across all these different exports?\n",
    "\n",
    "> Note: If you do not see the results you expect, make sure you are [Erase All EC Key Data](#erase-all-ec-key-data)) between test runs.\n",
    "\n",
    "If you want more samples, then follow these steps without erasing or resetting the EC data.\n",
    "1. Run [Generate EC Signing Requests](#generate-ec-signing-requests) multiple times.  e.g. 4 more times for a total of 25 signing requests.\n",
    "2. Run [Self-Sign EC Signing Requests](#self-sign-ec-signing-requests) just once.  \n",
    "3. Run [Extract EC SubjectPublicKeyInfo](#extract-ec-subjectpublickeyinfo) just once.\n",
    "4. Run this cell again."
   ]
  },
  {
   "cell_type": "code",
   "execution_count": null,
   "metadata": {
    "vscode": {
     "languageId": "shellscript"
    }
   },
   "outputs": [],
   "source": [
    "%%bash\n",
    "FOLDER=\"data/poc\"\n",
    "\n",
    "# basic error checking\n",
    "if ! find \"${FOLDER}\" -type f -name \"ec_self-signed-public-key*.der\" | grep -q .; then\n",
    "    echo \"WARNING: No EC Self-Signed Certificates found.\"\n",
    "    echo \"         Please run the previous cells to generate EC content.\"\n",
    "    exit\n",
    "fi\n",
    "\n",
    "UNIQUE_DER_DIGEST_COUNT=$(sha256sum \"${FOLDER}\"/ec_self-signed-public-key*.der \\\n",
    "    | awk '{print $1}' | sort | uniq | wc -l | awk '{print $1}')\n",
    "\n",
    "UNIQUE_SPKI_DIGEST_COUNT=$(sha256sum \"${FOLDER}\"/ec_public-key-info*.der \\\n",
    "    | awk '{print $1}' | sort | uniq | wc -l | awk '{print $1}')\n",
    "\n",
    "if [ \"${UNIQUE_SPKI_DIGEST_COUNT}\" -gt 1 ]; then\n",
    "    echo \"WARNING: Multiple SubjectPublicKeyInfo Digests found.\"\n",
    "    echo \"         Did you forget to erase all key data between runs?\"\n",
    "    echo \"\"\n",
    "fi\n",
    "\n",
    "echo \"Summary of Unique EC Key Data:\"\n",
    "echo \"   Signed Certificates: ${UNIQUE_DER_DIGEST_COUNT}\"\n",
    "echo \"  SubjectPublicKeyInfo: ${UNIQUE_SPKI_DIGEST_COUNT}\"\n",
    "echo \"\"\n",
    "\n",
    "echo \"Certificate (DER) Digests (SHA256):\"\n",
    "sha256sum \"${FOLDER}\"/ec_self-signed-public-key*.der\n",
    "echo \"\"\n",
    "\n",
    "echo \"SubjectPublicKeyInfo Digests (SHA256):\"\n",
    "echo \"[SubjectPublicKeyInfo derived from the Private Key]\"\n",
    "sha256sum \"${FOLDER}\"/ec_public-key-info_via_private-key*.der | sort\n",
    "echo \"[SubjectPublicKeyInfo extracted from Signing Requests]\"\n",
    "sha256sum \"${FOLDER}\"/ec_public-key-info_via_signing-request*.der | sort\n",
    "echo \"[SubjectPublicKeyInfo extracted from Self-Signed Certificates]\"\n",
    "sha256sum \"${FOLDER}\"/ec_public-key-info_via_self-signed*.der | sort"
   ]
  },
  {
   "attachments": {},
   "cell_type": "markdown",
   "metadata": {},
   "source": [
    "### Erase All EC Key Data\n",
    "\n",
    "Use this to reset the proof-of-concept data related to EC key data."
   ]
  },
  {
   "cell_type": "code",
   "execution_count": null,
   "metadata": {
    "vscode": {
     "languageId": "shellscript"
    }
   },
   "outputs": [],
   "source": [
    "%%bash\n",
    "FOLDER=\"data/poc\"\n",
    "\n",
    "# if folder exists, remove it\n",
    "rm -rf \"${FOLDER}\"/ec_*"
   ]
  },
  {
   "attachments": {},
   "cell_type": "markdown",
   "metadata": {},
   "source": [
    "# Additional OpenSSL Commands and Data\n"
   ]
  },
  {
   "attachments": {},
   "cell_type": "markdown",
   "metadata": {},
   "source": [
    "## Cipher Suites\n",
    "\n",
    "How to check cipher suite support, which should correlate with certificate type (`RSA` vs `ECDSA`).  List of available cipher suites from OpenSSL or OpenSSL compatible (e.g. LibreSSL).   Note, these are based on _your_ local OpenSSL installation."
   ]
  },
  {
   "cell_type": "code",
   "execution_count": null,
   "metadata": {
    "vscode": {
     "languageId": "shellscript"
    }
   },
   "outputs": [],
   "source": [
    "%%bash\n",
    "openssl ciphers -v"
   ]
  },
  {
   "attachments": {},
   "cell_type": "markdown",
   "metadata": {},
   "source": [
    "## OpenSSL Cipher Suites to JSON"
   ]
  },
  {
   "cell_type": "code",
   "execution_count": null,
   "metadata": {},
   "outputs": [],
   "source": [
    "import json\n",
    "\n",
    "def openssl_cipher_suites_to_json(openssl_result:list) -> list:\n",
    "    \"\"\"Convers OpenSSL verbose cipher suite output to JSON.\n",
    "    \n",
    "    cipher_suites = [\n",
    "        {\n",
    "            \"Cipher Suite\": str,\n",
    "            \"Protocol\": str,\n",
    "            \"Key Exchange\": str,\n",
    "            \"Authentication\": str,\n",
    "            \"Encryption\": str,\n",
    "            \"MAC\": str\n",
    "        },\n",
    "        {...}\n",
    "    ]\n",
    "\n",
    "    Args:\n",
    "        openssl_result (list): list of lines from 'openssl ciphers -v'\n",
    "\n",
    "    Returns:\n",
    "        list: list of dictionaries\n",
    "    \"\"\"\n",
    "    cipher_suites = []\n",
    "    for line in openssl_result:\n",
    "        fields = line.split()\n",
    "        cipher_suite = {}\n",
    "        cipher_suite['Cipher Suite'] = fields[0]\n",
    "        cipher_suite['Protocol'] = fields[1]\n",
    "        cipher_suite['Key Exchange'] = fields[2].split('=')[1]\n",
    "        cipher_suite['Authentication'] = fields[3].split('=')[1]\n",
    "        cipher_suite['Encryption'] = fields[4].split('=')[1]\n",
    "        cipher_suite['MAC'] = fields[5].split('=')[1]\n",
    "\n",
    "        cipher_suites.append(cipher_suite)\n",
    "    return cipher_suites\n",
    "\n",
    "# using a Jupyter 'feature'.  Caution executing external code or binaries from within your notebooks.\n",
    "openssl_result = !openssl ciphers -v # use 'RSA' or 'AES' or other filter keywords\n",
    "\n",
    "suites_json = openssl_cipher_suites_to_json(openssl_result)\n",
    "\n",
    "print(json.dumps(suites_json, indent=2))\n"
   ]
  },
  {
   "attachments": {},
   "cell_type": "markdown",
   "metadata": {},
   "source": [
    "OpenSSL RSA Cipher Suites"
   ]
  },
  {
   "attachments": {},
   "cell_type": "markdown",
   "metadata": {},
   "source": [
    "We can query `openssl` for various cipher suites based on one or more cipher string values.  See [OpenSSL man page on Ciphers: Cipher Strings](https://docs.openssl.org/1.1.1/man1/ciphers/)"
   ]
  },
  {
   "cell_type": "code",
   "execution_count": null,
   "metadata": {
    "vscode": {
     "languageId": "shellscript"
    }
   },
   "outputs": [],
   "source": [
    "%%bash\n",
    "\n",
    "# create an array of strings \"RSA\", \"ECDH\", \"DHE\", \"ECDSA\", \"AES\", \"RSA\"\n",
    "CIPHERS=(\"ECDH\" \"DHE\" \"ECDSA\" \"AES\" \"RSA\")\n",
    "\n",
    "# iterate over the array with openssl ciphers -v\n",
    "for CIPHER in \"${CIPHERS[@]}\"; do\n",
    "    echo \"Ciphers: '${CIPHER}'\"\n",
    "    openssl ciphers -V \"${CIPHER}\"\n",
    "    echo \"\"\n",
    "done\n"
   ]
  },
  {
   "cell_type": "markdown",
   "metadata": {},
   "source": [
    "Using `openssl` to connect to a web site and display the certificate in an on-demand fashion.\n",
    "\n",
    "> Note: Web sites can be load balanced across many IPv4 and IPv6 addresses.  This example merely accesses the first available."
   ]
  },
  {
   "cell_type": "code",
   "execution_count": null,
   "metadata": {
    "vscode": {
     "languageId": "shellscript"
    }
   },
   "outputs": [],
   "source": [
    "#!/bin/bash\n",
    "\n",
    "#cipher_suite=\"\\'ECDHE-ECDSA-AES128-SHA\\'\" # RSA key type\n",
    "# cipher_suite='ECDHE-ECDSA-AES256-GCM-SHA384' # EC key type\n",
    "\n",
    "! echo \"[ OpenSSL - Connection Details ]============================\"\n",
    "! echo | openssl s_client -showcerts -cipher \"ECDHE-ECDSA-AES128-SHA\" -servername www.google.com -connect www.google.com:443 2>&1\n",
    "! echo \"\"\n",
    "! echo \"[ OpenSSL - Certificate Details ]===========================\"\n",
    "! echo | openssl s_client -showcerts -cipher 'ECDHE-ECDSA-AES128-SHA' -servername www.google.com -connect www.google.com:443 2>&1 | openssl x509 -noout -text\n"
   ]
  },
  {
   "cell_type": "code",
   "execution_count": null,
   "metadata": {},
   "outputs": [],
   "source": []
  }
 ],
 "metadata": {
  "kernelspec": {
   "display_name": "spki_o",
   "language": "python",
   "name": "python3"
  },
  "language_info": {
   "codemirror_mode": {
    "name": "ipython",
    "version": 3
   },
   "file_extension": ".py",
   "mimetype": "text/x-python",
   "name": "python",
   "nbconvert_exporter": "python",
   "pygments_lexer": "ipython3",
   "version": "3.11.11"
  }
 },
 "nbformat": 4,
 "nbformat_minor": 4
}
