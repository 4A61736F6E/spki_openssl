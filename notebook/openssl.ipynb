{
 "cells": [
  {
   "attachments": {},
   "cell_type": "markdown",
   "metadata": {},
   "source": [
    "# Introduction\n",
    "\n",
    "This document serves to provide an orientation to differnet OpenSSL commands."
   ]
  },
  {
   "cell_type": "markdown",
   "metadata": {},
   "source": [
    "## Computing Environment\n",
    "\n",
    "Some basic information about the environment in which the Nobeook is executing."
   ]
  },
  {
   "cell_type": "code",
   "execution_count": 3,
   "metadata": {
    "vscode": {
     "languageId": "shellscript"
    }
   },
   "outputs": [
    {
     "name": "stdout",
     "output_type": "stream",
     "text": [
      "Kernel:\n",
      "Darwin USWSA220038.local 23.6.0 Darwin Kernel Version 23.6.0: Wed Jul 31 20:49:39 PDT 2024; root:xnu-10063.141.1.700.5~1/RELEASE_ARM64_T6000 arm64\n",
      "\n",
      "MacOS Version:\n",
      "ProductName:\t\tmacOS\n",
      "ProductVersion:\t\t14.7\n",
      "BuildVersion:\t\t23H124\n",
      "\n",
      "OpenSSL Version:\n",
      "OpenSSL 3.3.1 4 Jun 2024 (Library: OpenSSL 3.3.1 4 Jun 2024)\n",
      "\n",
      "Python Version:\n",
      "Python 3.11.6\n",
      "\n"
     ]
    }
   ],
   "source": [
    "# What environment am I running in?\n",
    "!echo \"Kernel:\" && uname -a && echo \"\"\n",
    "!echo \"MacOS Version:\" && sw_vers && echo \"\"\n",
    "!echo \"OpenSSL Version:\" && openssl version && echo \"\"\n",
    "!echo \"Python Version:\" && python --version && echo \"\"\n",
    "\n"
   ]
  },
  {
   "attachments": {},
   "cell_type": "markdown",
   "metadata": {},
   "source": [
    "## Available RSA Key Sizes\n",
    "\n",
    "Below are the exponents associated with given RSA key lengths. "
   ]
  },
  {
   "cell_type": "code",
   "execution_count": 4,
   "metadata": {},
   "outputs": [
    {
     "name": "stdout",
     "output_type": "stream",
     "text": [
      "2^  7 =   128 bits\n",
      "2^  8 =   256 bits\n",
      "2^  9 =   512 bits\n",
      "2^ 10 =  1024 bits\n",
      "2^ 11 =  2048 bits\n",
      "2^ 12 =  4096 bits\n",
      "2^ 13 =  8192 bits\n",
      "2^ 14 = 16384 bits\n",
      "2^ 15 = 32768 bits\n"
     ]
    }
   ],
   "source": [
    "# Some possible RSA key lenths.\n",
    "for exponent in range(7,16):\n",
    "    print(\"2^{0:3d} = {1:5d} bits\".format(exponent, 2**exponent))"
   ]
  },
  {
   "cell_type": "markdown",
   "metadata": {},
   "source": [
    "Note, that 3072-bit (2048+1024) keys are not referenced in this list.  It is likely that 3072-bit is trying to strike a cost/performance balance between weak 2048-bit and high computation cost of 4096-bit RSA keys.  So where to 3072-bit RSA keys come from?"
   ]
  },
  {
   "cell_type": "code",
   "execution_count": 5,
   "metadata": {},
   "outputs": [
    {
     "name": "stdout",
     "output_type": "stream",
     "text": [
      "2048-bit RSA keys are derived from 2^11 = 2048.\n",
      "Where does 3072-bit RSA keys come from?\n",
      "- 3072-bit RSA keys might be 2^11.584962501 = 3072.000000593755.\n",
      "- Or simply 2048*1.5 = 3072.0.\n"
     ]
    }
   ],
   "source": [
    "# RSA key sizes are often represented as exponents to 2.\n",
    "print(f\"2048-bit RSA keys are derived from 2^11 = {2**11}.\")\n",
    "print(f\"Where does 3072-bit RSA keys come from?\")\n",
    "print(f\"- 3072-bit RSA keys might be 2^11.584962501 = {2**11.584962501}.\")\n",
    "print(f\"- Or simply 2048*1.5 = {2048*1.5}.\")"
   ]
  },
  {
   "attachments": {},
   "cell_type": "markdown",
   "metadata": {},
   "source": [
    "## Available Elliptic Curves\n",
    "\n",
    "Some resources on about elliptic curves applied to TLS protocol.   \n",
    "* [RFC 8422, Section 5.1.1 Supported Elliptic Curves Extensions](https://www.rfc-editor.org/rfc/rfc8422.html#section-5.1.1) namely `secp256r1`, `secp384r1`, `secp521r1` and a few others.\n",
    "* [AWS Security Blog](https://aws.amazon.com/blogs/security/) discusses [How to evaluate and use ECDSA certificates in AWS Certificate Manager](https://aws.amazon.com/blogs/security/how-to-evaluate-and-use-ecdsa-certificates-in-aws-certificate-manager/).  It is acknowledged this article discusses ECDSA and not EC. It was just an simple read on EC curve options.\n",
    "\n",
    "For the sake of simplicity and scoping, will focus on `prime256v1` and `secp384r1` curves only.  The tool `openssl` offers support for several different elliptic curves as noted below."
   ]
  },
  {
   "cell_type": "code",
   "execution_count": 6,
   "metadata": {
    "vscode": {
     "languageId": "shellscript"
    }
   },
   "outputs": [
    {
     "name": "stdout",
     "output_type": "stream",
     "text": [
      "  secp112r1 : SECG/WTLS curve over a 112 bit prime field\n",
      "  secp112r2 : SECG curve over a 112 bit prime field\n",
      "  secp128r1 : SECG curve over a 128 bit prime field\n",
      "  secp128r2 : SECG curve over a 128 bit prime field\n",
      "  secp160k1 : SECG curve over a 160 bit prime field\n",
      "  secp160r1 : SECG curve over a 160 bit prime field\n",
      "  secp160r2 : SECG/WTLS curve over a 160 bit prime field\n",
      "  secp192k1 : SECG curve over a 192 bit prime field\n",
      "  secp224k1 : SECG curve over a 224 bit prime field\n",
      "  secp224r1 : NIST/SECG curve over a 224 bit prime field\n",
      "  secp256k1 : SECG curve over a 256 bit prime field\n",
      "  secp384r1 : NIST/SECG curve over a 384 bit prime field\n",
      "  secp521r1 : NIST/SECG curve over a 521 bit prime field\n",
      "  prime192v1: NIST/X9.62/SECG curve over a 192 bit prime field\n",
      "  prime192v2: X9.62 curve over a 192 bit prime field\n",
      "  prime192v3: X9.62 curve over a 192 bit prime field\n",
      "  prime239v1: X9.62 curve over a 239 bit prime field\n",
      "  prime239v2: X9.62 curve over a 239 bit prime field\n",
      "  prime239v3: X9.62 curve over a 239 bit prime field\n",
      "  prime256v1: X9.62/SECG curve over a 256 bit prime field\n",
      "  sect113r1 : SECG curve over a 113 bit binary field\n",
      "  sect113r2 : SECG curve over a 113 bit binary field\n",
      "  sect131r1 : SECG/WTLS curve over a 131 bit binary field\n",
      "  sect131r2 : SECG curve over a 131 bit binary field\n",
      "  sect163k1 : NIST/SECG/WTLS curve over a 163 bit binary field\n",
      "  sect163r1 : SECG curve over a 163 bit binary field\n",
      "  sect163r2 : NIST/SECG curve over a 163 bit binary field\n",
      "  sect193r1 : SECG curve over a 193 bit binary field\n",
      "  sect193r2 : SECG curve over a 193 bit binary field\n",
      "  sect233k1 : NIST/SECG/WTLS curve over a 233 bit binary field\n",
      "  sect233r1 : NIST/SECG/WTLS curve over a 233 bit binary field\n",
      "  sect239k1 : SECG curve over a 239 bit binary field\n",
      "  sect283k1 : NIST/SECG curve over a 283 bit binary field\n",
      "  sect283r1 : NIST/SECG curve over a 283 bit binary field\n",
      "  sect409k1 : NIST/SECG curve over a 409 bit binary field\n",
      "  sect409r1 : NIST/SECG curve over a 409 bit binary field\n",
      "  sect571k1 : NIST/SECG curve over a 571 bit binary field\n",
      "  sect571r1 : NIST/SECG curve over a 571 bit binary field\n",
      "  c2pnb163v1: X9.62 curve over a 163 bit binary field\n",
      "  c2pnb163v2: X9.62 curve over a 163 bit binary field\n",
      "  c2pnb163v3: X9.62 curve over a 163 bit binary field\n",
      "  c2pnb176v1: X9.62 curve over a 176 bit binary field\n",
      "  c2tnb191v1: X9.62 curve over a 191 bit binary field\n",
      "  c2tnb191v2: X9.62 curve over a 191 bit binary field\n",
      "  c2tnb191v3: X9.62 curve over a 191 bit binary field\n",
      "  c2pnb208w1: X9.62 curve over a 208 bit binary field\n",
      "  c2tnb239v1: X9.62 curve over a 239 bit binary field\n",
      "  c2tnb239v2: X9.62 curve over a 239 bit binary field\n",
      "  c2tnb239v3: X9.62 curve over a 239 bit binary field\n",
      "  c2pnb272w1: X9.62 curve over a 272 bit binary field\n",
      "  c2pnb304w1: X9.62 curve over a 304 bit binary field\n",
      "  c2tnb359v1: X9.62 curve over a 359 bit binary field\n",
      "  c2pnb368w1: X9.62 curve over a 368 bit binary field\n",
      "  c2tnb431r1: X9.62 curve over a 431 bit binary field\n",
      "  wap-wsg-idm-ecid-wtls1: WTLS curve over a 113 bit binary field\n",
      "  wap-wsg-idm-ecid-wtls3: NIST/SECG/WTLS curve over a 163 bit binary field\n",
      "  wap-wsg-idm-ecid-wtls4: SECG curve over a 113 bit binary field\n",
      "  wap-wsg-idm-ecid-wtls5: X9.62 curve over a 163 bit binary field\n",
      "  wap-wsg-idm-ecid-wtls6: SECG/WTLS curve over a 112 bit prime field\n",
      "  wap-wsg-idm-ecid-wtls7: SECG/WTLS curve over a 160 bit prime field\n",
      "  wap-wsg-idm-ecid-wtls8: WTLS curve over a 112 bit prime field\n",
      "  wap-wsg-idm-ecid-wtls9: WTLS curve over a 160 bit prime field\n",
      "  wap-wsg-idm-ecid-wtls10: NIST/SECG/WTLS curve over a 233 bit binary field\n",
      "  wap-wsg-idm-ecid-wtls11: NIST/SECG/WTLS curve over a 233 bit binary field\n",
      "  wap-wsg-idm-ecid-wtls12: WTLS curve over a 224 bit prime field\n",
      "  Oakley-EC2N-3: \n",
      "\tIPSec/IKE/Oakley curve #3 over a 155 bit binary field.\n",
      "\tNot suitable for ECDSA.\n",
      "\tQuestionable extension field!\n",
      "  Oakley-EC2N-4: \n",
      "\tIPSec/IKE/Oakley curve #4 over a 185 bit binary field.\n",
      "\tNot suitable for ECDSA.\n",
      "\tQuestionable extension field!\n",
      "  brainpoolP160r1: RFC 5639 curve over a 160 bit prime field\n",
      "  brainpoolP160t1: RFC 5639 curve over a 160 bit prime field\n",
      "  brainpoolP192r1: RFC 5639 curve over a 192 bit prime field\n",
      "  brainpoolP192t1: RFC 5639 curve over a 192 bit prime field\n",
      "  brainpoolP224r1: RFC 5639 curve over a 224 bit prime field\n",
      "  brainpoolP224t1: RFC 5639 curve over a 224 bit prime field\n",
      "  brainpoolP256r1: RFC 5639 curve over a 256 bit prime field\n",
      "  brainpoolP256t1: RFC 5639 curve over a 256 bit prime field\n",
      "  brainpoolP320r1: RFC 5639 curve over a 320 bit prime field\n",
      "  brainpoolP320t1: RFC 5639 curve over a 320 bit prime field\n",
      "  brainpoolP384r1: RFC 5639 curve over a 384 bit prime field\n",
      "  brainpoolP384t1: RFC 5639 curve over a 384 bit prime field\n",
      "  brainpoolP512r1: RFC 5639 curve over a 512 bit prime field\n",
      "  brainpoolP512t1: RFC 5639 curve over a 512 bit prime field\n",
      "  SM2       : SM2 curve over a 256 bit prime field\n"
     ]
    }
   ],
   "source": [
    "# What are the EC Curves supported by OpenSSL?\n",
    "!openssl ecparam -list_curves"
   ]
  },
  {
   "attachments": {},
   "cell_type": "markdown",
   "metadata": {},
   "source": [
    "# X.509 Key Types\n",
    "\n",
    "The goal of this section is to demonstrate the differences between message digests (or thumbprints) between two different (but related) data structures with X.509 certificates.  \n",
    "* Thumbprint of the signed certificate.\n",
    "* Thumbprint of the cryptographic public key.\n",
    "\n",
    "In the following sections we use RSA and ECC X.509 key types to perform the following tasks.\n",
    "1. Create an single private key.\n",
    "2. Derive from this private key the corresponding private key.\n",
    "3. Generate multiple certificate signing requesest based on the single private key.\n",
    "4. Self-sign each signing request with the private key.\n",
    "5. We then extract the SubjectPublicKeyInfo from each signing request and self-signed certificate.\n",
    "6. Finally, we compare the SubjectPublicKeyeInfo across all the various exports.\n",
    "\n",
    "File names follow a mixed combination of hyphens (`-`) to separate words within a given field (e.g. `private-key`) and underscores (`_`) to separate fields (e.g. `rsa_private-key`).  \n"
   ]
  },
  {
   "attachments": {},
   "cell_type": "markdown",
   "metadata": {},
   "source": [
    "## RSA\n",
    "\n",
    "Resources\n",
    "1. [openssl-asn1parse](https://docs.openssl.org/master/man1/openssl-asn1parse/) processing ASN.1 files\n",
    "2. [openssl-pkey](https://docs.openssl.org/master/man1/openssl-pkey/) interacting with private keys\n",
    "3. [openssl-req](https://docs.openssl.org/master/man1/openssl-req/) processing signing-requests\n",
    "4. [openssl-rsa](https://docs.openssl.org/master/man1/openssl-rsa/) generating RSA private keys\n",
    "5. [openssl-x509](https://docs.openssl.org/master/man1/openssl-x509/) processing X.509 certificates"
   ]
  },
  {
   "attachments": {},
   "cell_type": "markdown",
   "metadata": {},
   "source": [
    "### Generate RSA Private Key\n",
    "\n",
    "For illustration purposes, let us create a single RSA private key. \n",
    "\n",
    "> Warning: Please do not use these keys in any production or live environment as they are intended for demonstration purposes only.  As a _demo_, you have no control over who may have viewed or obtain a copy of this key material making these private keys potentially _public_."
   ]
  },
  {
   "cell_type": "code",
   "execution_count": 7,
   "metadata": {
    "vscode": {
     "languageId": "shellscript"
    }
   },
   "outputs": [
    {
     "name": "stdout",
     "output_type": "stream",
     "text": [
      "Environment:\n",
      "  Working Folder: 'data/poc'\n",
      "  Private Key PEM: 'data/poc/rsa_private-key.pem'\n",
      "  Private Key DER: 'data/poc/rsa_private-key.der'\n",
      "  Key Length: '2048'\n",
      "\n",
      "Generating RSA Private Key:\n"
     ]
    },
    {
     "name": "stderr",
     "output_type": "stream",
     "text": [
      "writing RSA key\n"
     ]
    },
    {
     "name": "stdout",
     "output_type": "stream",
     "text": [
      "\n",
      "Files:\n",
      "-rw-------@ 1   1218 Sep 20 12:39 data/poc/rsa_private-key.der\n",
      "-rw-------@ 1   1704 Sep 20 12:39 data/poc/rsa_private-key.pem\n",
      "\n",
      "File Types:\n",
      "data/poc/rsa_private-key.pem: ASCII text\n",
      "data/poc/rsa_private-key.der: data\n",
      "\n",
      "File Digests (SHA256):\n",
      "6da9ba4a1d09a6000faefbb83887e6f39c68655fc62bd7d5463858ba235bb364  data/poc/rsa_private-key.der\n",
      "f406150d7421fb04827c8037c8101b41dca0e1699cdf8257001bad7f008a80b1  data/poc/rsa_private-key.pem\n"
     ]
    }
   ],
   "source": [
    "%%bash\n",
    "# preamble\n",
    "FOLDER=\"data/poc\"\n",
    "mkdir -p \"${FOLDER}\"\n",
    "RSA_PRIVATE_KEY_PEM=\"${FOLDER}/rsa_private-key.pem\"\n",
    "RSA_PRIVATE_KEY_DER=\"${FOLDER}/rsa_private-key.der\"\n",
    "KEYLENGTH=\"2048\" # Typical sizes: 2048, 3072, 4096`\n",
    "\n",
    "# validate environment\n",
    "echo \"Environment:\"\n",
    "echo \"  Working Folder: '${FOLDER}'\"\n",
    "echo \"  Private Key PEM: '${RSA_PRIVATE_KEY_PEM}'\"\n",
    "echo \"  Private Key DER: '${RSA_PRIVATE_KEY_DER}'\"\n",
    "echo \"  Key Length: '${KEYLENGTH}'\"\n",
    "echo \"\"\n",
    "\n",
    "# execute\n",
    "echo \"Generating RSA Private Key:\"\n",
    "\n",
    "# create the private key in PEM form.\n",
    "openssl genrsa -out \"${RSA_PRIVATE_KEY_PEM}\" \"${KEYLENGTH}\"\n",
    "\n",
    "# convert private key from PEM (ASCII) to DER (binary)\n",
    "openssl rsa -inform PEM -in \"${RSA_PRIVATE_KEY_PEM}\" -outform DER -out \"${RSA_PRIVATE_KEY_DER}\"\n",
    "echo \"\"\n",
    "\n",
    "# valdiate result\n",
    "echo \"Files:\"\n",
    "ls -l -go \"${FOLDER}\"/rsa_private-key.*\n",
    "echo \"\"\n",
    "\n",
    "echo \"File Types:\"\n",
    "file \"${RSA_PRIVATE_KEY_PEM}\" \"${RSA_PRIVATE_KEY_DER}\"\n",
    "echo \"\"\n",
    "\n",
    "echo \"File Digests (SHA256):\"\n",
    "sha256sum \"${FOLDER}\"/rsa_private-key.*"
   ]
  },
  {
   "attachments": {},
   "cell_type": "markdown",
   "metadata": {},
   "source": [
    "### Derive the RSA Public Key\n",
    "\n",
    "The raw private key material itself does not contain the public key.  However we can derive the cryptographic public key material from the private key using one of the `openssl` command options.  \n",
    "1. `openssl rsa -pubout ...`\n",
    "2. `openssl pkey -pubout ...`"
   ]
  },
  {
   "cell_type": "code",
   "execution_count": 8,
   "metadata": {
    "vscode": {
     "languageId": "shellscript"
    }
   },
   "outputs": [
    {
     "name": "stdout",
     "output_type": "stream",
     "text": [
      "Environment:\n",
      "  RSA Private Key PEM: 'data/poc/rsa_private-key.pem'\n",
      "  RSA Private Key DER: 'data/poc/rsa_private-key.der'\n",
      "\n",
      "Deriving the RSA Public Key using the corresponding Private Key (rsa):\n"
     ]
    },
    {
     "name": "stderr",
     "output_type": "stream",
     "text": [
      "writing RSA key\n",
      "writing RSA key\n"
     ]
    },
    {
     "name": "stdout",
     "output_type": "stream",
     "text": [
      "\n",
      "Deriving the RSA Public Key using the corresponding Private Key (rsa):\n",
      "\n",
      "RSA Files:\n",
      "-rw-r--r--@ 1   294 Sep 20 12:40 data/poc/rsa_public-key-info_via_private-key_pkey.der\n",
      "-rw-r--r--@ 1   451 Sep 20 12:40 data/poc/rsa_public-key-info_via_private-key_pkey.pem\n",
      "-rw-r--r--@ 1   294 Sep 20 12:40 data/poc/rsa_public-key-info_via_private-key_rsa.der\n",
      "-rw-r--r--@ 1   451 Sep 20 12:40 data/poc/rsa_public-key-info_via_private-key_rsa.pem\n",
      "\n",
      "RSA File Types:\n",
      "data/poc/rsa_public-key-info_via_private-key_pkey.der: data\n",
      "data/poc/rsa_public-key-info_via_private-key_pkey.pem: ASCII text\n",
      "data/poc/rsa_public-key-info_via_private-key_rsa.der:  data\n",
      "data/poc/rsa_public-key-info_via_private-key_rsa.pem:  ASCII text\n",
      "\n",
      "RSA File Digests (SHA256):\n",
      "aba9c431a648c00bbc69fa0df9394bb701e9771413f1d0e86866c29dc4eac72d  data/poc/rsa_public-key-info_via_private-key_pkey.der\n",
      "aba9c431a648c00bbc69fa0df9394bb701e9771413f1d0e86866c29dc4eac72d  data/poc/rsa_public-key-info_via_private-key_rsa.der\n",
      "---\n",
      "a5c2514648e74027fe19088261504d043e2f923abd34f7261d159d8f7684c829  data/poc/rsa_public-key-info_via_private-key_pkey.pem\n",
      "a5c2514648e74027fe19088261504d043e2f923abd34f7261d159d8f7684c829  data/poc/rsa_public-key-info_via_private-key_rsa.pem\n"
     ]
    }
   ],
   "source": [
    "%%bash\n",
    "# preamble\n",
    "FOLDER=\"data/poc\"\n",
    "mkdir -p \"${FOLDER}\"\n",
    "RSA_PRIVATE_KEY_PEM=\"${FOLDER}/rsa_private-key.pem\"\n",
    "RSA_PRIVATE_KEY_DER=\"${FOLDER}/rsa_private-key.der\"\n",
    "\n",
    "\n",
    "# validate environment\n",
    "echo \"Environment:\"\n",
    "echo \"  RSA Private Key PEM: '${RSA_PRIVATE_KEY_PEM}'\"\n",
    "echo \"  RSA Private Key DER: '${RSA_PRIVATE_KEY_DER}'\"\n",
    "echo \"\"\n",
    "\n",
    "# execute\n",
    "echo \"Deriving the RSA Public Key using the corresponding Private Key (rsa):\"\n",
    "openssl rsa -pubout -inform PEM -in \"${RSA_PRIVATE_KEY_PEM}\" \\\n",
    "    -outform PEM -out \"${FOLDER}/rsa_public-key-info_via_private-key_rsa.pem\"\n",
    "openssl rsa -pubout -inform DER -in \"${RSA_PRIVATE_KEY_DER}\" \\\n",
    "    -outform DER -out \"${FOLDER}/rsa_public-key-info_via_private-key_rsa.der\"\n",
    "echo \"\"\n",
    "\n",
    "echo \"Deriving the RSA Public Key using the corresponding Private Key (rsa):\"\n",
    "openssl pkey -pubout -inform PEM -in \"${RSA_PRIVATE_KEY_PEM}\" \\\n",
    "    -outform PEM -out \"${FOLDER}/rsa_public-key-info_via_private-key_pkey.pem\"\n",
    "openssl pkey -pubout -inform DER -in \"${RSA_PRIVATE_KEY_DER}\" \\\n",
    "    -outform DER -out \"${FOLDER}/rsa_public-key-info_via_private-key_pkey.der\"\n",
    "echo \"\"\n",
    "\n",
    "# validate results\n",
    "echo \"RSA Files:\"\n",
    "ls -l -go \"${FOLDER}\"/rsa_public-key-info_via_private-key*\n",
    "echo \"\"\n",
    "\n",
    "echo \"RSA File Types:\"\n",
    "file \"${FOLDER}\"/rsa_public-key-info_via_private-key*\n",
    "echo \"\"\n",
    "\n",
    "echo \"RSA File Digests (SHA256):\"\n",
    "sha256sum \"${FOLDER}\"/rsa_public-key-info_via_private-key*.der\n",
    "echo \"---\"\n",
    "sha256sum \"${FOLDER}\"/rsa_public-key-info_via_private-key*.pem"
   ]
  },
  {
   "attachments": {},
   "cell_type": "markdown",
   "metadata": {},
   "source": [
    "### Generate RSA Signing Requests\n",
    "\n",
    "Our goal is to create multiple unique signed public certificates each based on the single private key we just created.  To begin, we must create a set of _certificate signing requests_, each provided with a unique name.  \n",
    "\n",
    "To uniquely identify each signing request (and later the certificate) we apply a unique ID to the request `CommonName` field of the `Subject`."
   ]
  },
  {
   "cell_type": "code",
   "execution_count": 9,
   "metadata": {
    "vscode": {
     "languageId": "shellscript"
    }
   },
   "outputs": [
    {
     "name": "stdout",
     "output_type": "stream",
     "text": [
      "Environment:\n",
      "  Signing Request Count: 5\n",
      "\n",
      "Creating PEM: data/poc/rsa_signing-request_2796EE12-D685-43CE-AB7C-2A8D0313ECBD.pem\n",
      "Creating DER: data/poc/rsa_signing-request_2796EE12-D685-43CE-AB7C-2A8D0313ECBD.der\n",
      "Creating PEM: data/poc/rsa_signing-request_5369DFF0-A7E7-476A-8EF8-0829EFD2BF64.pem\n",
      "Creating DER: data/poc/rsa_signing-request_5369DFF0-A7E7-476A-8EF8-0829EFD2BF64.der\n",
      "Creating PEM: data/poc/rsa_signing-request_09D0A34B-D935-48DC-AD0F-17FE1D822D00.pem\n",
      "Creating DER: data/poc/rsa_signing-request_09D0A34B-D935-48DC-AD0F-17FE1D822D00.der\n",
      "Creating PEM: data/poc/rsa_signing-request_201204F0-9E62-4189-953B-0AB1DD04FF27.pem\n",
      "Creating DER: data/poc/rsa_signing-request_201204F0-9E62-4189-953B-0AB1DD04FF27.der\n",
      "Creating PEM: data/poc/rsa_signing-request_2A1C1D8E-13F8-45FB-8E8F-E26E1406BEE4.pem\n",
      "Creating DER: data/poc/rsa_signing-request_2A1C1D8E-13F8-45FB-8E8F-E26E1406BEE4.der\n",
      "\n",
      "RSA Signing Requests:\n",
      "-rw-r--r--@ 1   675 Sep 20 12:43 data/poc/rsa_signing-request_09D0A34B-D935-48DC-AD0F-17FE1D822D00.der\n",
      "-rw-r--r--@ 1   985 Sep 20 12:43 data/poc/rsa_signing-request_09D0A34B-D935-48DC-AD0F-17FE1D822D00.pem\n",
      "-rw-r--r--@ 1   675 Sep 20 12:43 data/poc/rsa_signing-request_201204F0-9E62-4189-953B-0AB1DD04FF27.der\n",
      "-rw-r--r--@ 1   985 Sep 20 12:43 data/poc/rsa_signing-request_201204F0-9E62-4189-953B-0AB1DD04FF27.pem\n",
      "-rw-r--r--@ 1   675 Sep 20 12:43 data/poc/rsa_signing-request_2796EE12-D685-43CE-AB7C-2A8D0313ECBD.der\n",
      "-rw-r--r--@ 1   985 Sep 20 12:43 data/poc/rsa_signing-request_2796EE12-D685-43CE-AB7C-2A8D0313ECBD.pem\n",
      "-rw-r--r--@ 1   675 Sep 20 12:43 data/poc/rsa_signing-request_2A1C1D8E-13F8-45FB-8E8F-E26E1406BEE4.der\n",
      "-rw-r--r--@ 1   985 Sep 20 12:43 data/poc/rsa_signing-request_2A1C1D8E-13F8-45FB-8E8F-E26E1406BEE4.pem\n",
      "-rw-r--r--@ 1   675 Sep 20 12:43 data/poc/rsa_signing-request_5369DFF0-A7E7-476A-8EF8-0829EFD2BF64.der\n",
      "-rw-r--r--@ 1   985 Sep 20 12:43 data/poc/rsa_signing-request_5369DFF0-A7E7-476A-8EF8-0829EFD2BF64.pem\n",
      "\n",
      "RSA File Types:\n",
      "data/poc/rsa_signing-request_09D0A34B-D935-48DC-AD0F-17FE1D822D00.der: DER Encoded Certificate request\n",
      "data/poc/rsa_signing-request_09D0A34B-D935-48DC-AD0F-17FE1D822D00.pem: PEM certificate request\n",
      "data/poc/rsa_signing-request_201204F0-9E62-4189-953B-0AB1DD04FF27.der: DER Encoded Certificate request\n",
      "data/poc/rsa_signing-request_201204F0-9E62-4189-953B-0AB1DD04FF27.pem: PEM certificate request\n",
      "data/poc/rsa_signing-request_2796EE12-D685-43CE-AB7C-2A8D0313ECBD.der: DER Encoded Certificate request\n",
      "data/poc/rsa_signing-request_2796EE12-D685-43CE-AB7C-2A8D0313ECBD.pem: PEM certificate request\n",
      "data/poc/rsa_signing-request_2A1C1D8E-13F8-45FB-8E8F-E26E1406BEE4.der: DER Encoded Certificate request\n",
      "data/poc/rsa_signing-request_2A1C1D8E-13F8-45FB-8E8F-E26E1406BEE4.pem: PEM certificate request\n",
      "data/poc/rsa_signing-request_5369DFF0-A7E7-476A-8EF8-0829EFD2BF64.der: DER Encoded Certificate request\n",
      "data/poc/rsa_signing-request_5369DFF0-A7E7-476A-8EF8-0829EFD2BF64.pem: PEM certificate request\n",
      "\n",
      "RSA Signing Request Digests (SHA256):\n",
      "9f3f75baae3d9745c1845882e6e4194e0581cd5d5e6e64132f319871a6ecb9e2  data/poc/rsa_signing-request_09D0A34B-D935-48DC-AD0F-17FE1D822D00.der\n",
      "ed0af60ac24d45a33a1626939f88dbea2d8d355db0da4c5afa11743913470ad4  data/poc/rsa_signing-request_201204F0-9E62-4189-953B-0AB1DD04FF27.der\n",
      "dfd33ec564021427cd3daac81fcf0516f07925b6bdc6dab257a7d91848644fff  data/poc/rsa_signing-request_2796EE12-D685-43CE-AB7C-2A8D0313ECBD.der\n",
      "c987a10499d93b0e5d727b56c9b12ee3ea60f629d08559cf938327c47b547471  data/poc/rsa_signing-request_2A1C1D8E-13F8-45FB-8E8F-E26E1406BEE4.der\n",
      "9cb982cd4d66a29ce95b9cb29a1fef9bf5d1ea47787efcd6ebe5f11f8107179a  data/poc/rsa_signing-request_5369DFF0-A7E7-476A-8EF8-0829EFD2BF64.der\n",
      "---\n",
      "69d86afa1a9b43c4cf38a93bd56db00f55f285b23122cb52110b0eb5f1170233  data/poc/rsa_signing-request_09D0A34B-D935-48DC-AD0F-17FE1D822D00.pem\n",
      "4eb7327c06c608eb0cef8bb2fc0fe99cfc0cf31f3d6a8d1d2e5851d580937d4a  data/poc/rsa_signing-request_201204F0-9E62-4189-953B-0AB1DD04FF27.pem\n",
      "2a90392a63bdb849ec25dd816ea91969741d6d62b41a99f64721e2c151391443  data/poc/rsa_signing-request_2796EE12-D685-43CE-AB7C-2A8D0313ECBD.pem\n",
      "60911d1b5df92ae2c26b039f8db3ac532302be4e443f4cfd59fab8ce10d31a1c  data/poc/rsa_signing-request_2A1C1D8E-13F8-45FB-8E8F-E26E1406BEE4.pem\n",
      "ea03ad517c4cfb2e581836e631783acd508be1cd1b5a0dc6400a34dfe85b2b30  data/poc/rsa_signing-request_5369DFF0-A7E7-476A-8EF8-0829EFD2BF64.pem\n",
      "\n"
     ]
    }
   ],
   "source": [
    "%%bash\n",
    "FOLDER=\"data/poc\"\n",
    "RSA_PRIVATE_KEY_PEM=\"${FOLDER}/rsa_private-key.pem\"\n",
    "MAX_SIGNING_REQUESTS=5\n",
    "\n",
    "echo \"Environment:\"\n",
    "echo \"  Signing Request Count: ${MAX_SIGNING_REQUESTS}\"\n",
    "echo \"\"\n",
    "\n",
    "for ((i=1; i<=\"${MAX_SIGNING_REQUESTS}\"; i++)); do\n",
    "    GUID=$(uuidgen)\n",
    "    RSA_SIGNING_REQUEST_PEM=\"${FOLDER}/rsa_signing-request_${GUID}.pem\"\n",
    "    RSA_SIGNING_REQUEST_DER=\"${FOLDER}/rsa_signing-request_${GUID}.der\"\n",
    "    \n",
    "    # creates PEM signing request\n",
    "    echo \"Creating PEM: ${RSA_SIGNING_REQUEST_PEM}\"\n",
    "    openssl req -new -sha256 -inform pem -key \"${RSA_PRIVATE_KEY_PEM}\" \\\n",
    "      -outform pem -out \"${RSA_SIGNING_REQUEST_PEM}\" -subj \"/O=WARNING\\: PRIVATE KEY MADE PUBLIC/CN=${GUID}\"\n",
    "\n",
    "    # converts PEM to DER signing request\n",
    "    echo \"Creating DER: ${RSA_SIGNING_REQUEST_DER}\"\n",
    "    openssl req -inform PEM -in \"${RSA_SIGNING_REQUEST_PEM}\" \\\n",
    "      -outform DER -out \"${RSA_SIGNING_REQUEST_DER}\"\n",
    "\n",
    "done\n",
    "echo \"\"\n",
    "\n",
    "echo \"RSA Signing Requests:\"\n",
    "ls -l -go \"${FOLDER}\"/rsa_signing-request*\n",
    "echo \"\"\n",
    "\n",
    "echo \"RSA File Types:\"\n",
    "file \"${FOLDER}\"/rsa_signing-request*\n",
    "echo \"\"\n",
    "\n",
    "echo \"RSA Signing Request Digests (SHA256):\"\n",
    "sha256sum \"${FOLDER}\"/rsa_signing-request*.der\n",
    "echo \"---\"\n",
    "sha256sum \"${FOLDER}\"/rsa_signing-request*.pem\n",
    "echo \"\"\n"
   ]
  },
  {
   "attachments": {},
   "cell_type": "markdown",
   "metadata": {},
   "source": [
    "### Self-Sign RSA Signing Requests\n",
    "\n",
    "Using the single private key, we can self-sign each of the signing requests to create a completed signed certificate for analysis.  For added variability with our certificates, each has a unique validity duration."
   ]
  },
  {
   "cell_type": "code",
   "execution_count": 10,
   "metadata": {
    "vscode": {
     "languageId": "shellscript"
    }
   },
   "outputs": [
    {
     "name": "stdout",
     "output_type": "stream",
     "text": [
      "Creating Self-Signed PEM: data/poc/rsa_self-signed-public-key_09D0A34B-D935-48DC-AD0F-17FE1D822D00.pem\n"
     ]
    },
    {
     "name": "stderr",
     "output_type": "stream",
     "text": [
      "Certificate request self-signature ok\n",
      "subject=O=WARNING: PRIVATE KEY MADE PUBLIC, CN=09D0A34B-D935-48DC-AD0F-17FE1D822D00\n"
     ]
    },
    {
     "name": "stdout",
     "output_type": "stream",
     "text": [
      "Converting PEM to DER: data/poc/rsa_self-signed-public-key_09D0A34B-D935-48DC-AD0F-17FE1D822D00.der\n",
      "\n",
      "Creating Self-Signed PEM: data/poc/rsa_self-signed-public-key_201204F0-9E62-4189-953B-0AB1DD04FF27.pem\n"
     ]
    },
    {
     "name": "stderr",
     "output_type": "stream",
     "text": [
      "Certificate request self-signature ok\n",
      "subject=O=WARNING: PRIVATE KEY MADE PUBLIC, CN=201204F0-9E62-4189-953B-0AB1DD04FF27\n"
     ]
    },
    {
     "name": "stdout",
     "output_type": "stream",
     "text": [
      "Converting PEM to DER: data/poc/rsa_self-signed-public-key_201204F0-9E62-4189-953B-0AB1DD04FF27.der\n",
      "\n",
      "Creating Self-Signed PEM: data/poc/rsa_self-signed-public-key_2796EE12-D685-43CE-AB7C-2A8D0313ECBD.pem\n"
     ]
    },
    {
     "name": "stderr",
     "output_type": "stream",
     "text": [
      "Certificate request self-signature ok\n",
      "subject=O=WARNING: PRIVATE KEY MADE PUBLIC, CN=2796EE12-D685-43CE-AB7C-2A8D0313ECBD\n"
     ]
    },
    {
     "name": "stdout",
     "output_type": "stream",
     "text": [
      "Converting PEM to DER: data/poc/rsa_self-signed-public-key_2796EE12-D685-43CE-AB7C-2A8D0313ECBD.der\n",
      "\n",
      "Creating Self-Signed PEM: data/poc/rsa_self-signed-public-key_2A1C1D8E-13F8-45FB-8E8F-E26E1406BEE4.pem\n"
     ]
    },
    {
     "name": "stderr",
     "output_type": "stream",
     "text": [
      "Certificate request self-signature ok\n",
      "subject=O=WARNING: PRIVATE KEY MADE PUBLIC, CN=2A1C1D8E-13F8-45FB-8E8F-E26E1406BEE4\n"
     ]
    },
    {
     "name": "stdout",
     "output_type": "stream",
     "text": [
      "Converting PEM to DER: data/poc/rsa_self-signed-public-key_2A1C1D8E-13F8-45FB-8E8F-E26E1406BEE4.der\n",
      "\n",
      "Creating Self-Signed PEM: data/poc/rsa_self-signed-public-key_5369DFF0-A7E7-476A-8EF8-0829EFD2BF64.pem\n"
     ]
    },
    {
     "name": "stderr",
     "output_type": "stream",
     "text": [
      "Certificate request self-signature ok\n",
      "subject=O=WARNING: PRIVATE KEY MADE PUBLIC, CN=5369DFF0-A7E7-476A-8EF8-0829EFD2BF64\n"
     ]
    },
    {
     "name": "stdout",
     "output_type": "stream",
     "text": [
      "Converting PEM to DER: data/poc/rsa_self-signed-public-key_5369DFF0-A7E7-476A-8EF8-0829EFD2BF64.der\n",
      "\n",
      "\n",
      "RSA Self-Signed Certificates:\n",
      "-rw-r--r--@ 1    871 Sep 20 12:44 data/poc/rsa_self-signed-public-key_09D0A34B-D935-48DC-AD0F-17FE1D822D00.der\n",
      "-rw-r--r--@ 1   1237 Sep 20 12:44 data/poc/rsa_self-signed-public-key_09D0A34B-D935-48DC-AD0F-17FE1D822D00.pem\n",
      "-rw-r--r--@ 1    871 Sep 20 12:44 data/poc/rsa_self-signed-public-key_201204F0-9E62-4189-953B-0AB1DD04FF27.der\n",
      "-rw-r--r--@ 1   1237 Sep 20 12:44 data/poc/rsa_self-signed-public-key_201204F0-9E62-4189-953B-0AB1DD04FF27.pem\n",
      "-rw-r--r--@ 1    871 Sep 20 12:44 data/poc/rsa_self-signed-public-key_2796EE12-D685-43CE-AB7C-2A8D0313ECBD.der\n",
      "-rw-r--r--@ 1   1237 Sep 20 12:44 data/poc/rsa_self-signed-public-key_2796EE12-D685-43CE-AB7C-2A8D0313ECBD.pem\n",
      "-rw-r--r--@ 1    871 Sep 20 12:44 data/poc/rsa_self-signed-public-key_2A1C1D8E-13F8-45FB-8E8F-E26E1406BEE4.der\n",
      "-rw-r--r--@ 1   1237 Sep 20 12:44 data/poc/rsa_self-signed-public-key_2A1C1D8E-13F8-45FB-8E8F-E26E1406BEE4.pem\n",
      "-rw-r--r--@ 1    871 Sep 20 12:44 data/poc/rsa_self-signed-public-key_5369DFF0-A7E7-476A-8EF8-0829EFD2BF64.der\n",
      "-rw-r--r--@ 1   1237 Sep 20 12:44 data/poc/rsa_self-signed-public-key_5369DFF0-A7E7-476A-8EF8-0829EFD2BF64.pem\n",
      "\n",
      "RSA Self-Signed Certificate File Types:\n",
      "data/poc/rsa_self-signed-public-key_09D0A34B-D935-48DC-AD0F-17FE1D822D00.der: Certificate, Version=3\n",
      "data/poc/rsa_self-signed-public-key_09D0A34B-D935-48DC-AD0F-17FE1D822D00.pem: PEM certificate\n",
      "data/poc/rsa_self-signed-public-key_201204F0-9E62-4189-953B-0AB1DD04FF27.der: Certificate, Version=3\n",
      "data/poc/rsa_self-signed-public-key_201204F0-9E62-4189-953B-0AB1DD04FF27.pem: PEM certificate\n",
      "data/poc/rsa_self-signed-public-key_2796EE12-D685-43CE-AB7C-2A8D0313ECBD.der: Certificate, Version=3\n",
      "data/poc/rsa_self-signed-public-key_2796EE12-D685-43CE-AB7C-2A8D0313ECBD.pem: PEM certificate\n",
      "data/poc/rsa_self-signed-public-key_2A1C1D8E-13F8-45FB-8E8F-E26E1406BEE4.der: Certificate, Version=3\n",
      "data/poc/rsa_self-signed-public-key_2A1C1D8E-13F8-45FB-8E8F-E26E1406BEE4.pem: PEM certificate\n",
      "data/poc/rsa_self-signed-public-key_5369DFF0-A7E7-476A-8EF8-0829EFD2BF64.der: Certificate, Version=3\n",
      "data/poc/rsa_self-signed-public-key_5369DFF0-A7E7-476A-8EF8-0829EFD2BF64.pem: PEM certificate\n",
      "\n",
      "RSA Self-Signed Certificate Digests (SHA256):\n",
      "df01634a658e95bb17a250e46335b2f436c0b87522c6d414becf0510d3da00c2  data/poc/rsa_self-signed-public-key_09D0A34B-D935-48DC-AD0F-17FE1D822D00.der\n",
      "ac8204fcf6fabd40b0c0da03991ce776ca11d2c76e7be4d833ed6a1da899d1c2  data/poc/rsa_self-signed-public-key_201204F0-9E62-4189-953B-0AB1DD04FF27.der\n",
      "cd32666f712a104be1cde50fcc109b0a87e651355fb1110273798f7c88f85538  data/poc/rsa_self-signed-public-key_2796EE12-D685-43CE-AB7C-2A8D0313ECBD.der\n",
      "894a054992b34eeffc7f7f31644299bb143b4bc73b9a0bad6c747d87fedd0d0c  data/poc/rsa_self-signed-public-key_2A1C1D8E-13F8-45FB-8E8F-E26E1406BEE4.der\n",
      "2e5600877faab408bd02de5bb8efdb02235c16112b68af3d5957cd4d2dd2119a  data/poc/rsa_self-signed-public-key_5369DFF0-A7E7-476A-8EF8-0829EFD2BF64.der\n",
      "---\n",
      "fab5a5cdbd5d0155d682c29d31e3a7bafe2b767f7b483af65e3eae72642faf4d  data/poc/rsa_self-signed-public-key_09D0A34B-D935-48DC-AD0F-17FE1D822D00.pem\n",
      "2175351101f9acf735ca4c2ec83c8c99f0e01f5016fb0edf8f5a7ea652274de7  data/poc/rsa_self-signed-public-key_201204F0-9E62-4189-953B-0AB1DD04FF27.pem\n",
      "393ca0d16c0b33eac98aa8eb4764b405f744d65b8c342b4ac8e2d695205fe118  data/poc/rsa_self-signed-public-key_2796EE12-D685-43CE-AB7C-2A8D0313ECBD.pem\n",
      "275e8e6304210310d53746b09601120371044899ddf0f6ff1008c8763ede1019  data/poc/rsa_self-signed-public-key_2A1C1D8E-13F8-45FB-8E8F-E26E1406BEE4.pem\n",
      "08e62983c9e363386d861cee863d43a452735f1465511b9e5b25f9953dca14ea  data/poc/rsa_self-signed-public-key_5369DFF0-A7E7-476A-8EF8-0829EFD2BF64.pem\n",
      "\n"
     ]
    }
   ],
   "source": [
    "%%bash\n",
    "FOLDER=\"data/poc\"\n",
    "RSA_PRIVATE_KEY_PEM=\"${FOLDER}/rsa_private-key.pem\"\n",
    "VALIDITY_DURATION=30\n",
    "VALIDITY_INCREMENT=10\n",
    "\n",
    "for RSA_SIGNING_REQUEST_PEM in \"${FOLDER}\"/rsa_signing-request_*.pem; do\n",
    "    VALIDITY_DURATION=$((VALIDITY_DURATION+VALIDITY_INCREMENT))\n",
    "    GUID=$(openssl req -noout -in \"${RSA_SIGNING_REQUEST_PEM}\" -subject | awk -F 'CN=' '{print $2}')\n",
    "    RSA_SELF_SIGNED_PUBLIC_KEY_PEM=\"${FOLDER}/rsa_self-signed-public-key_${GUID}.pem\" \n",
    "    RSA_SELF_SIGNED_PUBLIC_KEY_DER=\"${FOLDER}/rsa_self-signed-public-key_${GUID}.der\"  \n",
    "\n",
    "    # creating PEM signed certificate\n",
    "    echo \"Creating Self-Signed PEM: ${RSA_SELF_SIGNED_PUBLIC_KEY_PEM}\"\n",
    "    openssl x509 -req -sha256 -days ${VALIDITY_DURATION} \\\n",
    "        -keyform PEM -signkey \"${RSA_PRIVATE_KEY_PEM}\" \\\n",
    "        -inform PEM -in \"${RSA_SIGNING_REQUEST_PEM}\" \\\n",
    "        -outform PEM -out \"${RSA_SELF_SIGNED_PUBLIC_KEY_PEM}\"\n",
    "\n",
    "    # converting PEM to DER\n",
    "    echo \"Converting PEM to DER: ${RSA_SELF_SIGNED_PUBLIC_KEY_DER}\"\n",
    "    openssl x509 -inform PEM -in \"${RSA_SELF_SIGNED_PUBLIC_KEY_PEM}\" \\\n",
    "        -outform DER -out \"${RSA_SELF_SIGNED_PUBLIC_KEY_DER}\"\n",
    "    echo \"\"\n",
    "done\n",
    "echo \"\"\n",
    "\n",
    "echo \"RSA Self-Signed Certificates:\"\n",
    "ls -l -go \"${FOLDER}\"/rsa_self-signed-public-key*\n",
    "echo \"\"\n",
    "\n",
    "echo \"RSA Self-Signed Certificate File Types:\"\n",
    "file \"${FOLDER}\"/rsa_self-signed-public-key*\n",
    "echo \"\"\n",
    "\n",
    "echo \"RSA Self-Signed Certificate Digests (SHA256):\"\n",
    "sha256sum \"${FOLDER}\"/rsa_self-signed-public-key*.der\n",
    "echo \"---\"\n",
    "sha256sum \"${FOLDER}\"/rsa_self-signed-public-key*.pem\n",
    "echo \"\"\n"
   ]
  },
  {
   "attachments": {},
   "cell_type": "markdown",
   "metadata": {},
   "source": [
    "### Display Certificate Details (Briefly)\n",
    "\n",
    "Confirming our certificates have unique names and validity periods."
   ]
  },
  {
   "cell_type": "code",
   "execution_count": 11,
   "metadata": {
    "vscode": {
     "languageId": "shellscript"
    }
   },
   "outputs": [
    {
     "name": "stdout",
     "output_type": "stream",
     "text": [
      "Basic Certificate Details:\n",
      "--------------------------------------------\n",
      "subject=O=WARNING: PRIVATE KEY MADE PUBLIC, CN=09D0A34B-D935-48DC-AD0F-17FE1D822D00\n",
      "serial=42B721D65893A0A0746727BBF613FBB74D549388\n",
      "notBefore=Sep 20 16:44:22 2024 GMT\n",
      "notAfter=Oct 30 16:44:22 2024 GMT\n",
      "--------------------------------------------\n",
      "subject=O=WARNING: PRIVATE KEY MADE PUBLIC, CN=201204F0-9E62-4189-953B-0AB1DD04FF27\n",
      "serial=7B33A3A4996E8C9A107DE95C4DFE1214E59B0ECB\n",
      "notBefore=Sep 20 16:44:22 2024 GMT\n",
      "notAfter=Nov  9 16:44:22 2024 GMT\n",
      "--------------------------------------------\n",
      "subject=O=WARNING: PRIVATE KEY MADE PUBLIC, CN=2796EE12-D685-43CE-AB7C-2A8D0313ECBD\n",
      "serial=5B035CD395BDBE114EBAF181F934425CFE8D25C2\n",
      "notBefore=Sep 20 16:44:22 2024 GMT\n",
      "notAfter=Nov 19 16:44:22 2024 GMT\n",
      "--------------------------------------------\n",
      "subject=O=WARNING: PRIVATE KEY MADE PUBLIC, CN=2A1C1D8E-13F8-45FB-8E8F-E26E1406BEE4\n",
      "serial=55F7726B9865830DE41CC45BA1CB336042AD9E4D\n",
      "notBefore=Sep 20 16:44:22 2024 GMT\n",
      "notAfter=Nov 29 16:44:22 2024 GMT\n",
      "--------------------------------------------\n",
      "subject=O=WARNING: PRIVATE KEY MADE PUBLIC, CN=5369DFF0-A7E7-476A-8EF8-0829EFD2BF64\n",
      "serial=125408EB1638CF8395EFCD13E72E9D908D79FB76\n",
      "notBefore=Sep 20 16:44:22 2024 GMT\n",
      "notAfter=Dec  9 16:44:22 2024 GMT\n",
      "\n"
     ]
    }
   ],
   "source": [
    "%%bash\n",
    "FOLDER=\"data/poc\"\n",
    "\n",
    "# from signed certificates\n",
    "echo \"Basic Certificate Details:\"\n",
    "for RSA_SELF_SIGNED_PUBLIC_KEY_PEM in \"${FOLDER}\"/rsa_self-signed-public-key*.pem; do\n",
    "    echo \"--------------------------------------------\"\n",
    "    openssl x509 -noout -in \"${RSA_SELF_SIGNED_PUBLIC_KEY_PEM}\" \\\n",
    "        -subject -serial -startdate -enddate\n",
    "done\n",
    "echo \"\""
   ]
  },
  {
   "attachments": {},
   "cell_type": "markdown",
   "metadata": {},
   "source": [
    "### Extract RSA SubjectPublicKeyInfo\n",
    "\n",
    "We already derived the raw public key material earlier by accessing the private key for this information.  Here, we'll shift our focus to both the signing requests and self-signed certificates for analysis.\n",
    "\n",
    "First, we'll access the signing requests to extract the `SubjectPublicKeyInfo` data and convert it to DER (binary) format.  Then we'll access each self-signed certificate to perform a similar action.\n",
    "\n",
    "> Note: when using the `-pubkey` option, the output will often contain two sections, in ASCII format, defining the `PUBLIC KEY` and `CERTIFICATE REQUEST`.  We use `sed` to parse out only the `PUBLIC KEY` portion of this output."
   ]
  },
  {
   "cell_type": "code",
   "execution_count": 12,
   "metadata": {
    "vscode": {
     "languageId": "shellscript"
    }
   },
   "outputs": [
    {
     "name": "stdout",
     "output_type": "stream",
     "text": [
      "Extracting the SubjectPublicKeyInfo from RSA Signing Requests:\n",
      "--------------------------------------------\n",
      "Creating Public Key Info PEM: data/poc/rsa_public-key-info_via_signing-request_09D0A34B-D935-48DC-AD0F-17FE1D822D00.pem\n",
      "Converting PEM to DER: data/poc/rsa_public-key-info_via_signing-request_09D0A34B-D935-48DC-AD0F-17FE1D822D00.der\n",
      "    0:d=0  hl=4 l= 290 cons: SEQUENCE          \n",
      "    4:d=1  hl=2 l=  13 cons: SEQUENCE          \n",
      "    6:d=2  hl=2 l=   9 prim: OBJECT            :rsaEncryption\n",
      "   17:d=2  hl=2 l=   0 prim: NULL              \n",
      "   19:d=1  hl=4 l= 271 prim: BIT STRING        \n",
      "\n",
      "Creating Public Key Info PEM: data/poc/rsa_public-key-info_via_signing-request_201204F0-9E62-4189-953B-0AB1DD04FF27.pem\n",
      "Converting PEM to DER: data/poc/rsa_public-key-info_via_signing-request_201204F0-9E62-4189-953B-0AB1DD04FF27.der\n",
      "    0:d=0  hl=4 l= 290 cons: SEQUENCE          \n",
      "    4:d=1  hl=2 l=  13 cons: SEQUENCE          \n",
      "    6:d=2  hl=2 l=   9 prim: OBJECT            :rsaEncryption\n",
      "   17:d=2  hl=2 l=   0 prim: NULL              \n",
      "   19:d=1  hl=4 l= 271 prim: BIT STRING        \n",
      "\n",
      "Creating Public Key Info PEM: data/poc/rsa_public-key-info_via_signing-request_2796EE12-D685-43CE-AB7C-2A8D0313ECBD.pem\n",
      "Converting PEM to DER: data/poc/rsa_public-key-info_via_signing-request_2796EE12-D685-43CE-AB7C-2A8D0313ECBD.der\n",
      "    0:d=0  hl=4 l= 290 cons: SEQUENCE          \n",
      "    4:d=1  hl=2 l=  13 cons: SEQUENCE          \n",
      "    6:d=2  hl=2 l=   9 prim: OBJECT            :rsaEncryption\n",
      "   17:d=2  hl=2 l=   0 prim: NULL              \n",
      "   19:d=1  hl=4 l= 271 prim: BIT STRING        \n",
      "\n",
      "Creating Public Key Info PEM: data/poc/rsa_public-key-info_via_signing-request_2A1C1D8E-13F8-45FB-8E8F-E26E1406BEE4.pem\n",
      "Converting PEM to DER: data/poc/rsa_public-key-info_via_signing-request_2A1C1D8E-13F8-45FB-8E8F-E26E1406BEE4.der\n",
      "    0:d=0  hl=4 l= 290 cons: SEQUENCE          \n",
      "    4:d=1  hl=2 l=  13 cons: SEQUENCE          \n",
      "    6:d=2  hl=2 l=   9 prim: OBJECT            :rsaEncryption\n",
      "   17:d=2  hl=2 l=   0 prim: NULL              \n",
      "   19:d=1  hl=4 l= 271 prim: BIT STRING        \n",
      "\n",
      "Creating Public Key Info PEM: data/poc/rsa_public-key-info_via_signing-request_5369DFF0-A7E7-476A-8EF8-0829EFD2BF64.pem\n",
      "Converting PEM to DER: data/poc/rsa_public-key-info_via_signing-request_5369DFF0-A7E7-476A-8EF8-0829EFD2BF64.der\n",
      "    0:d=0  hl=4 l= 290 cons: SEQUENCE          \n",
      "    4:d=1  hl=2 l=  13 cons: SEQUENCE          \n",
      "    6:d=2  hl=2 l=   9 prim: OBJECT            :rsaEncryption\n",
      "   17:d=2  hl=2 l=   0 prim: NULL              \n",
      "   19:d=1  hl=4 l= 271 prim: BIT STRING        \n",
      "\n",
      "\n",
      "Extracting the SubjectPublicKeyInfo from RSA Self-Signed Certificates:\n",
      "--------------------------------------------\n",
      "Creating Public Key Info PEM: data/poc/rsa_public-key-info_via_self-signed_09D0A34B-D935-48DC-AD0F-17FE1D822D00.pem\n",
      "Converting PEM to DER: data/poc/rsa_public-key-info_via_self-signed_09D0A34B-D935-48DC-AD0F-17FE1D822D00.der\n",
      "    0:d=0  hl=4 l= 290 cons: SEQUENCE          \n",
      "    4:d=1  hl=2 l=  13 cons: SEQUENCE          \n",
      "    6:d=2  hl=2 l=   9 prim: OBJECT            :rsaEncryption\n",
      "   17:d=2  hl=2 l=   0 prim: NULL              \n",
      "   19:d=1  hl=4 l= 271 prim: BIT STRING        \n",
      "\n",
      "Creating Public Key Info PEM: data/poc/rsa_public-key-info_via_self-signed_201204F0-9E62-4189-953B-0AB1DD04FF27.pem\n",
      "Converting PEM to DER: data/poc/rsa_public-key-info_via_self-signed_201204F0-9E62-4189-953B-0AB1DD04FF27.der\n",
      "    0:d=0  hl=4 l= 290 cons: SEQUENCE          \n",
      "    4:d=1  hl=2 l=  13 cons: SEQUENCE          \n",
      "    6:d=2  hl=2 l=   9 prim: OBJECT            :rsaEncryption\n",
      "   17:d=2  hl=2 l=   0 prim: NULL              \n",
      "   19:d=1  hl=4 l= 271 prim: BIT STRING        \n",
      "\n",
      "Creating Public Key Info PEM: data/poc/rsa_public-key-info_via_self-signed_2796EE12-D685-43CE-AB7C-2A8D0313ECBD.pem\n",
      "Converting PEM to DER: data/poc/rsa_public-key-info_via_self-signed_2796EE12-D685-43CE-AB7C-2A8D0313ECBD.der\n",
      "    0:d=0  hl=4 l= 290 cons: SEQUENCE          \n",
      "    4:d=1  hl=2 l=  13 cons: SEQUENCE          \n",
      "    6:d=2  hl=2 l=   9 prim: OBJECT            :rsaEncryption\n",
      "   17:d=2  hl=2 l=   0 prim: NULL              \n",
      "   19:d=1  hl=4 l= 271 prim: BIT STRING        \n",
      "\n",
      "Creating Public Key Info PEM: data/poc/rsa_public-key-info_via_self-signed_2A1C1D8E-13F8-45FB-8E8F-E26E1406BEE4.pem\n",
      "Converting PEM to DER: data/poc/rsa_public-key-info_via_self-signed_2A1C1D8E-13F8-45FB-8E8F-E26E1406BEE4.der\n",
      "    0:d=0  hl=4 l= 290 cons: SEQUENCE          \n",
      "    4:d=1  hl=2 l=  13 cons: SEQUENCE          \n",
      "    6:d=2  hl=2 l=   9 prim: OBJECT            :rsaEncryption\n",
      "   17:d=2  hl=2 l=   0 prim: NULL              \n",
      "   19:d=1  hl=4 l= 271 prim: BIT STRING        \n",
      "\n",
      "Creating Public Key Info PEM: data/poc/rsa_public-key-info_via_self-signed_5369DFF0-A7E7-476A-8EF8-0829EFD2BF64.pem\n",
      "Converting PEM to DER: data/poc/rsa_public-key-info_via_self-signed_5369DFF0-A7E7-476A-8EF8-0829EFD2BF64.der\n",
      "    0:d=0  hl=4 l= 290 cons: SEQUENCE          \n",
      "    4:d=1  hl=2 l=  13 cons: SEQUENCE          \n",
      "    6:d=2  hl=2 l=   9 prim: OBJECT            :rsaEncryption\n",
      "   17:d=2  hl=2 l=   0 prim: NULL              \n",
      "   19:d=1  hl=4 l= 271 prim: BIT STRING        \n",
      "\n",
      "\n"
     ]
    }
   ],
   "source": [
    "%%bash\n",
    "FOLDER=\"data/poc\"\n",
    "\n",
    "echo \"Extracting the SubjectPublicKeyInfo from RSA Signing Requests:\"\n",
    "echo \"--------------------------------------------\"\n",
    "# from signing request\n",
    "for RSA_SIGNING_REQUEST_PEM in \"${FOLDER}\"/rsa_signing-request*.pem; do\n",
    "    GUID=$(openssl req -noout -in \"${RSA_SIGNING_REQUEST_PEM}\" -subject | awk -F 'CN=' '{print $2}')\n",
    "    RSA_PUBLIC_KEY_INFO_SIGNING_REQUEST_PEM=\"${FOLDER}/rsa_public-key-info_via_signing-request_${GUID}.pem\" \n",
    "    RSA_PUBLIC_KEY_INFO_SIGNING_REQUEST_DER=\"${FOLDER}/rsa_public-key-info_via_signing-request_${GUID}.der\"  \n",
    "\n",
    "    # creating PEM signed certificate\n",
    "    echo \"Creating Public Key Info PEM: ${RSA_PUBLIC_KEY_INFO_SIGNING_REQUEST_PEM}\"\n",
    "    openssl req -pubkey -inform PEM -in \"${RSA_SIGNING_REQUEST_PEM}\" | \\\n",
    "        sed -n '/BEGIN\\ PUBLIC\\ KEY/,/END\\ PUBLIC\\ KEY/p' > \"${RSA_PUBLIC_KEY_INFO_SIGNING_REQUEST_PEM}\"\n",
    "\n",
    "    # converting PEM to DER\n",
    "    echo \"Converting PEM to DER: ${RSA_PUBLIC_KEY_INFO_SIGNING_REQUEST_DER}\"\n",
    "    openssl asn1parse -inform PEM -in \"${RSA_PUBLIC_KEY_INFO_SIGNING_REQUEST_PEM}\" -out \"${RSA_PUBLIC_KEY_INFO_SIGNING_REQUEST_DER}\"\n",
    "    echo \"\"\n",
    "done\n",
    "echo \"\"\n",
    "\n",
    "echo \"Extracting the SubjectPublicKeyInfo from RSA Self-Signed Certificates:\"\n",
    "echo \"--------------------------------------------\"\n",
    "# from self-signed public key\n",
    "for RSA_SELF_SIGNED_PUBLIC_KEY_PEM in \"${FOLDER}\"/rsa_self-signed-public-key*.pem; do\n",
    "    GUID=$(openssl x509 -noout -in \"${RSA_SELF_SIGNED_PUBLIC_KEY_PEM}\" -subject | awk -F 'CN=' '{print $2}')\n",
    "    RSA_PUBLIC_KEY_INFO_SELF_SIGNED_PEM=\"${FOLDER}/rsa_public-key-info_via_self-signed_${GUID}.pem\" \n",
    "    RSA_PUBLIC_KEY_INFO_SELF_SIGNED_DER=\"${FOLDER}/rsa_public-key-info_via_self-signed_${GUID}.der\"  \n",
    "\n",
    "    # creating PEM signed certificate\n",
    "    echo \"Creating Public Key Info PEM: ${RSA_PUBLIC_KEY_INFO_SELF_SIGNED_PEM}\"\n",
    "    openssl x509 -pubkey -inform PEM -in \"${RSA_SELF_SIGNED_PUBLIC_KEY_PEM}\" | \\\n",
    "        sed -n '/BEGIN\\ PUBLIC\\ KEY/,/END\\ PUBLIC\\ KEY/p' > \"${RSA_PUBLIC_KEY_INFO_SELF_SIGNED_PEM}\"\n",
    "\n",
    "    # converting PEM to DER\n",
    "    echo \"Converting PEM to DER: ${RSA_PUBLIC_KEY_INFO_SELF_SIGNED_DER}\"\n",
    "    openssl asn1parse -inform PEM -in \"${RSA_PUBLIC_KEY_INFO_SELF_SIGNED_PEM}\" -out \"${RSA_PUBLIC_KEY_INFO_SELF_SIGNED_DER}\"\n",
    "    echo \"\"\n",
    "done\n",
    "echo \"\"\n"
   ]
  },
  {
   "attachments": {},
   "cell_type": "markdown",
   "metadata": {},
   "source": [
    "### Compare PublicKeyInfo Digests\n",
    "\n",
    "In summary, we've performed the following actions:\n",
    "1. Derived the public key from a single private key \n",
    "<br>(see `*public-key-info_via_private_key*.der`).\n",
    "2. Extracted the public key material from multiple certificate signing requests\n",
    "<br>(see `*public-key-info_via_signing-request*.der`).\n",
    "3. Extracted the public key material from multiple self-signed certificates \n",
    "<br>(see `*public-key-info_via_self-signed*.der`).\n",
    "\n",
    "Do we have message digests which match across all these different exports?\n",
    "\n",
    "> Note 1: If you do not see the results you expect, make sure you are [Erase All RSA Key Data](#Erase-All-RSA-Key-Data) between test runs.\n",
    "\n",
    "If you want more samples, then follow these steps without erasing or resetting the RSA data.\n",
    "1. Run [Generate RSA Signing Requests](#generate-rsa-signing-requests) multiple times.  e.g. 4 more times for a total of 25 signing requests.\n",
    "2. Run [Self-Sign RSA Signing Requests](#self-sign-rsa-signing-requests) just once.  \n",
    "3. Run [Extract RSA SubjectPublicKeyInfo](#extract-rsa-subjectpublickeyinfo) just once.\n",
    "4. Run this cell again."
   ]
  },
  {
   "cell_type": "code",
   "execution_count": 13,
   "metadata": {
    "vscode": {
     "languageId": "shellscript"
    }
   },
   "outputs": [
    {
     "name": "stdout",
     "output_type": "stream",
     "text": [
      "Summary of Unique RSA Key Data:\n",
      "   Signed Certificates: 5\n",
      "  SubjectPublicKeyInfo: 1\n",
      "\n",
      "Certificate (DER) Digests (SHA256):\n",
      "df01634a658e95bb17a250e46335b2f436c0b87522c6d414becf0510d3da00c2  data/poc/rsa_self-signed-public-key_09D0A34B-D935-48DC-AD0F-17FE1D822D00.der\n",
      "ac8204fcf6fabd40b0c0da03991ce776ca11d2c76e7be4d833ed6a1da899d1c2  data/poc/rsa_self-signed-public-key_201204F0-9E62-4189-953B-0AB1DD04FF27.der\n",
      "cd32666f712a104be1cde50fcc109b0a87e651355fb1110273798f7c88f85538  data/poc/rsa_self-signed-public-key_2796EE12-D685-43CE-AB7C-2A8D0313ECBD.der\n",
      "894a054992b34eeffc7f7f31644299bb143b4bc73b9a0bad6c747d87fedd0d0c  data/poc/rsa_self-signed-public-key_2A1C1D8E-13F8-45FB-8E8F-E26E1406BEE4.der\n",
      "2e5600877faab408bd02de5bb8efdb02235c16112b68af3d5957cd4d2dd2119a  data/poc/rsa_self-signed-public-key_5369DFF0-A7E7-476A-8EF8-0829EFD2BF64.der\n",
      "\n",
      "SubjectPublicKeyInfo Digests (SHA256):\n",
      "[SubjectPublicKeyInfo derived from the Private Key]\n",
      "aba9c431a648c00bbc69fa0df9394bb701e9771413f1d0e86866c29dc4eac72d  data/poc/rsa_public-key-info_via_private-key_pkey.der\n",
      "aba9c431a648c00bbc69fa0df9394bb701e9771413f1d0e86866c29dc4eac72d  data/poc/rsa_public-key-info_via_private-key_rsa.der\n",
      "[SubjectPublicKeyInfo extracted from Signing Requests]\n",
      "aba9c431a648c00bbc69fa0df9394bb701e9771413f1d0e86866c29dc4eac72d  data/poc/rsa_public-key-info_via_signing-request_09D0A34B-D935-48DC-AD0F-17FE1D822D00.der\n",
      "aba9c431a648c00bbc69fa0df9394bb701e9771413f1d0e86866c29dc4eac72d  data/poc/rsa_public-key-info_via_signing-request_201204F0-9E62-4189-953B-0AB1DD04FF27.der\n",
      "aba9c431a648c00bbc69fa0df9394bb701e9771413f1d0e86866c29dc4eac72d  data/poc/rsa_public-key-info_via_signing-request_2796EE12-D685-43CE-AB7C-2A8D0313ECBD.der\n",
      "aba9c431a648c00bbc69fa0df9394bb701e9771413f1d0e86866c29dc4eac72d  data/poc/rsa_public-key-info_via_signing-request_2A1C1D8E-13F8-45FB-8E8F-E26E1406BEE4.der\n",
      "aba9c431a648c00bbc69fa0df9394bb701e9771413f1d0e86866c29dc4eac72d  data/poc/rsa_public-key-info_via_signing-request_5369DFF0-A7E7-476A-8EF8-0829EFD2BF64.der\n",
      "[SubjectPublicKeyInfo extracted from Self-Signed Certificates]\n",
      "aba9c431a648c00bbc69fa0df9394bb701e9771413f1d0e86866c29dc4eac72d  data/poc/rsa_public-key-info_via_self-signed_09D0A34B-D935-48DC-AD0F-17FE1D822D00.der\n",
      "aba9c431a648c00bbc69fa0df9394bb701e9771413f1d0e86866c29dc4eac72d  data/poc/rsa_public-key-info_via_self-signed_201204F0-9E62-4189-953B-0AB1DD04FF27.der\n",
      "aba9c431a648c00bbc69fa0df9394bb701e9771413f1d0e86866c29dc4eac72d  data/poc/rsa_public-key-info_via_self-signed_2796EE12-D685-43CE-AB7C-2A8D0313ECBD.der\n",
      "aba9c431a648c00bbc69fa0df9394bb701e9771413f1d0e86866c29dc4eac72d  data/poc/rsa_public-key-info_via_self-signed_2A1C1D8E-13F8-45FB-8E8F-E26E1406BEE4.der\n",
      "aba9c431a648c00bbc69fa0df9394bb701e9771413f1d0e86866c29dc4eac72d  data/poc/rsa_public-key-info_via_self-signed_5369DFF0-A7E7-476A-8EF8-0829EFD2BF64.der\n"
     ]
    }
   ],
   "source": [
    "%%bash\n",
    "FOLDER=\"data/poc\"\n",
    "\n",
    "# basic error checking\n",
    "if ! find \"${FOLDER}\" -type f -name \"rsa_self-signed-public-key*.der\" | grep -q .; then\n",
    "    echo \"WARNING: No RSA Self-Signed Certificates found.\"\n",
    "    echo \"         Please run the previous cells to generate RSA content.\"\n",
    "    exit\n",
    "fi\n",
    "\n",
    "UNIQUE_DER_DIGEST_COUNT=$(sha256sum \"${FOLDER}\"/rsa_self-signed-public-key*.der \\\n",
    "    | awk '{print $1}' | sort | uniq | wc -l | awk '{print $1}')\n",
    "\n",
    "UNIQUE_SPKI_DIGEST_COUNT=$(sha256sum \"${FOLDER}\"/rsa_public-key-info*.der \\\n",
    "    | awk '{print $1}' | sort | uniq | wc -l | awk '{print $1}')\n",
    "\n",
    "# if UNIQUE_SPKI_DIGEST_COUNT greater than 1 then issue a warning\n",
    "if [ \"${UNIQUE_SPKI_DIGEST_COUNT}\" -gt 1 ]; then\n",
    "    echo \"WARNING: Multiple SubjectPublicKeyInfo Digests found.\"\n",
    "    echo \"         Did you forget to erase all key data between runs?\"\n",
    "    echo \"\"\n",
    "fi\n",
    "\n",
    "echo \"Summary of Unique RSA Key Data:\"\n",
    "echo \"   Signed Certificates: ${UNIQUE_DER_DIGEST_COUNT}\"\n",
    "echo \"  SubjectPublicKeyInfo: ${UNIQUE_SPKI_DIGEST_COUNT}\"\n",
    "echo \"\"\n",
    "\n",
    "echo \"Certificate (DER) Digests (SHA256):\"\n",
    "sha256sum \"${FOLDER}\"/rsa_self-signed-public-key*.der\n",
    "echo \"\"\n",
    "\n",
    "echo \"SubjectPublicKeyInfo Digests (SHA256):\"\n",
    "echo \"[SubjectPublicKeyInfo derived from the Private Key]\"\n",
    "sha256sum \"${FOLDER}\"/rsa_public-key-info_via_private-key*.der | sort\n",
    "echo \"[SubjectPublicKeyInfo extracted from Signing Requests]\"\n",
    "sha256sum \"${FOLDER}\"/rsa_public-key-info_via_signing-request*.der | sort\n",
    "echo \"[SubjectPublicKeyInfo extracted from Self-Signed Certificates]\"\n",
    "sha256sum \"${FOLDER}\"/rsa_public-key-info_via_self-signed*.der | sort\n"
   ]
  },
  {
   "attachments": {},
   "cell_type": "markdown",
   "metadata": {},
   "source": [
    "### Erase All RSA Key Data\n",
    "\n",
    "Use this to reset the proof-of-concept data related to RSA key data."
   ]
  },
  {
   "cell_type": "code",
   "execution_count": 1,
   "metadata": {
    "vscode": {
     "languageId": "shellscript"
    }
   },
   "outputs": [],
   "source": [
    "%%bash\n",
    "FOLDER=\"data/poc\"\n",
    "\n",
    "# if folder exists, remove it\n",
    "rm -rf \"${FOLDER}\"/rsa_*"
   ]
  },
  {
   "attachments": {},
   "cell_type": "markdown",
   "metadata": {},
   "source": [
    "## EC\n",
    "\n",
    "Resources:\n",
    "\n",
    "1. [openssl-asn1parse](https://docs.openssl.org/master/man1/openssl-asn1parse/) processing ASN.1 files\n",
    "2. [openssl-ec](https://docs.openssl.org/master/man1/openssl-ec/) generating elliptic curve private keys\n",
    "3. [openssl-pkey](https://docs.openssl.org/master/man1/openssl-pkey/) interacting with private keys\n",
    "4. [openssl-req](https://docs.openssl.org/master/man1/openssl-req/) processing signing-requests\n",
    "5. [openssl-x509](https://docs.openssl.org/master/man1/openssl-x509/) processing X.509 certificates\n"
   ]
  },
  {
   "attachments": {},
   "cell_type": "markdown",
   "metadata": {
    "vscode": {
     "languageId": "shellscript"
    }
   },
   "source": [
    "### Generate EC Private Key\n",
    "\n",
    "For illustration purposes, let us create a single RSA private key. \n",
    "\n",
    "> Warning: Please do not use these keys in any production or live environment as they are intended for demonstration purposes only.  As a _demo_, you have no control over who may have viewed or obtain a copy of this key material making these private keys potentially _public_."
   ]
  },
  {
   "cell_type": "code",
   "execution_count": 14,
   "metadata": {
    "vscode": {
     "languageId": "shellscript"
    }
   },
   "outputs": [
    {
     "name": "stdout",
     "output_type": "stream",
     "text": [
      "Environment:\n",
      "  Working Folder:  'data/poc'\n",
      "  Private Key PEM: 'data/poc/ec_private-key.pem'\n",
      "  Private Key DER: 'data/poc/ec_private-key.der'\n",
      "  Elliptic Curve:  'prime256v1'\n",
      "\n",
      "Generating EC Private Key:\n"
     ]
    },
    {
     "name": "stderr",
     "output_type": "stream",
     "text": [
      "read EC key\n",
      "writing EC key\n"
     ]
    },
    {
     "name": "stdout",
     "output_type": "stream",
     "text": [
      "\n",
      "Files:\n",
      "-rw-------@ 1   121 Sep 20 12:49 data/poc/ec_private-key.der\n",
      "-rw-------@ 1   227 Sep 20 12:49 data/poc/ec_private-key.pem\n",
      "\n",
      "File Types:\n",
      "data/poc/ec_private-key.der: data\n",
      "data/poc/ec_private-key.pem: PEM EC private key\n",
      "\n",
      "File Digests (SHA256):\n",
      "6ecd9efe2772216b19baf6d6f264ab8d125b00a8d25b397305afe6d448483763  data/poc/ec_private-key.der\n",
      "341666e4ecfc81ec67f107395718431c369ec39a6a1f514d4fc9ef6579e82605  data/poc/ec_private-key.pem\n"
     ]
    }
   ],
   "source": [
    "%%bash\n",
    "# preamble\n",
    "FOLDER=\"data/poc\"\n",
    "mkdir -p \"${FOLDER}\"\n",
    "EC_PRIVATE_KEY_PEM=\"${FOLDER}/ec_private-key.pem\"\n",
    "EC_PRIVATE_KEY_DER=\"${FOLDER}/ec_private-key.der\"\n",
    "EC_CURVE=\"prime256v1\" # `prime256v1` and `secp384r1`\n",
    "\n",
    "# validate environment\n",
    "echo \"Environment:\"\n",
    "echo \"  Working Folder:  '${FOLDER}'\"\n",
    "echo \"  Private Key PEM: '${EC_PRIVATE_KEY_PEM}'\"\n",
    "echo \"  Private Key DER: '${EC_PRIVATE_KEY_DER}'\"\n",
    "echo \"  Elliptic Curve:  '${EC_CURVE}'\"\n",
    "echo \"\"\n",
    "\n",
    "# execute\n",
    "echo \"Generating EC Private Key:\"\n",
    "\n",
    "# create the private key in PEM form.\n",
    "openssl ecparam -genkey -name \"${EC_CURVE}\" -noout -out \"${EC_PRIVATE_KEY_PEM}\"\n",
    "\n",
    "# convert private key from PEM (ASCII) to DER (binary)\n",
    "openssl ec -inform pem -in \"${EC_PRIVATE_KEY_PEM}\" -outform der -out \"${EC_PRIVATE_KEY_DER}\"\n",
    "echo \"\"\n",
    "\n",
    "# valdiate result\n",
    "echo \"Files:\"\n",
    "ls -l -go \"${FOLDER}\"/ec_private-key.*\n",
    "echo \"\"\n",
    "\n",
    "echo \"File Types:\"\n",
    "file \"${FOLDER}\"/ec_private-key.*\n",
    "echo \"\"\n",
    "\n",
    "echo \"File Digests (SHA256):\"\n",
    "sha256sum \"${FOLDER}\"/ec_private-key.*\n"
   ]
  },
  {
   "attachments": {},
   "cell_type": "markdown",
   "metadata": {},
   "source": [
    "### Derive the EC Public Key\n",
    "\n",
    "The raw private key material itself does not contain the public key.  However we can derive the cryptographic public key material from the private key using one of the `openssl` command options.  \n",
    "1. `openssl ec -pubout ...`\n",
    "2. `openssl pkey -pubout ...`"
   ]
  },
  {
   "cell_type": "code",
   "execution_count": 15,
   "metadata": {
    "vscode": {
     "languageId": "shellscript"
    }
   },
   "outputs": [
    {
     "name": "stdout",
     "output_type": "stream",
     "text": [
      "Environment:\n",
      "  EC Private Key PEM: 'data/poc/ec_private-key.pem'\n",
      "  EC Private Key DER: 'data/poc/ec_private-key.der'\n",
      "\n",
      "Deriving the EC Public Key using the corresponding Private Key (ec):\n"
     ]
    },
    {
     "name": "stderr",
     "output_type": "stream",
     "text": [
      "read EC key\n",
      "writing EC key\n",
      "read EC key\n",
      "writing EC key\n"
     ]
    },
    {
     "name": "stdout",
     "output_type": "stream",
     "text": [
      "\n",
      "Deriving the EC Public Key using the corresponding Private Key (pkey):\n",
      "\n",
      "EC Files:\n",
      "-rw-r--r--@ 1    91 Sep 20 12:49 data/poc/ec_public-key-info_via_private-key_ec.der\n",
      "-rw-r--r--@ 1   178 Sep 20 12:49 data/poc/ec_public-key-info_via_private-key_ec.pem\n",
      "-rw-r--r--@ 1    91 Sep 20 12:49 data/poc/ec_public-key-info_via_private-key_pkey.der\n",
      "-rw-r--r--@ 1   178 Sep 20 12:49 data/poc/ec_public-key-info_via_private-key_pkey.pem\n",
      "\n",
      "EC File Types:\n",
      "data/poc/ec_public-key-info_via_private-key_ec.der:   data\n",
      "data/poc/ec_public-key-info_via_private-key_ec.pem:   ASCII text\n",
      "data/poc/ec_public-key-info_via_private-key_pkey.der: data\n",
      "data/poc/ec_public-key-info_via_private-key_pkey.pem: ASCII text\n",
      "\n",
      "EC File Digests (SHA256):\n",
      "1d292188d76d595eda2a8a3bddd05fec5e197f59bbe50abc4ae7954746862b37  data/poc/ec_public-key-info_via_private-key_ec.der\n",
      "1d292188d76d595eda2a8a3bddd05fec5e197f59bbe50abc4ae7954746862b37  data/poc/ec_public-key-info_via_private-key_pkey.der\n",
      "---\n",
      "5c8f73adeb13f97b8a2d7ccf33bd9ca1ac7dbe72377dc88e87ed3a94109aac77  data/poc/ec_public-key-info_via_private-key_ec.pem\n",
      "5c8f73adeb13f97b8a2d7ccf33bd9ca1ac7dbe72377dc88e87ed3a94109aac77  data/poc/ec_public-key-info_via_private-key_pkey.pem\n"
     ]
    }
   ],
   "source": [
    "%%bash\n",
    "# preamble\n",
    "FOLDER=\"data/poc\"\n",
    "EC_PRIVATE_KEY_PEM=\"${FOLDER}/ec_private-key.pem\"\n",
    "EC_PRIVATE_KEY_DER=\"${FOLDER}/ec_private-key.der\"\n",
    "\n",
    "# validate environment\n",
    "echo \"Environment:\"\n",
    "echo \"  EC Private Key PEM: '${EC_PRIVATE_KEY_PEM}'\"\n",
    "echo \"  EC Private Key DER: '${EC_PRIVATE_KEY_DER}'\"\n",
    "echo \"\"\n",
    "\n",
    "# execute\n",
    "echo \"Deriving the EC Public Key using the corresponding Private Key (ec):\"\n",
    "openssl ec -pubout -inform PEM -in \"${EC_PRIVATE_KEY_PEM}\" \\\n",
    "    -outform PEM -out \"${FOLDER}/ec_public-key-info_via_private-key_ec.pem\"\n",
    "openssl ec -pubout -inform DER -in \"${EC_PRIVATE_KEY_DER}\" \\\n",
    "    -outform DER -out \"${FOLDER}/ec_public-key-info_via_private-key_ec.der\"\n",
    "echo \"\"\n",
    "\n",
    "echo \"Deriving the EC Public Key using the corresponding Private Key (pkey):\"\n",
    "openssl pkey -pubout -inform PEM -in \"${EC_PRIVATE_KEY_PEM}\" \\\n",
    "    -outform PEM -out \"${FOLDER}\"/ec_public-key-info_via_private-key_pkey.pem\n",
    "openssl pkey -pubout -inform DER -in \"${EC_PRIVATE_KEY_DER}\" \\\n",
    "    -outform DER -out \"${FOLDER}\"/ec_public-key-info_via_private-key_pkey.der\n",
    "echo \"\"\n",
    "\n",
    "# validate results\n",
    "echo \"EC Files:\"\n",
    "ls -l -go \"${FOLDER}\"/ec_public-key-info_via_private-key*\n",
    "echo \"\"\n",
    "\n",
    "echo \"EC File Types:\"\n",
    "file \"${FOLDER}\"/ec_public-key-info_via_private-key*\n",
    "echo \"\"\n",
    "\n",
    "echo \"EC File Digests (SHA256):\"\n",
    "sha256sum \"${FOLDER}\"/ec_public-key-info_via_private-key*.der\n",
    "echo \"---\"\n",
    "sha256sum \"${FOLDER}\"/ec_public-key-info_via_private-key*.pem"
   ]
  },
  {
   "attachments": {},
   "cell_type": "markdown",
   "metadata": {},
   "source": [
    "### Generate EC Signing Requests\n",
    "\n",
    "Our goal is to create multiple unique signed public certificates each based on the single private key we just created.  To begin, we must create a set of _certificate signing requests_, each provided with a unique name.\n",
    "\n",
    "To uniquely identify each signing request (and later the certificate) we apply a unique ID to the request `CommonName` field of the `Subject`."
   ]
  },
  {
   "cell_type": "code",
   "execution_count": 16,
   "metadata": {
    "vscode": {
     "languageId": "shellscript"
    }
   },
   "outputs": [
    {
     "name": "stdout",
     "output_type": "stream",
     "text": [
      "Environment:\n",
      "  Signing Request Count: 5\n",
      "\n"
     ]
    },
    {
     "name": "stdout",
     "output_type": "stream",
     "text": [
      "Creating PEM: data/poc/ec_signing-request_A4080B2A-CA07-4631-AE44-58EBD029A171.pem\n",
      "Creating DER: data/poc/ec_signing-request_A4080B2A-CA07-4631-AE44-58EBD029A171.der\n",
      "Creating PEM: data/poc/ec_signing-request_46159700-E905-4062-993F-7F58175F09AA.pem\n",
      "Creating DER: data/poc/ec_signing-request_46159700-E905-4062-993F-7F58175F09AA.der\n",
      "Creating PEM: data/poc/ec_signing-request_D97D6D32-AD8F-4CE7-92BB-6F822841EA76.pem\n",
      "Creating DER: data/poc/ec_signing-request_D97D6D32-AD8F-4CE7-92BB-6F822841EA76.der\n",
      "Creating PEM: data/poc/ec_signing-request_F36C6183-1CCA-4E4B-99FD-FABBE612B927.pem\n",
      "Creating DER: data/poc/ec_signing-request_F36C6183-1CCA-4E4B-99FD-FABBE612B927.der\n",
      "Creating PEM: data/poc/ec_signing-request_F6930B2C-608D-412E-B5EA-7CB961C71657.pem\n",
      "Creating DER: data/poc/ec_signing-request_F6930B2C-608D-412E-B5EA-7CB961C71657.der\n",
      "\n",
      "EC Signing Requests:\n",
      "-rw-r--r--@ 1   280 Sep 20 12:49 data/poc/ec_signing-request_46159700-E905-4062-993F-7F58175F09AA.der\n",
      "-rw-r--r--@ 1   452 Sep 20 12:49 data/poc/ec_signing-request_46159700-E905-4062-993F-7F58175F09AA.pem\n",
      "-rw-r--r--@ 1   281 Sep 20 12:49 data/poc/ec_signing-request_A4080B2A-CA07-4631-AE44-58EBD029A171.der\n",
      "-rw-r--r--@ 1   452 Sep 20 12:49 data/poc/ec_signing-request_A4080B2A-CA07-4631-AE44-58EBD029A171.pem\n",
      "-rw-r--r--@ 1   280 Sep 20 12:49 data/poc/ec_signing-request_D97D6D32-AD8F-4CE7-92BB-6F822841EA76.der\n",
      "-rw-r--r--@ 1   452 Sep 20 12:49 data/poc/ec_signing-request_D97D6D32-AD8F-4CE7-92BB-6F822841EA76.pem\n",
      "-rw-r--r--@ 1   280 Sep 20 12:49 data/poc/ec_signing-request_F36C6183-1CCA-4E4B-99FD-FABBE612B927.der\n",
      "-rw-r--r--@ 1   452 Sep 20 12:49 data/poc/ec_signing-request_F36C6183-1CCA-4E4B-99FD-FABBE612B927.pem\n",
      "-rw-r--r--@ 1   282 Sep 20 12:49 data/poc/ec_signing-request_F6930B2C-608D-412E-B5EA-7CB961C71657.der\n",
      "-rw-r--r--@ 1   452 Sep 20 12:49 data/poc/ec_signing-request_F6930B2C-608D-412E-B5EA-7CB961C71657.pem\n",
      "\n",
      "EC File Types:\n",
      "data/poc/ec_signing-request_46159700-E905-4062-993F-7F58175F09AA.der: DER Encoded Certificate request\n",
      "data/poc/ec_signing-request_46159700-E905-4062-993F-7F58175F09AA.pem: PEM certificate request\n",
      "data/poc/ec_signing-request_A4080B2A-CA07-4631-AE44-58EBD029A171.der: DER Encoded Certificate request\n",
      "data/poc/ec_signing-request_A4080B2A-CA07-4631-AE44-58EBD029A171.pem: PEM certificate request\n",
      "data/poc/ec_signing-request_D97D6D32-AD8F-4CE7-92BB-6F822841EA76.der: DER Encoded Certificate request\n",
      "data/poc/ec_signing-request_D97D6D32-AD8F-4CE7-92BB-6F822841EA76.pem: PEM certificate request\n",
      "data/poc/ec_signing-request_F36C6183-1CCA-4E4B-99FD-FABBE612B927.der: DER Encoded Certificate request\n",
      "data/poc/ec_signing-request_F36C6183-1CCA-4E4B-99FD-FABBE612B927.pem: PEM certificate request\n",
      "data/poc/ec_signing-request_F6930B2C-608D-412E-B5EA-7CB961C71657.der: DER Encoded Certificate request\n",
      "data/poc/ec_signing-request_F6930B2C-608D-412E-B5EA-7CB961C71657.pem: PEM certificate request\n",
      "\n",
      "EC Signing Request Digests (SHA256):\n",
      "009fb16319cd92b9e9d9061cee71004d6f6e8d8b90acc6ce241e7102c8527d41  data/poc/ec_signing-request_46159700-E905-4062-993F-7F58175F09AA.der\n",
      "b6ccbd691dc7b86acf6c50c0d12924e3061c8d2eef2585efcb489ca6f749d08e  data/poc/ec_signing-request_A4080B2A-CA07-4631-AE44-58EBD029A171.der\n",
      "3bc28296d20d9a6fcd8cbb1f2f5f8ef5e245b1927dd0c46c14bec52c73b715c0  data/poc/ec_signing-request_D97D6D32-AD8F-4CE7-92BB-6F822841EA76.der\n",
      "4c1497b3fcb7a0ead6484b9069a171c53066cc92aae3c0ccbc07bf59bc598c5b  data/poc/ec_signing-request_F36C6183-1CCA-4E4B-99FD-FABBE612B927.der\n",
      "5032a275d98914483f9b9dc93ebf5db9d1cdfa91a495a06d1c9238bc112bb007  data/poc/ec_signing-request_F6930B2C-608D-412E-B5EA-7CB961C71657.der\n",
      "---\n",
      "139cc2d386725e7694e7a3af0c70ccf927d80d8f89f53e5a62632137be3072bd  data/poc/ec_signing-request_46159700-E905-4062-993F-7F58175F09AA.pem\n",
      "eb89fd37d3eb484e21d7f79b92ef26656874e83814196a753f02fb42d7ab4aa3  data/poc/ec_signing-request_A4080B2A-CA07-4631-AE44-58EBD029A171.pem\n",
      "419dbb54264e0b37f615eb099b68370377ff944f80fcd53b72a17aaf288f2ef3  data/poc/ec_signing-request_D97D6D32-AD8F-4CE7-92BB-6F822841EA76.pem\n",
      "3cda2bfed131b9dc19b471d684e3de5c300cd3964ca7e181126decd4fdf43549  data/poc/ec_signing-request_F36C6183-1CCA-4E4B-99FD-FABBE612B927.pem\n",
      "b022e568c52ab128d2adef88665f48289c76150134aac5db28f1ecc6537812ce  data/poc/ec_signing-request_F6930B2C-608D-412E-B5EA-7CB961C71657.pem\n",
      "\n"
     ]
    }
   ],
   "source": [
    "%%bash\n",
    "# preamble\n",
    "FOLDER=\"data/poc\"\n",
    "EC_PRIVATE_KEY_PEM=\"${FOLDER}/ec_private-key.pem\"\n",
    "MAX_SIGNING_REQUESTS=5\n",
    "\n",
    "\n",
    "echo \"Environment:\"\n",
    "echo \"  Signing Request Count: ${MAX_SIGNING_REQUESTS}\"\n",
    "echo \"\"\n",
    "\n",
    "for ((i=1; i<=\"${MAX_SIGNING_REQUESTS}\"; i++)); do\n",
    "    GUID=$(uuidgen)\n",
    "    EC_SIGNING_REQUEST_PEM=\"${FOLDER}/ec_signing-request_${GUID}.pem\"\n",
    "    EC_SIGNING_REQUEST_DER=\"${FOLDER}/ec_signing-request_${GUID}.der\"\n",
    "    \n",
    "    # creates PEM signing request\n",
    "    echo \"Creating PEM: ${EC_SIGNING_REQUEST_PEM}\"\n",
    "    openssl req -new -sha256 -inform pem -key \"${EC_PRIVATE_KEY_PEM}\" \\\n",
    "      -outform pem -out \"${EC_SIGNING_REQUEST_PEM}\" -subj \"/O=WARNING\\: PRIVATE KEY MADE PUBLIC/CN=${GUID}\"\n",
    "\n",
    "    # converts PEM to DER signing request\n",
    "    echo \"Creating DER: ${EC_SIGNING_REQUEST_DER}\"\n",
    "    openssl req -inform PEM -in \"${EC_SIGNING_REQUEST_PEM}\" \\\n",
    "      -outform DER -out \"${EC_SIGNING_REQUEST_DER}\"\n",
    "\n",
    "done\n",
    "echo \"\"\n",
    "\n",
    "echo \"EC Signing Requests:\"\n",
    "ls -l -go \"${FOLDER}\"/ec_signing-request*\n",
    "echo \"\"\n",
    "\n",
    "echo \"EC File Types:\"\n",
    "file \"${FOLDER}\"/ec_signing-request*\n",
    "echo \"\"\n",
    "\n",
    "echo \"EC Signing Request Digests (SHA256):\"\n",
    "sha256sum \"${FOLDER}\"/ec_signing-request*.der\n",
    "echo \"---\"\n",
    "sha256sum \"${FOLDER}\"/ec_signing-request*.pem\n",
    "echo \"\"\n"
   ]
  },
  {
   "attachments": {},
   "cell_type": "markdown",
   "metadata": {},
   "source": [
    "### Self-Sign EC Signing Requests\n",
    "\n",
    "Using the single private key, we can self-sign each of the signing requests to create a completed signed certificate for analysis."
   ]
  },
  {
   "cell_type": "code",
   "execution_count": 17,
   "metadata": {
    "vscode": {
     "languageId": "shellscript"
    }
   },
   "outputs": [
    {
     "name": "stdout",
     "output_type": "stream",
     "text": [
      "Creating Self-Signed PEM: data/poc/ec_self-signed-public-key_46159700-E905-4062-993F-7F58175F09AA.pem\n"
     ]
    },
    {
     "name": "stderr",
     "output_type": "stream",
     "text": [
      "Certificate request self-signature ok\n",
      "subject=O=WARNING: PRIVATE KEY MADE PUBLIC, CN=46159700-E905-4062-993F-7F58175F09AA\n"
     ]
    },
    {
     "name": "stdout",
     "output_type": "stream",
     "text": [
      "Converting PEM to DER: data/poc/ec_self-signed-public-key_46159700-E905-4062-993F-7F58175F09AA.der\n",
      "Creating Self-Signed PEM: data/poc/ec_self-signed-public-key_A4080B2A-CA07-4631-AE44-58EBD029A171.pem\n"
     ]
    },
    {
     "name": "stderr",
     "output_type": "stream",
     "text": [
      "Certificate request self-signature ok\n",
      "subject=O=WARNING: PRIVATE KEY MADE PUBLIC, CN=A4080B2A-CA07-4631-AE44-58EBD029A171\n"
     ]
    },
    {
     "name": "stdout",
     "output_type": "stream",
     "text": [
      "Converting PEM to DER: data/poc/ec_self-signed-public-key_A4080B2A-CA07-4631-AE44-58EBD029A171.der\n",
      "Creating Self-Signed PEM: data/poc/ec_self-signed-public-key_D97D6D32-AD8F-4CE7-92BB-6F822841EA76.pem\n"
     ]
    },
    {
     "name": "stderr",
     "output_type": "stream",
     "text": [
      "Certificate request self-signature ok\n",
      "subject=O=WARNING: PRIVATE KEY MADE PUBLIC, CN=D97D6D32-AD8F-4CE7-92BB-6F822841EA76\n"
     ]
    },
    {
     "name": "stdout",
     "output_type": "stream",
     "text": [
      "Converting PEM to DER: data/poc/ec_self-signed-public-key_D97D6D32-AD8F-4CE7-92BB-6F822841EA76.der\n",
      "Creating Self-Signed PEM: data/poc/ec_self-signed-public-key_F36C6183-1CCA-4E4B-99FD-FABBE612B927.pem\n"
     ]
    },
    {
     "name": "stderr",
     "output_type": "stream",
     "text": [
      "Certificate request self-signature ok\n",
      "subject=O=WARNING: PRIVATE KEY MADE PUBLIC, CN=F36C6183-1CCA-4E4B-99FD-FABBE612B927\n"
     ]
    },
    {
     "name": "stdout",
     "output_type": "stream",
     "text": [
      "Converting PEM to DER: data/poc/ec_self-signed-public-key_F36C6183-1CCA-4E4B-99FD-FABBE612B927.der\n",
      "Creating Self-Signed PEM: data/poc/ec_self-signed-public-key_F6930B2C-608D-412E-B5EA-7CB961C71657.pem\n"
     ]
    },
    {
     "name": "stderr",
     "output_type": "stream",
     "text": [
      "Certificate request self-signature ok\n",
      "subject=O=WARNING: PRIVATE KEY MADE PUBLIC, CN=F6930B2C-608D-412E-B5EA-7CB961C71657\n"
     ]
    },
    {
     "name": "stdout",
     "output_type": "stream",
     "text": [
      "Converting PEM to DER: data/poc/ec_self-signed-public-key_F6930B2C-608D-412E-B5EA-7CB961C71657.der\n",
      "\n",
      "EC Self-Signed Certificates:\n",
      "-rw-r--r--@ 1   474 Sep 20 12:49 data/poc/ec_self-signed-public-key_46159700-E905-4062-993F-7F58175F09AA.der\n",
      "-rw-r--r--@ 1   696 Sep 20 12:49 data/poc/ec_self-signed-public-key_46159700-E905-4062-993F-7F58175F09AA.pem\n",
      "-rw-r--r--@ 1   475 Sep 20 12:49 data/poc/ec_self-signed-public-key_A4080B2A-CA07-4631-AE44-58EBD029A171.der\n",
      "-rw-r--r--@ 1   700 Sep 20 12:49 data/poc/ec_self-signed-public-key_A4080B2A-CA07-4631-AE44-58EBD029A171.pem\n",
      "-rw-r--r--@ 1   476 Sep 20 12:49 data/poc/ec_self-signed-public-key_D97D6D32-AD8F-4CE7-92BB-6F822841EA76.der\n",
      "-rw-r--r--@ 1   700 Sep 20 12:49 data/poc/ec_self-signed-public-key_D97D6D32-AD8F-4CE7-92BB-6F822841EA76.pem\n",
      "-rw-r--r--@ 1   475 Sep 20 12:49 data/poc/ec_self-signed-public-key_F36C6183-1CCA-4E4B-99FD-FABBE612B927.der\n",
      "-rw-r--r--@ 1   700 Sep 20 12:49 data/poc/ec_self-signed-public-key_F36C6183-1CCA-4E4B-99FD-FABBE612B927.pem\n",
      "-rw-r--r--@ 1   475 Sep 20 12:49 data/poc/ec_self-signed-public-key_F6930B2C-608D-412E-B5EA-7CB961C71657.der\n",
      "-rw-r--r--@ 1   700 Sep 20 12:49 data/poc/ec_self-signed-public-key_F6930B2C-608D-412E-B5EA-7CB961C71657.pem\n",
      "\n",
      "EC Self-Signed Certificate File Types:\n",
      "data/poc/ec_self-signed-public-key_46159700-E905-4062-993F-7F58175F09AA.der: Certificate, Version=3\n",
      "data/poc/ec_self-signed-public-key_46159700-E905-4062-993F-7F58175F09AA.pem: PEM certificate\n",
      "data/poc/ec_self-signed-public-key_A4080B2A-CA07-4631-AE44-58EBD029A171.der: Certificate, Version=3\n",
      "data/poc/ec_self-signed-public-key_A4080B2A-CA07-4631-AE44-58EBD029A171.pem: PEM certificate\n",
      "data/poc/ec_self-signed-public-key_D97D6D32-AD8F-4CE7-92BB-6F822841EA76.der: Certificate, Version=3\n",
      "data/poc/ec_self-signed-public-key_D97D6D32-AD8F-4CE7-92BB-6F822841EA76.pem: PEM certificate\n",
      "data/poc/ec_self-signed-public-key_F36C6183-1CCA-4E4B-99FD-FABBE612B927.der: Certificate, Version=3\n",
      "data/poc/ec_self-signed-public-key_F36C6183-1CCA-4E4B-99FD-FABBE612B927.pem: PEM certificate\n",
      "data/poc/ec_self-signed-public-key_F6930B2C-608D-412E-B5EA-7CB961C71657.der: Certificate, Version=3\n",
      "data/poc/ec_self-signed-public-key_F6930B2C-608D-412E-B5EA-7CB961C71657.pem: PEM certificate\n",
      "\n",
      "EC Self-Signed Certificate SHA256 Digests:\n",
      "c8018bad234c426406d41d6b26ab40898b07fd56d2c7974ede6a49ed5eb47e70  data/poc/ec_self-signed-public-key_46159700-E905-4062-993F-7F58175F09AA.der\n",
      "b99e83f6578aa8e65e246734f092ad6545704a2ee021a85d57181ad6201504b2  data/poc/ec_self-signed-public-key_A4080B2A-CA07-4631-AE44-58EBD029A171.der\n",
      "0477a2a5aa083c562b08f4739ab585fc66e9bd95508bd76f09c1bcef51673f2c  data/poc/ec_self-signed-public-key_D97D6D32-AD8F-4CE7-92BB-6F822841EA76.der\n",
      "193fd954ba167c09139ea60d6124a0826d6f5b8dca2539fb70454efae7d32b44  data/poc/ec_self-signed-public-key_F36C6183-1CCA-4E4B-99FD-FABBE612B927.der\n",
      "e4cfab72093bd3a9a387313e836e12bbf032901594a4eac996cd1381d78de515  data/poc/ec_self-signed-public-key_F6930B2C-608D-412E-B5EA-7CB961C71657.der\n",
      "---\n",
      "b2ed8c8755ba0c7010414ec7c3b462326fd261c16f253a626221bab3830abe23  data/poc/ec_self-signed-public-key_46159700-E905-4062-993F-7F58175F09AA.pem\n",
      "1be96ecb7f98276bbd54bfd618d66e3dfffa8e9381f3f7c012c423ade82eefad  data/poc/ec_self-signed-public-key_A4080B2A-CA07-4631-AE44-58EBD029A171.pem\n",
      "83d5c4b0987bc750e98ab9e52977a2ff5d2fbe1b887343d312e7c7ff73d4778d  data/poc/ec_self-signed-public-key_D97D6D32-AD8F-4CE7-92BB-6F822841EA76.pem\n",
      "f0b9ca458c502a1a656a00d5cf48ef281707e98a1dc0adff41ee06a3843b89f8  data/poc/ec_self-signed-public-key_F36C6183-1CCA-4E4B-99FD-FABBE612B927.pem\n",
      "9bc045312ddad9bfc86f589d13c0507e8fe58342f969b3054dc3b4ff0070d78d  data/poc/ec_self-signed-public-key_F6930B2C-608D-412E-B5EA-7CB961C71657.pem\n",
      "\n"
     ]
    }
   ],
   "source": [
    "%%bash\n",
    "# preamble\n",
    "FOLDER=\"data/poc\"\n",
    "EC_PRIVATE_KEY_PEM=\"${FOLDER}/ec_private-key.pem\"\n",
    "VALIDITY_DURATION=30\n",
    "VALIDITY_INCREMENT=10\n",
    "\n",
    "for EC_SIGNING_REQUEST_PEM in \"${FOLDER}\"/ec_signing-request*.pem; do\n",
    "    VALIDITY_DURATION=$((VALIDITY_DURATION+VALIDITY_INCREMENT))\n",
    "    GUID=$(openssl req -noout -in \"${EC_SIGNING_REQUEST_PEM}\" -subject | awk -F 'CN=' '{print $2}')\n",
    "    EC_SELF_SIGNED_PUBLIC_KEY_PEM=\"${FOLDER}/ec_self-signed-public-key_${GUID}.pem\" \n",
    "    EC_SELF_SIGNED_PUBLIC_KEY_DER=\"${FOLDER}/ec_self-signed-public-key_${GUID}.der\"  \n",
    "\n",
    "    # creating PEM signed certificate\n",
    "    echo \"Creating Self-Signed PEM: ${EC_SELF_SIGNED_PUBLIC_KEY_PEM}\"\n",
    "    openssl x509 -req -sha256 -days ${VALIDITY_DURATION} \\\n",
    "        -keyform PEM -signkey \"${EC_PRIVATE_KEY_PEM}\" \\\n",
    "        -inform PEM -in \"${EC_SIGNING_REQUEST_PEM}\" \\\n",
    "        -outform PEM -out \"${EC_SELF_SIGNED_PUBLIC_KEY_PEM}\"\n",
    "\n",
    "    # converting PEM to DER\n",
    "    echo \"Converting PEM to DER: ${EC_SELF_SIGNED_PUBLIC_KEY_DER}\"\n",
    "    openssl x509 -inform PEM -in \"${EC_SELF_SIGNED_PUBLIC_KEY_PEM}\" \\\n",
    "        -outform DER -out \"${EC_SELF_SIGNED_PUBLIC_KEY_DER}\"\n",
    "done\n",
    "echo \"\"\n",
    "\n",
    "echo \"EC Self-Signed Certificates:\"\n",
    "ls -l -go \"${FOLDER}\"/ec_self-signed-public-key*\n",
    "echo \"\"\n",
    "\n",
    "echo \"EC Self-Signed Certificate File Types:\"\n",
    "file \"${FOLDER}\"/ec_self-signed-public-key*\n",
    "echo \"\"\n",
    "\n",
    "echo \"EC Self-Signed Certificate SHA256 Digests:\"\n",
    "sha256sum \"${FOLDER}\"/ec_self-signed-public-key*.der\n",
    "echo \"---\"\n",
    "sha256sum \"${FOLDER}\"/ec_self-signed-public-key*.pem\n",
    "echo \"\"\n"
   ]
  },
  {
   "attachments": {},
   "cell_type": "markdown",
   "metadata": {},
   "source": [
    "### Display Certificate Details (Briefly)\n",
    "\n",
    "Confirming our certificates have unique names and validity periods."
   ]
  },
  {
   "cell_type": "code",
   "execution_count": 18,
   "metadata": {
    "vscode": {
     "languageId": "shellscript"
    }
   },
   "outputs": [
    {
     "name": "stdout",
     "output_type": "stream",
     "text": [
      "Basic Certificate Details:\n",
      "--------------------------------------------\n",
      "subject=O=WARNING: PRIVATE KEY MADE PUBLIC, CN=46159700-E905-4062-993F-7F58175F09AA\n",
      "serial=1F695E05329667E9CE7F405FFB31C0809356FB1E\n",
      "notBefore=Sep 20 16:49:21 2024 GMT\n",
      "notAfter=Oct 30 16:49:21 2024 GMT\n",
      "--------------------------------------------\n",
      "subject=O=WARNING: PRIVATE KEY MADE PUBLIC, CN=A4080B2A-CA07-4631-AE44-58EBD029A171\n",
      "serial=6D2487B186C9AC7E446684ABCD56C7EE7036378B\n",
      "notBefore=Sep 20 16:49:21 2024 GMT\n",
      "notAfter=Nov  9 16:49:21 2024 GMT\n",
      "--------------------------------------------\n",
      "subject=O=WARNING: PRIVATE KEY MADE PUBLIC, CN=D97D6D32-AD8F-4CE7-92BB-6F822841EA76\n",
      "serial=20E717B7975D58CCD4DCB9AAC26440E473D536D2\n",
      "notBefore=Sep 20 16:49:21 2024 GMT\n",
      "notAfter=Nov 19 16:49:21 2024 GMT\n",
      "--------------------------------------------\n",
      "subject=O=WARNING: PRIVATE KEY MADE PUBLIC, CN=F36C6183-1CCA-4E4B-99FD-FABBE612B927\n",
      "serial=1BC307FAFBD14ACCFFF35F7EBD1E5A4EAE3CF9D0\n",
      "notBefore=Sep 20 16:49:21 2024 GMT\n",
      "notAfter=Nov 29 16:49:21 2024 GMT\n",
      "--------------------------------------------\n",
      "subject=O=WARNING: PRIVATE KEY MADE PUBLIC, CN=F6930B2C-608D-412E-B5EA-7CB961C71657\n",
      "serial=4A4CEB165BA37F780A2BF3CFFF7C4AF6B5E2A74C\n",
      "notBefore=Sep 20 16:49:21 2024 GMT\n",
      "notAfter=Dec  9 16:49:21 2024 GMT\n",
      "\n"
     ]
    }
   ],
   "source": [
    "%%bash\n",
    "FOLDER=\"data/poc\"\n",
    "\n",
    "# from signed certificates\n",
    "echo \"Basic Certificate Details:\"\n",
    "for EC_SELF_SIGNED_PUBLIC_KEY_PEM in \"${FOLDER}\"/ec_self-signed-public-key*.pem; do\n",
    "    echo \"--------------------------------------------\"\n",
    "    openssl x509 -noout -in \"${EC_SELF_SIGNED_PUBLIC_KEY_PEM}\" \\\n",
    "        -subject -serial -startdate -enddate\n",
    "done\n",
    "echo \"\""
   ]
  },
  {
   "attachments": {},
   "cell_type": "markdown",
   "metadata": {},
   "source": [
    "### Extract EC SubjectPublicKeyInfo\n",
    "\n",
    "We already derived the raw public key material earlier by accessing the private key for this information.  Here, we'll shift our focus to both the signing requests and self-signed certificates for analysis.\n",
    "\n",
    "First, we'll access the signing requests to extract the `SubjectPublicKeyInfo` data and convert it to DER (binary) format.  Then we'll access each self-signed certificate to perform a similar action.\n",
    "\n",
    "> Note: when using the `-pubkey` option, the output will often contain two sections, in ASCII format, defining the `PUBLIC KEY` and `CERTIFICATE REQUEST`.  We use `sed` to parse out only the `PUBLIC KEY` portion of this output."
   ]
  },
  {
   "cell_type": "code",
   "execution_count": 19,
   "metadata": {
    "vscode": {
     "languageId": "shellscript"
    }
   },
   "outputs": [
    {
     "name": "stdout",
     "output_type": "stream",
     "text": [
      "Extracting the SubjectPublicKeyInfo from EC Signing Requests:\n",
      "--------------------------------------------\n",
      "Creating Public Key Info PEM: data/poc/ec_public-key-info_via_signing-request_46159700-E905-4062-993F-7F58175F09AA.pem\n",
      "Converting PEM to DER: data/poc/ec_public-key-info_via_signing-request_46159700-E905-4062-993F-7F58175F09AA.der\n",
      "    0:d=0  hl=2 l=  89 cons: SEQUENCE          \n",
      "    2:d=1  hl=2 l=  19 cons: SEQUENCE          \n",
      "    4:d=2  hl=2 l=   7 prim: OBJECT            :id-ecPublicKey\n",
      "   13:d=2  hl=2 l=   8 prim: OBJECT            :prime256v1\n",
      "   23:d=1  hl=2 l=  66 prim: BIT STRING        \n",
      "Creating Public Key Info PEM: data/poc/ec_public-key-info_via_signing-request_A4080B2A-CA07-4631-AE44-58EBD029A171.pem\n",
      "Converting PEM to DER: data/poc/ec_public-key-info_via_signing-request_A4080B2A-CA07-4631-AE44-58EBD029A171.der\n",
      "    0:d=0  hl=2 l=  89 cons: SEQUENCE          \n",
      "    2:d=1  hl=2 l=  19 cons: SEQUENCE          \n",
      "    4:d=2  hl=2 l=   7 prim: OBJECT            :id-ecPublicKey\n",
      "   13:d=2  hl=2 l=   8 prim: OBJECT            :prime256v1\n",
      "   23:d=1  hl=2 l=  66 prim: BIT STRING        \n",
      "Creating Public Key Info PEM: data/poc/ec_public-key-info_via_signing-request_D97D6D32-AD8F-4CE7-92BB-6F822841EA76.pem\n",
      "Converting PEM to DER: data/poc/ec_public-key-info_via_signing-request_D97D6D32-AD8F-4CE7-92BB-6F822841EA76.der\n",
      "    0:d=0  hl=2 l=  89 cons: SEQUENCE          \n",
      "    2:d=1  hl=2 l=  19 cons: SEQUENCE          \n",
      "    4:d=2  hl=2 l=   7 prim: OBJECT            :id-ecPublicKey\n",
      "   13:d=2  hl=2 l=   8 prim: OBJECT            :prime256v1\n",
      "   23:d=1  hl=2 l=  66 prim: BIT STRING        \n",
      "Creating Public Key Info PEM: data/poc/ec_public-key-info_via_signing-request_F36C6183-1CCA-4E4B-99FD-FABBE612B927.pem\n",
      "Converting PEM to DER: data/poc/ec_public-key-info_via_signing-request_F36C6183-1CCA-4E4B-99FD-FABBE612B927.der\n",
      "    0:d=0  hl=2 l=  89 cons: SEQUENCE          \n",
      "    2:d=1  hl=2 l=  19 cons: SEQUENCE          \n",
      "    4:d=2  hl=2 l=   7 prim: OBJECT            :id-ecPublicKey\n",
      "   13:d=2  hl=2 l=   8 prim: OBJECT            :prime256v1\n",
      "   23:d=1  hl=2 l=  66 prim: BIT STRING        \n",
      "Creating Public Key Info PEM: data/poc/ec_public-key-info_via_signing-request_F6930B2C-608D-412E-B5EA-7CB961C71657.pem\n",
      "Converting PEM to DER: data/poc/ec_public-key-info_via_signing-request_F6930B2C-608D-412E-B5EA-7CB961C71657.der\n",
      "    0:d=0  hl=2 l=  89 cons: SEQUENCE          \n",
      "    2:d=1  hl=2 l=  19 cons: SEQUENCE          \n",
      "    4:d=2  hl=2 l=   7 prim: OBJECT            :id-ecPublicKey\n",
      "   13:d=2  hl=2 l=   8 prim: OBJECT            :prime256v1\n",
      "   23:d=1  hl=2 l=  66 prim: BIT STRING        \n",
      "\n",
      "Extracting the SubjectPublicKeyInfo from EC Self-Signed Certificates:\n",
      "--------------------------------------------\n",
      "Self-Signed Key: data/poc/ec_self-signed-public-key_46159700-E905-4062-993F-7F58175F09AA.pem\n",
      "Creating Public Key Info PEM: data/poc/ec_public-key-info_via_self-signed_46159700-E905-4062-993F-7F58175F09AA.pem\n",
      "Converting PEM to DER: data/poc/ec_public-key-info_via_self-signed_46159700-E905-4062-993F-7F58175F09AA.der\n",
      "    0:d=0  hl=2 l=  89 cons: SEQUENCE          \n",
      "    2:d=1  hl=2 l=  19 cons: SEQUENCE          \n",
      "    4:d=2  hl=2 l=   7 prim: OBJECT            :id-ecPublicKey\n",
      "   13:d=2  hl=2 l=   8 prim: OBJECT            :prime256v1\n",
      "   23:d=1  hl=2 l=  66 prim: BIT STRING        \n",
      "Self-Signed Key: data/poc/ec_self-signed-public-key_A4080B2A-CA07-4631-AE44-58EBD029A171.pem\n",
      "Creating Public Key Info PEM: data/poc/ec_public-key-info_via_self-signed_A4080B2A-CA07-4631-AE44-58EBD029A171.pem\n",
      "Converting PEM to DER: data/poc/ec_public-key-info_via_self-signed_A4080B2A-CA07-4631-AE44-58EBD029A171.der\n",
      "    0:d=0  hl=2 l=  89 cons: SEQUENCE          \n",
      "    2:d=1  hl=2 l=  19 cons: SEQUENCE          \n",
      "    4:d=2  hl=2 l=   7 prim: OBJECT            :id-ecPublicKey\n",
      "   13:d=2  hl=2 l=   8 prim: OBJECT            :prime256v1\n",
      "   23:d=1  hl=2 l=  66 prim: BIT STRING        \n",
      "Self-Signed Key: data/poc/ec_self-signed-public-key_D97D6D32-AD8F-4CE7-92BB-6F822841EA76.pem\n",
      "Creating Public Key Info PEM: data/poc/ec_public-key-info_via_self-signed_D97D6D32-AD8F-4CE7-92BB-6F822841EA76.pem\n",
      "Converting PEM to DER: data/poc/ec_public-key-info_via_self-signed_D97D6D32-AD8F-4CE7-92BB-6F822841EA76.der\n",
      "    0:d=0  hl=2 l=  89 cons: SEQUENCE          \n",
      "    2:d=1  hl=2 l=  19 cons: SEQUENCE          \n",
      "    4:d=2  hl=2 l=   7 prim: OBJECT            :id-ecPublicKey\n",
      "   13:d=2  hl=2 l=   8 prim: OBJECT            :prime256v1\n",
      "   23:d=1  hl=2 l=  66 prim: BIT STRING        \n",
      "Self-Signed Key: data/poc/ec_self-signed-public-key_F36C6183-1CCA-4E4B-99FD-FABBE612B927.pem\n",
      "Creating Public Key Info PEM: data/poc/ec_public-key-info_via_self-signed_F36C6183-1CCA-4E4B-99FD-FABBE612B927.pem\n",
      "Converting PEM to DER: data/poc/ec_public-key-info_via_self-signed_F36C6183-1CCA-4E4B-99FD-FABBE612B927.der\n",
      "    0:d=0  hl=2 l=  89 cons: SEQUENCE          \n",
      "    2:d=1  hl=2 l=  19 cons: SEQUENCE          \n",
      "    4:d=2  hl=2 l=   7 prim: OBJECT            :id-ecPublicKey\n",
      "   13:d=2  hl=2 l=   8 prim: OBJECT            :prime256v1\n",
      "   23:d=1  hl=2 l=  66 prim: BIT STRING        \n",
      "Self-Signed Key: data/poc/ec_self-signed-public-key_F6930B2C-608D-412E-B5EA-7CB961C71657.pem\n",
      "Creating Public Key Info PEM: data/poc/ec_public-key-info_via_self-signed_F6930B2C-608D-412E-B5EA-7CB961C71657.pem\n",
      "Converting PEM to DER: data/poc/ec_public-key-info_via_self-signed_F6930B2C-608D-412E-B5EA-7CB961C71657.der\n",
      "    0:d=0  hl=2 l=  89 cons: SEQUENCE          \n",
      "    2:d=1  hl=2 l=  19 cons: SEQUENCE          \n",
      "    4:d=2  hl=2 l=   7 prim: OBJECT            :id-ecPublicKey\n",
      "   13:d=2  hl=2 l=   8 prim: OBJECT            :prime256v1\n",
      "   23:d=1  hl=2 l=  66 prim: BIT STRING        \n",
      "\n"
     ]
    }
   ],
   "source": [
    "%%bash\n",
    "FOLDER=\"data/poc\"\n",
    "\n",
    "echo \"Extracting the SubjectPublicKeyInfo from EC Signing Requests:\"\n",
    "echo \"--------------------------------------------\"\n",
    "# from signing request\n",
    "for EC_SIGNING_REQUEST_PEM in \"${FOLDER}\"/ec_signing-request*.pem; do\n",
    "    GUID=$(openssl req -noout -in \"${EC_SIGNING_REQUEST_PEM}\" -subject | awk -F 'CN=' '{print $2}')\n",
    "    EC_PUBLIC_KEY_INFO_SIGNING_REQUEST_PEM=\"${FOLDER}/ec_public-key-info_via_signing-request_${GUID}.pem\" \n",
    "    EC_PUBLIC_KEY_INFO_SIGNING_REQUEST_DER=\"${FOLDER}/ec_public-key-info_via_signing-request_${GUID}.der\"  \n",
    "\n",
    "    # creating PEM signed certificate\n",
    "    echo \"Creating Public Key Info PEM: ${EC_PUBLIC_KEY_INFO_SIGNING_REQUEST_PEM}\"\n",
    "    openssl req -pubkey -inform PEM -in \"${EC_SIGNING_REQUEST_PEM}\" | \\\n",
    "        sed -n '/BEGIN\\ PUBLIC\\ KEY/,/END\\ PUBLIC\\ KEY/p' > \"${EC_PUBLIC_KEY_INFO_SIGNING_REQUEST_PEM}\"\n",
    "\n",
    "    # converting PEM to DER\n",
    "    echo \"Converting PEM to DER: ${EC_PUBLIC_KEY_INFO_SIGNING_REQUEST_DER}\"\n",
    "    openssl asn1parse -inform PEM -in \"${EC_PUBLIC_KEY_INFO_SIGNING_REQUEST_PEM}\" \\\n",
    "        -out \"${EC_PUBLIC_KEY_INFO_SIGNING_REQUEST_DER}\"\n",
    "done\n",
    "echo \"\"\n",
    "\n",
    "echo \"Extracting the SubjectPublicKeyInfo from EC Self-Signed Certificates:\"\n",
    "echo \"--------------------------------------------\"\n",
    "# from self-signed public key\n",
    "for EC_SELF_SIGNED_PUBLIC_KEY_PEM in \"${FOLDER}\"/ec_self-signed-public-key*.pem; do\n",
    "    echo \"Self-Signed Key: ${EC_SELF_SIGNED_PUBLIC_KEY_PEM}\"\n",
    "    GUID=$(openssl x509 -noout -in \"${EC_SELF_SIGNED_PUBLIC_KEY_PEM}\" -subject | awk -F 'CN=' '{print $2}')\n",
    "    EC_PUBLIC_KEY_INFO_SELF_SIGNED_PEM=\"${FOLDER}/ec_public-key-info_via_self-signed_${GUID}.pem\" \n",
    "    EC_PUBLIC_KEY_INFO_SELF_SIGNED_DER=\"${FOLDER}/ec_public-key-info_via_self-signed_${GUID}.der\"  \n",
    "\n",
    "    # creating PEM signed certificate\n",
    "    echo \"Creating Public Key Info PEM: ${EC_PUBLIC_KEY_INFO_SELF_SIGNED_PEM}\"\n",
    "    openssl x509 -pubkey -inform PEM -in \"${EC_SELF_SIGNED_PUBLIC_KEY_PEM}\" | \\\n",
    "        sed -n '/BEGIN\\ PUBLIC\\ KEY/,/END\\ PUBLIC\\ KEY/p' > \"${EC_PUBLIC_KEY_INFO_SELF_SIGNED_PEM}\"\n",
    "\n",
    "    # converting PEM to DER\n",
    "    echo \"Converting PEM to DER: ${EC_PUBLIC_KEY_INFO_SELF_SIGNED_DER}\"\n",
    "    openssl asn1parse -inform PEM -in \"${EC_PUBLIC_KEY_INFO_SELF_SIGNED_PEM}\" \\\n",
    "        -out \"${EC_PUBLIC_KEY_INFO_SELF_SIGNED_DER}\"\n",
    "done\n",
    "echo \"\""
   ]
  },
  {
   "attachments": {},
   "cell_type": "markdown",
   "metadata": {},
   "source": [
    "### Compare PublicKeyInfo Digests\n",
    "\n",
    "In summary, we've performed the following actions:\n",
    "1. Derived the public key from a single private key \n",
    "<br>(see `ec_public-key-info_via_private_key*.der`).\n",
    "2. Extracted the public key material from multiple certificate signing requests\n",
    "<br>(see `ec_public-key-info_via_signing-request*.der`).\n",
    "3. Extracted the public key material from multiple self-signed certificates \n",
    "<br>(see `ec_public-key-info_via_self-signed*.der`).\n",
    "\n",
    "Do we have message digests which match across all these different exports?\n",
    "\n",
    "> Note: If you do not see the results you expect, make sure you are [Erase All EC Key Data](#erase-all-ec-key-data)) between test runs.\n",
    "\n",
    "If you want more samples, then follow these steps without erasing or resetting the EC data.\n",
    "1. Run [Generate EC Signing Requests](#generate-ec-signing-requests) multiple times.  e.g. 4 more times for a total of 25 signing requests.\n",
    "2. Run [Self-Sign EC Signing Requests](#self-sign-ec-signing-requests) just once.  \n",
    "3. Run [Extract EC SubjectPublicKeyInfo](#extract-ec-subjectpublickeyinfo) just once.\n",
    "4. Run this cell again."
   ]
  },
  {
   "cell_type": "code",
   "execution_count": 20,
   "metadata": {
    "vscode": {
     "languageId": "shellscript"
    }
   },
   "outputs": [
    {
     "name": "stdout",
     "output_type": "stream",
     "text": [
      "Summary of Unique CC Key Data:\n",
      "   Signed Certificates: 5\n",
      "  SubjectPublicKeyInfo: 1\n",
      "\n",
      "Certificate (DER) Digests (SHA256):\n",
      "c8018bad234c426406d41d6b26ab40898b07fd56d2c7974ede6a49ed5eb47e70  data/poc/ec_self-signed-public-key_46159700-E905-4062-993F-7F58175F09AA.der\n",
      "b99e83f6578aa8e65e246734f092ad6545704a2ee021a85d57181ad6201504b2  data/poc/ec_self-signed-public-key_A4080B2A-CA07-4631-AE44-58EBD029A171.der\n",
      "0477a2a5aa083c562b08f4739ab585fc66e9bd95508bd76f09c1bcef51673f2c  data/poc/ec_self-signed-public-key_D97D6D32-AD8F-4CE7-92BB-6F822841EA76.der\n",
      "193fd954ba167c09139ea60d6124a0826d6f5b8dca2539fb70454efae7d32b44  data/poc/ec_self-signed-public-key_F36C6183-1CCA-4E4B-99FD-FABBE612B927.der\n",
      "e4cfab72093bd3a9a387313e836e12bbf032901594a4eac996cd1381d78de515  data/poc/ec_self-signed-public-key_F6930B2C-608D-412E-B5EA-7CB961C71657.der\n",
      "\n",
      "SubjectPublicKeyInfo Digests (SHA256):\n",
      "[SubjectPublicKeyInfo derived from the Private Key]\n",
      "1d292188d76d595eda2a8a3bddd05fec5e197f59bbe50abc4ae7954746862b37  data/poc/ec_public-key-info_via_private-key_ec.der\n",
      "1d292188d76d595eda2a8a3bddd05fec5e197f59bbe50abc4ae7954746862b37  data/poc/ec_public-key-info_via_private-key_pkey.der\n",
      "[SubjectPublicKeyInfo extracted from Signing Requests]\n",
      "1d292188d76d595eda2a8a3bddd05fec5e197f59bbe50abc4ae7954746862b37  data/poc/ec_public-key-info_via_signing-request_46159700-E905-4062-993F-7F58175F09AA.der\n",
      "1d292188d76d595eda2a8a3bddd05fec5e197f59bbe50abc4ae7954746862b37  data/poc/ec_public-key-info_via_signing-request_A4080B2A-CA07-4631-AE44-58EBD029A171.der\n",
      "1d292188d76d595eda2a8a3bddd05fec5e197f59bbe50abc4ae7954746862b37  data/poc/ec_public-key-info_via_signing-request_D97D6D32-AD8F-4CE7-92BB-6F822841EA76.der\n",
      "1d292188d76d595eda2a8a3bddd05fec5e197f59bbe50abc4ae7954746862b37  data/poc/ec_public-key-info_via_signing-request_F36C6183-1CCA-4E4B-99FD-FABBE612B927.der\n",
      "1d292188d76d595eda2a8a3bddd05fec5e197f59bbe50abc4ae7954746862b37  data/poc/ec_public-key-info_via_signing-request_F6930B2C-608D-412E-B5EA-7CB961C71657.der\n",
      "[SubjectPublicKeyInfo extracted from Self-Signed Certificates]\n",
      "1d292188d76d595eda2a8a3bddd05fec5e197f59bbe50abc4ae7954746862b37  data/poc/ec_public-key-info_via_self-signed_46159700-E905-4062-993F-7F58175F09AA.der\n",
      "1d292188d76d595eda2a8a3bddd05fec5e197f59bbe50abc4ae7954746862b37  data/poc/ec_public-key-info_via_self-signed_A4080B2A-CA07-4631-AE44-58EBD029A171.der\n",
      "1d292188d76d595eda2a8a3bddd05fec5e197f59bbe50abc4ae7954746862b37  data/poc/ec_public-key-info_via_self-signed_D97D6D32-AD8F-4CE7-92BB-6F822841EA76.der\n",
      "1d292188d76d595eda2a8a3bddd05fec5e197f59bbe50abc4ae7954746862b37  data/poc/ec_public-key-info_via_self-signed_F36C6183-1CCA-4E4B-99FD-FABBE612B927.der\n",
      "1d292188d76d595eda2a8a3bddd05fec5e197f59bbe50abc4ae7954746862b37  data/poc/ec_public-key-info_via_self-signed_F6930B2C-608D-412E-B5EA-7CB961C71657.der\n"
     ]
    }
   ],
   "source": [
    "%%bash\n",
    "FOLDER=\"data/poc\"\n",
    "\n",
    "# basic error checking\n",
    "if ! find \"${FOLDER}\" -type f -name \"ec_self-signed-public-key*.der\" | grep -q .; then\n",
    "    echo \"WARNING: No EC Self-Signed Certificates found.\"\n",
    "    echo \"         Please run the previous cells to generate EC content.\"\n",
    "    exit\n",
    "fi\n",
    "\n",
    "UNIQUE_DER_DIGEST_COUNT=$(sha256sum \"${FOLDER}\"/ec_self-signed-public-key*.der \\\n",
    "    | awk '{print $1}' | sort | uniq | wc -l | awk '{print $1}')\n",
    "\n",
    "UNIQUE_SPKI_DIGEST_COUNT=$(sha256sum \"${FOLDER}\"/ec_public-key-info*.der \\\n",
    "    | awk '{print $1}' | sort | uniq | wc -l | awk '{print $1}')\n",
    "\n",
    "if [ \"${UNIQUE_SPKI_DIGEST_COUNT}\" -gt 1 ]; then\n",
    "    echo \"WARNING: Multiple SubjectPublicKeyInfo Digests found.\"\n",
    "    echo \"         Did you forget to erase all key data between runs?\"\n",
    "    echo \"\"\n",
    "fi\n",
    "\n",
    "echo \"Summary of Unique CC Key Data:\"\n",
    "echo \"   Signed Certificates: ${UNIQUE_DER_DIGEST_COUNT}\"\n",
    "echo \"  SubjectPublicKeyInfo: ${UNIQUE_SPKI_DIGEST_COUNT}\"\n",
    "echo \"\"\n",
    "\n",
    "echo \"Certificate (DER) Digests (SHA256):\"\n",
    "sha256sum \"${FOLDER}\"/ec_self-signed-public-key*.der\n",
    "echo \"\"\n",
    "\n",
    "echo \"SubjectPublicKeyInfo Digests (SHA256):\"\n",
    "echo \"[SubjectPublicKeyInfo derived from the Private Key]\"\n",
    "sha256sum \"${FOLDER}\"/ec_public-key-info_via_private-key*.der | sort\n",
    "echo \"[SubjectPublicKeyInfo extracted from Signing Requests]\"\n",
    "sha256sum \"${FOLDER}\"/ec_public-key-info_via_signing-request*.der | sort\n",
    "echo \"[SubjectPublicKeyInfo extracted from Self-Signed Certificates]\"\n",
    "sha256sum \"${FOLDER}\"/ec_public-key-info_via_self-signed*.der | sort"
   ]
  },
  {
   "attachments": {},
   "cell_type": "markdown",
   "metadata": {},
   "source": [
    "### Erase All EC Key Data\n",
    "\n",
    "Use this to reset the proof-of-concept data related to EC key data."
   ]
  },
  {
   "cell_type": "code",
   "execution_count": 2,
   "metadata": {
    "vscode": {
     "languageId": "shellscript"
    }
   },
   "outputs": [],
   "source": [
    "%%bash\n",
    "FOLDER=\"data/poc\"\n",
    "\n",
    "# if folder exists, remove it\n",
    "rm -rf \"${FOLDER}\"/ec_*"
   ]
  },
  {
   "attachments": {},
   "cell_type": "markdown",
   "metadata": {},
   "source": [
    "# Additional OpenSSL Commands and Data\n"
   ]
  },
  {
   "attachments": {},
   "cell_type": "markdown",
   "metadata": {},
   "source": [
    "## Cipher Suites\n",
    "\n",
    "How to check cipher suite support, which should correlate with certificate type (`RSA` vs `ECDSA`).  List of available cipher suites from OpenSSL or OpenSSL compatible (e.g. LibreSSL).   Note, these are based on _your_ local OpenSSL installation."
   ]
  },
  {
   "cell_type": "code",
   "execution_count": null,
   "metadata": {
    "vscode": {
     "languageId": "shellscript"
    }
   },
   "outputs": [],
   "source": [
    "%%bash\n",
    "openssl ciphers -v"
   ]
  },
  {
   "attachments": {},
   "cell_type": "markdown",
   "metadata": {},
   "source": [
    "## OpenSSL Cipher Suites to JSON"
   ]
  },
  {
   "cell_type": "code",
   "execution_count": null,
   "metadata": {},
   "outputs": [],
   "source": [
    "import json\n",
    "\n",
    "def openssl_cipher_suites_to_json(openssl_result:list) -> list:\n",
    "    \"\"\"Convers OpenSSL verbose cipher suite output to JSON.\n",
    "    \n",
    "    cipher_suites = [\n",
    "        {\n",
    "            \"Cipher Suite\": str,\n",
    "            \"Protocol\": str,\n",
    "            \"Key Exchange\": str,\n",
    "            \"Authentication\": str,\n",
    "            \"Encryption\": str,\n",
    "            \"MAC\": str\n",
    "        },\n",
    "        {...}\n",
    "    ]\n",
    "\n",
    "    Args:\n",
    "        openssl_result (list): list of lines from 'openssl ciphers -v'\n",
    "\n",
    "    Returns:\n",
    "        list: list of dictionaries\n",
    "    \"\"\"\n",
    "    cipher_suites = []\n",
    "    for line in openssl_result:\n",
    "        fields = line.split()\n",
    "        cipher_suite = {}\n",
    "        cipher_suite['Cipher Suite'] = fields[0]\n",
    "        cipher_suite['Protocol'] = fields[1]\n",
    "        cipher_suite['Key Exchange'] = fields[2].split('=')[1]\n",
    "        cipher_suite['Authentication'] = fields[3].split('=')[1]\n",
    "        cipher_suite['Encryption'] = fields[4].split('=')[1]\n",
    "        cipher_suite['MAC'] = fields[5].split('=')[1]\n",
    "\n",
    "        cipher_suites.append(cipher_suite)\n",
    "    return cipher_suites\n",
    "\n",
    "# using a Jupyter 'feature'.  Caution executing external code or binaries from within your notebooks.\n",
    "openssl_result = !openssl ciphers -v # use 'RSA' or 'AES' or other filter keywords\n",
    "\n",
    "suites_json = openssl_cipher_suites_to_json(openssl_result)\n",
    "\n",
    "print(json.dumps(suites_json, indent=2))\n"
   ]
  },
  {
   "attachments": {},
   "cell_type": "markdown",
   "metadata": {},
   "source": [
    "OpenSSL RSA Cipher Suites"
   ]
  },
  {
   "attachments": {},
   "cell_type": "markdown",
   "metadata": {},
   "source": [
    "We can query `openssl` for various cipher suites based on one or more cipher string values.  See [OpenSSL man page on Ciphers: Cipher Strings](https://docs.openssl.org/1.1.1/man1/ciphers/)"
   ]
  },
  {
   "cell_type": "code",
   "execution_count": null,
   "metadata": {
    "vscode": {
     "languageId": "shellscript"
    }
   },
   "outputs": [],
   "source": [
    "%%bash\n",
    "\n",
    "# create an array of strings \"RSA\", \"ECDH\", \"DHE\", \"ECDSA\", \"AES\", \"RSA\"\n",
    "CIPHERS=(\"ECDH\" \"DHE\" \"ECDSA\" \"AES\" \"RSA\")\n",
    "\n",
    "# iterate over the array with openssl ciphers -v\n",
    "for CIPHER in \"${CIPHERS[@]}\"; do\n",
    "    echo \"Ciphers: '${CIPHER}'\"\n",
    "    openssl ciphers -V \"${CIPHER}\"\n",
    "    echo \"\"\n",
    "done\n"
   ]
  },
  {
   "cell_type": "markdown",
   "metadata": {},
   "source": [
    "Using `openssl` to connect to a web site and display the certificate in an on-demand fashion.\n",
    "\n",
    "> Note: Web sites can be load balanced across many IPv4 and IPv6 addresses.  This example merely accesses the first available."
   ]
  },
  {
   "cell_type": "code",
   "execution_count": null,
   "metadata": {
    "vscode": {
     "languageId": "shellscript"
    }
   },
   "outputs": [],
   "source": [
    "#!/bin/bash\n",
    "\n",
    "#cipher_suite=\"\\'ECDHE-ECDSA-AES128-SHA\\'\" # RSA key type\n",
    "# cipher_suite='ECDHE-ECDSA-AES256-GCM-SHA384' # EC key type\n",
    "\n",
    "!echo \"[ OpenSSL - Connection Details ]============================\"\n",
    "!echo | openssl s_client -showcerts -cipher \"ECDHE-ECDSA-AES128-SHA\" -servername www.google.com -connect www.google.com:443 2>&1\n",
    "!echo \"\"\n",
    "!echo \"[ OpenSSL - Certificate Details ]===========================\"\n",
    "!echo | openssl s_client -showcerts -cipher 'ECDHE-ECDSA-AES128-SHA' -servername www.google.com -connect www.google.com:443 2>&1 | openssl x509 -noout -text\n"
   ]
  }
 ],
 "metadata": {
  "kernelspec": {
   "display_name": "recon",
   "language": "python",
   "name": "python3"
  },
  "language_info": {
   "codemirror_mode": {
    "name": "ipython",
    "version": 3
   },
   "file_extension": ".py",
   "mimetype": "text/x-python",
   "name": "python",
   "nbconvert_exporter": "python",
   "pygments_lexer": "ipython3",
   "version": "3.11.6"
  },
  "orig_nbformat": 4
 },
 "nbformat": 4,
 "nbformat_minor": 2
}
