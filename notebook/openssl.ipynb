{
 "cells": [
  {
   "attachments": {},
   "cell_type": "markdown",
   "metadata": {},
   "source": [
    "# Introduction\n",
    "\n",
    "This document serves to provide an orientation to differnet OpenSSL commands."
   ]
  },
  {
   "cell_type": "markdown",
   "metadata": {},
   "source": [
    "## Computing Environment\n",
    "\n",
    "Some basic information about the environment in which the Nobeook is executing."
   ]
  },
  {
   "cell_type": "code",
   "execution_count": 20,
   "metadata": {
    "vscode": {
     "languageId": "shellscript"
    }
   },
   "outputs": [
    {
     "name": "stdout",
     "output_type": "stream",
     "text": [
      "Kernel:\n",
      "Darwin USWSA220038.local 23.6.0 Darwin Kernel Version 23.6.0: Wed Jul 31 20:49:39 PDT 2024; root:xnu-10063.141.1.700.5~1/RELEASE_ARM64_T6000 arm64\n",
      "\n",
      "MacOS Version:\n",
      "ProductName:\t\tmacOS\n",
      "ProductVersion:\t\t14.7\n",
      "BuildVersion:\t\t23H124\n",
      "\n",
      "OpenSSL Version:\n",
      "OpenSSL 3.3.1 4 Jun 2024 (Library: OpenSSL 3.3.1 4 Jun 2024)\n",
      "\n",
      "Python Version:\n",
      "Python 3.11.6\n",
      "\n"
     ]
    }
   ],
   "source": [
    "# What environment am I running in?\n",
    "!echo \"Kernel:\" && uname -a && echo \"\"\n",
    "!echo \"MacOS Version:\" && sw_vers && echo \"\"\n",
    "!echo \"OpenSSL Version:\" && openssl version && echo \"\"\n",
    "!echo \"Python Version:\" && python --version && echo \"\"\n",
    "\n"
   ]
  },
  {
   "attachments": {},
   "cell_type": "markdown",
   "metadata": {},
   "source": [
    "## Available RSA Key Sizes\n",
    "\n",
    "Below are the exponents associated with given RSA key lengths. "
   ]
  },
  {
   "cell_type": "code",
   "execution_count": 21,
   "metadata": {},
   "outputs": [
    {
     "name": "stdout",
     "output_type": "stream",
     "text": [
      "2^  7 =   128 bits\n",
      "2^  8 =   256 bits\n",
      "2^  9 =   512 bits\n",
      "2^ 10 =  1024 bits\n",
      "2^ 11 =  2048 bits\n",
      "2^ 12 =  4096 bits\n",
      "2^ 13 =  8192 bits\n",
      "2^ 14 = 16384 bits\n",
      "2^ 15 = 32768 bits\n"
     ]
    }
   ],
   "source": [
    "# Some possible RSA key lenths.\n",
    "for exponent in range(7,16):\n",
    "    print(\"2^{0:3d} = {1:5d} bits\".format(exponent, 2**exponent))"
   ]
  },
  {
   "cell_type": "markdown",
   "metadata": {},
   "source": [
    "Note, that 3072-bit (2048+1024) keys are not referenced in this list.  It is likely that 3072-bit is trying to strike a cost/performance balance between weak 2048-bit and high computation cost of 4096-bit RSA keys.  So where to 3072-bit RSA keys come from?"
   ]
  },
  {
   "cell_type": "code",
   "execution_count": null,
   "metadata": {},
   "outputs": [],
   "source": [
    "# RSA key sizes are often represented as exponents to 2.\n",
    "print(f\"2048-bit RSA keys are derived from 2^11 = {2**11}.\")\n",
    "print(f\"Where does 3072-bit RSA keys come from?\")\n",
    "print(f\"- 3072-bit RSA keys might be 2^11.584962501 = {2**11.584962501}.\")\n",
    "print(f\"- Or simply 2048*1.5 = {2048*1.5}.\")"
   ]
  },
  {
   "attachments": {},
   "cell_type": "markdown",
   "metadata": {},
   "source": [
    "## Available Elliptic Curves\n",
    "\n",
    "Some resources on about elliptic curves applied to TLS protocol.   \n",
    "* [RFC 8422, Section 5.1.1 Supported Elliptic Curves Extensions](https://www.rfc-editor.org/rfc/rfc8422.html#section-5.1.1) namely `secp256r1`, `secp384r1`, `secp521r1` and a few others.\n",
    "* [AWS Security Blog](https://aws.amazon.com/blogs/security/) discusses [How to evaluate and use ECDSA certificates in AWS Certificate Manager](https://aws.amazon.com/blogs/security/how-to-evaluate-and-use-ecdsa-certificates-in-aws-certificate-manager/).  It is acknowledged this article discusses ECDSA and not EC. It was just an simple read on EC curve options.\n",
    "\n",
    "For the sake of simplicity and scoping, will focus on `prime256v1` and `secp384r1` curves only.  The tool `openssl` offers support for several different elliptic curves as noted below."
   ]
  },
  {
   "cell_type": "code",
   "execution_count": null,
   "metadata": {
    "vscode": {
     "languageId": "shellscript"
    }
   },
   "outputs": [],
   "source": [
    "# What are the EC Curves supported by OpenSSL?\n",
    "!openssl ecparam -list_curves"
   ]
  },
  {
   "attachments": {},
   "cell_type": "markdown",
   "metadata": {},
   "source": [
    "# X.509 Key Types\n",
    "\n",
    "The goal of this section is to demonstrate the differences between message digests (or thumbprints) between two different (but related) data structures with X.509 certificates.  \n",
    "* Thumbprint of the signed certificate.\n",
    "* Thumbprint of the cryptographic public key.\n",
    "\n",
    "In the following sections we use RSA and ECC X.509 key types to perform the following tasks.\n",
    "1. Create an single private key.\n",
    "2. Derive from this private key the corresponding private key.\n",
    "3. Generate multiple certificate signing requesest based on the single private key.\n",
    "4. Self-sign each signing request with the private key.\n",
    "5. We then extract the SubjectPublicKeyInfo from each signing request and self-signed certificate.\n",
    "6. Finally, we compare the SubjectPublicKeyeInfo across all the various exports.\n",
    "\n",
    "File names follow a mixed combination of hyphens (`-`) to separate words within a given field (e.g. `private-key`) and underscores (`_`) to separate fields (e.g. `rsa_private-key`).  \n"
   ]
  },
  {
   "attachments": {},
   "cell_type": "markdown",
   "metadata": {},
   "source": [
    "## RSA\n",
    "\n",
    "Resources\n",
    "1. [openssl-asn1parse](https://docs.openssl.org/master/man1/openssl-asn1parse/) processing ASN.1 files\n",
    "2. [openssl-pkey](https://docs.openssl.org/master/man1/openssl-pkey/) interacting with private keys\n",
    "3. [openssl-req](https://docs.openssl.org/master/man1/openssl-req/) processing signing-requests\n",
    "4. [openssl-rsa](https://docs.openssl.org/master/man1/openssl-rsa/) generating RSA private keys\n",
    "5. [openssl-x509](https://docs.openssl.org/master/man1/openssl-x509/) processing X.509 certificates"
   ]
  },
  {
   "attachments": {},
   "cell_type": "markdown",
   "metadata": {},
   "source": [
    "### Generate RSA Private Key\n",
    "\n",
    "For illustration purposes, let us create a single RSA private key. \n",
    "\n",
    "> Warning: Please do not use these keys in any production or live environment as they are intended for demonstration purposes only.  As a _demo_, you have no control over who may have viewed or obtain a copy of this key material making these private keys potentially _public_."
   ]
  },
  {
   "cell_type": "code",
   "execution_count": 30,
   "metadata": {
    "vscode": {
     "languageId": "shellscript"
    }
   },
   "outputs": [
    {
     "name": "stdout",
     "output_type": "stream",
     "text": [
      "Environment:\n",
      "  Working Folder: 'data/poc'\n",
      "  Private Key PEM: 'data/poc/rsa_private-key.pem'\n",
      "  Private Key DER: 'data/poc/rsa_private-key.der'\n",
      "  Key Length: '2048'\n",
      "\n",
      "Generating RSA Private Key:\n"
     ]
    },
    {
     "name": "stderr",
     "output_type": "stream",
     "text": [
      "writing RSA key\n"
     ]
    },
    {
     "name": "stdout",
     "output_type": "stream",
     "text": [
      "\n",
      "Files:\n",
      "-rw-------@ 1   1218 Sep 25 23:32 data/poc/rsa_private-key.der\n",
      "-rw-------@ 1   1704 Sep 25 23:32 data/poc/rsa_private-key.pem\n",
      "\n",
      "File Types:\n",
      "data/poc/rsa_private-key.pem: ASCII text\n",
      "data/poc/rsa_private-key.der: data\n",
      "\n",
      "File Digests (SHA256):\n",
      "641a18da0d2c3d5aacab902ea400fadbccc6e502bf12bf1a07e7c254b9a086f4  data/poc/rsa_private-key.der\n",
      "e3924425dbc20e68f965d57d00661158a4d6644738a254dcda25b91acb76093b  data/poc/rsa_private-key.pem\n"
     ]
    }
   ],
   "source": [
    "%%bash\n",
    "# preamble\n",
    "FOLDER=\"data/poc\"\n",
    "mkdir -p \"${FOLDER}\"\n",
    "RSA_PRIVATE_KEY_PEM=\"${FOLDER}/rsa_private-key.pem\"\n",
    "RSA_PRIVATE_KEY_DER=\"${FOLDER}/rsa_private-key.der\"\n",
    "KEYLENGTH=\"2048\" # Typical sizes: 2048, 3072, 4096`\n",
    "\n",
    "# validate environment\n",
    "echo \"Environment:\"\n",
    "echo \"  Working Folder: '${FOLDER}'\"\n",
    "echo \"  Private Key PEM: '${RSA_PRIVATE_KEY_PEM}'\"\n",
    "echo \"  Private Key DER: '${RSA_PRIVATE_KEY_DER}'\"\n",
    "echo \"  Key Length: '${KEYLENGTH}'\"\n",
    "echo \"\"\n",
    "\n",
    "# execute\n",
    "echo \"Generating RSA Private Key:\"\n",
    "\n",
    "# create the private key in PEM form.\n",
    "openssl genrsa -out \"${RSA_PRIVATE_KEY_PEM}\" \"${KEYLENGTH}\"\n",
    "\n",
    "# convert private key from PEM (ASCII) to DER (binary)\n",
    "openssl rsa -inform PEM -in \"${RSA_PRIVATE_KEY_PEM}\" -outform DER -out \"${RSA_PRIVATE_KEY_DER}\"\n",
    "echo \"\"\n",
    "\n",
    "# valdiate result\n",
    "echo \"Files:\"\n",
    "ls -l -go \"${FOLDER}\"/rsa_private-key.*\n",
    "echo \"\"\n",
    "\n",
    "echo \"File Types:\"\n",
    "file \"${RSA_PRIVATE_KEY_PEM}\" \"${RSA_PRIVATE_KEY_DER}\"\n",
    "echo \"\"\n",
    "\n",
    "echo \"File Digests (SHA256):\"\n",
    "sha256sum \"${FOLDER}\"/rsa_private-key.*"
   ]
  },
  {
   "attachments": {},
   "cell_type": "markdown",
   "metadata": {},
   "source": [
    "### Derive the RSA Public Key\n",
    "\n",
    "The raw private key material itself does not contain the public key.  However we can derive the cryptographic public key material from the private key using one of the `openssl` command options.  \n",
    "1. `openssl rsa -pubout ...`\n",
    "2. `openssl pkey -pubout ...`"
   ]
  },
  {
   "cell_type": "code",
   "execution_count": 31,
   "metadata": {
    "vscode": {
     "languageId": "shellscript"
    }
   },
   "outputs": [
    {
     "name": "stdout",
     "output_type": "stream",
     "text": [
      "Environment:\n",
      "  RSA Private Key PEM: 'data/poc/rsa_private-key.pem'\n",
      "  RSA Private Key DER: 'data/poc/rsa_private-key.der'\n",
      "\n",
      "Deriving the RSA Public Key using the corresponding Private Key (rsa):\n"
     ]
    },
    {
     "name": "stderr",
     "output_type": "stream",
     "text": [
      "writing RSA key\n",
      "writing RSA key\n"
     ]
    },
    {
     "name": "stdout",
     "output_type": "stream",
     "text": [
      "\n",
      "Deriving the RSA Public Key using the corresponding Private Key (rsa):\n",
      "\n",
      "RSA Files:\n",
      "-rw-r--r--@ 1   294 Sep 25 23:32 data/poc/rsa_public-key-info_via_private-key_pkey.der\n",
      "-rw-r--r--@ 1   451 Sep 25 23:32 data/poc/rsa_public-key-info_via_private-key_pkey.pem\n",
      "-rw-r--r--@ 1   294 Sep 25 23:32 data/poc/rsa_public-key-info_via_private-key_rsa.der\n",
      "-rw-r--r--@ 1   451 Sep 25 23:32 data/poc/rsa_public-key-info_via_private-key_rsa.pem\n",
      "\n",
      "RSA File Types:\n",
      "data/poc/rsa_public-key-info_via_private-key_pkey.der: data\n",
      "data/poc/rsa_public-key-info_via_private-key_pkey.pem: ASCII text\n",
      "data/poc/rsa_public-key-info_via_private-key_rsa.der:  data\n",
      "data/poc/rsa_public-key-info_via_private-key_rsa.pem:  ASCII text\n",
      "\n",
      "RSA File Digests (SHA256):\n",
      "a13c1e5bcbb9ef170c9ffe3435c7e6961363048dc5c17e86c0ccbd353330170f  data/poc/rsa_public-key-info_via_private-key_pkey.der\n",
      "a13c1e5bcbb9ef170c9ffe3435c7e6961363048dc5c17e86c0ccbd353330170f  data/poc/rsa_public-key-info_via_private-key_rsa.der\n",
      "---\n",
      "1e4a498d117c32ca41ebab8a0b9be91965d960f2c55c11a7beec9db0dbba83dd  data/poc/rsa_public-key-info_via_private-key_pkey.pem\n",
      "1e4a498d117c32ca41ebab8a0b9be91965d960f2c55c11a7beec9db0dbba83dd  data/poc/rsa_public-key-info_via_private-key_rsa.pem\n"
     ]
    }
   ],
   "source": [
    "%%bash\n",
    "# preamble\n",
    "FOLDER=\"data/poc\"\n",
    "mkdir -p \"${FOLDER}\"\n",
    "RSA_PRIVATE_KEY_PEM=\"${FOLDER}/rsa_private-key.pem\"\n",
    "RSA_PRIVATE_KEY_DER=\"${FOLDER}/rsa_private-key.der\"\n",
    "\n",
    "\n",
    "# validate environment\n",
    "echo \"Environment:\"\n",
    "echo \"  RSA Private Key PEM: '${RSA_PRIVATE_KEY_PEM}'\"\n",
    "echo \"  RSA Private Key DER: '${RSA_PRIVATE_KEY_DER}'\"\n",
    "echo \"\"\n",
    "\n",
    "# execute\n",
    "echo \"Deriving the RSA Public Key using the corresponding Private Key (rsa):\"\n",
    "openssl rsa -pubout -inform PEM -in \"${RSA_PRIVATE_KEY_PEM}\" \\\n",
    "    -outform PEM -out \"${FOLDER}/rsa_public-key-info_via_private-key_rsa.pem\"\n",
    "openssl rsa -pubout -inform DER -in \"${RSA_PRIVATE_KEY_DER}\" \\\n",
    "    -outform DER -out \"${FOLDER}/rsa_public-key-info_via_private-key_rsa.der\"\n",
    "echo \"\"\n",
    "\n",
    "echo \"Deriving the RSA Public Key using the corresponding Private Key (rsa):\"\n",
    "openssl pkey -pubout -inform PEM -in \"${RSA_PRIVATE_KEY_PEM}\" \\\n",
    "    -outform PEM -out \"${FOLDER}/rsa_public-key-info_via_private-key_pkey.pem\"\n",
    "openssl pkey -pubout -inform DER -in \"${RSA_PRIVATE_KEY_DER}\" \\\n",
    "    -outform DER -out \"${FOLDER}/rsa_public-key-info_via_private-key_pkey.der\"\n",
    "echo \"\"\n",
    "\n",
    "# validate results\n",
    "echo \"RSA Files:\"\n",
    "ls -l -go \"${FOLDER}\"/rsa_public-key-info_via_private-key*\n",
    "echo \"\"\n",
    "\n",
    "echo \"RSA File Types:\"\n",
    "file \"${FOLDER}\"/rsa_public-key-info_via_private-key*\n",
    "echo \"\"\n",
    "\n",
    "echo \"RSA File Digests (SHA256):\"\n",
    "sha256sum \"${FOLDER}\"/rsa_public-key-info_via_private-key*.der\n",
    "echo \"---\"\n",
    "sha256sum \"${FOLDER}\"/rsa_public-key-info_via_private-key*.pem"
   ]
  },
  {
   "attachments": {},
   "cell_type": "markdown",
   "metadata": {},
   "source": [
    "### Generate RSA Signing Requests\n",
    "\n",
    "Our goal is to create multiple unique signed public certificates each based on the single private key we just created.  To begin, we must create a set of _certificate signing requests_, each provided with a unique name.  \n",
    "\n",
    "To uniquely identify each signing request (and later the certificate) we apply a unique ID to the request `CommonName` field of the `Subject`."
   ]
  },
  {
   "cell_type": "code",
   "execution_count": 32,
   "metadata": {
    "vscode": {
     "languageId": "shellscript"
    }
   },
   "outputs": [
    {
     "name": "stdout",
     "output_type": "stream",
     "text": [
      "Environment:\n",
      "  Signing Request Count: 5\n",
      "\n",
      "Creating PEM: data/poc/rsa_signing-request_69194C7B-EE63-4285-8589-AEAD4B5B0913.pem\n",
      "Creating DER: data/poc/rsa_signing-request_69194C7B-EE63-4285-8589-AEAD4B5B0913.der\n",
      "Creating PEM: data/poc/rsa_signing-request_D81AC179-9F3A-43B3-883F-BAAC79A8463B.pem\n",
      "Creating DER: data/poc/rsa_signing-request_D81AC179-9F3A-43B3-883F-BAAC79A8463B.der\n",
      "Creating PEM: data/poc/rsa_signing-request_6E412595-7D7F-48BE-9CB9-29ECA7D66F04.pem\n",
      "Creating DER: data/poc/rsa_signing-request_6E412595-7D7F-48BE-9CB9-29ECA7D66F04.der\n",
      "Creating PEM: data/poc/rsa_signing-request_A6035CB3-3537-4FF5-9288-2B3011D7D50B.pem\n",
      "Creating DER: data/poc/rsa_signing-request_A6035CB3-3537-4FF5-9288-2B3011D7D50B.der\n",
      "Creating PEM: data/poc/rsa_signing-request_EED0369D-4664-4D05-B6DB-D3E704A38C37.pem\n",
      "Creating DER: data/poc/rsa_signing-request_EED0369D-4664-4D05-B6DB-D3E704A38C37.der\n",
      "\n",
      "RSA Signing Requests:\n",
      "-rw-r--r--@ 1   675 Sep 25 23:32 data/poc/rsa_signing-request_69194C7B-EE63-4285-8589-AEAD4B5B0913.der\n",
      "-rw-r--r--@ 1   985 Sep 25 23:32 data/poc/rsa_signing-request_69194C7B-EE63-4285-8589-AEAD4B5B0913.pem\n",
      "-rw-r--r--@ 1   675 Sep 25 23:32 data/poc/rsa_signing-request_6E412595-7D7F-48BE-9CB9-29ECA7D66F04.der\n",
      "-rw-r--r--@ 1   985 Sep 25 23:32 data/poc/rsa_signing-request_6E412595-7D7F-48BE-9CB9-29ECA7D66F04.pem\n",
      "-rw-r--r--@ 1   675 Sep 25 23:32 data/poc/rsa_signing-request_A6035CB3-3537-4FF5-9288-2B3011D7D50B.der\n",
      "-rw-r--r--@ 1   985 Sep 25 23:32 data/poc/rsa_signing-request_A6035CB3-3537-4FF5-9288-2B3011D7D50B.pem\n",
      "-rw-r--r--@ 1   675 Sep 25 23:32 data/poc/rsa_signing-request_D81AC179-9F3A-43B3-883F-BAAC79A8463B.der\n",
      "-rw-r--r--@ 1   985 Sep 25 23:32 data/poc/rsa_signing-request_D81AC179-9F3A-43B3-883F-BAAC79A8463B.pem\n",
      "-rw-r--r--@ 1   675 Sep 25 23:32 data/poc/rsa_signing-request_EED0369D-4664-4D05-B6DB-D3E704A38C37.der\n",
      "-rw-r--r--@ 1   985 Sep 25 23:32 data/poc/rsa_signing-request_EED0369D-4664-4D05-B6DB-D3E704A38C37.pem\n",
      "\n",
      "RSA File Types:\n",
      "data/poc/rsa_signing-request_69194C7B-EE63-4285-8589-AEAD4B5B0913.der: DER Encoded Certificate request\n",
      "data/poc/rsa_signing-request_69194C7B-EE63-4285-8589-AEAD4B5B0913.pem: PEM certificate request\n",
      "data/poc/rsa_signing-request_6E412595-7D7F-48BE-9CB9-29ECA7D66F04.der: DER Encoded Certificate request\n",
      "data/poc/rsa_signing-request_6E412595-7D7F-48BE-9CB9-29ECA7D66F04.pem: PEM certificate request\n",
      "data/poc/rsa_signing-request_A6035CB3-3537-4FF5-9288-2B3011D7D50B.der: DER Encoded Certificate request\n",
      "data/poc/rsa_signing-request_A6035CB3-3537-4FF5-9288-2B3011D7D50B.pem: PEM certificate request\n",
      "data/poc/rsa_signing-request_D81AC179-9F3A-43B3-883F-BAAC79A8463B.der: DER Encoded Certificate request\n",
      "data/poc/rsa_signing-request_D81AC179-9F3A-43B3-883F-BAAC79A8463B.pem: PEM certificate request\n",
      "data/poc/rsa_signing-request_EED0369D-4664-4D05-B6DB-D3E704A38C37.der: DER Encoded Certificate request\n",
      "data/poc/rsa_signing-request_EED0369D-4664-4D05-B6DB-D3E704A38C37.pem: PEM certificate request\n",
      "\n",
      "RSA Signing Request Digests (SHA256):\n",
      "fc4f4618c0b9c0e36eb943b3da60f45397d86c605a0c8c85273b997cb6749f97  data/poc/rsa_signing-request_69194C7B-EE63-4285-8589-AEAD4B5B0913.der\n",
      "9e4f383255a5e83223c58c390aa4f3309968fb4b978fda418cb4f7b5b5d0ba95  data/poc/rsa_signing-request_6E412595-7D7F-48BE-9CB9-29ECA7D66F04.der\n",
      "59717a2ce6480f90ac2731eb53d99fd3d914163588bc696e3edd0e1e272f12b3  data/poc/rsa_signing-request_A6035CB3-3537-4FF5-9288-2B3011D7D50B.der\n",
      "2b9cd5a7ba5c9ed51aa34af4691356cf3825fe454d0ae4642a4aba947e81e3db  data/poc/rsa_signing-request_D81AC179-9F3A-43B3-883F-BAAC79A8463B.der\n",
      "d36ec1def15aaaa506edb97c8c4ebc6a10a7a063dedca7d72e269eeaacc188a5  data/poc/rsa_signing-request_EED0369D-4664-4D05-B6DB-D3E704A38C37.der\n",
      "---\n",
      "4d1116e3b1e19bfef9e06dd669e4485afcc0a9086548f0a70a44fbecdcc5955f  data/poc/rsa_signing-request_69194C7B-EE63-4285-8589-AEAD4B5B0913.pem\n",
      "ee695f3cc166f56cd771a97cd87c224bed2b791380b0e6756c04a1caf9d6e89e  data/poc/rsa_signing-request_6E412595-7D7F-48BE-9CB9-29ECA7D66F04.pem\n",
      "3d5d77588ad8f899a990d97da3e84fbe8fffef7f795ed348d67a273f60eae8e9  data/poc/rsa_signing-request_A6035CB3-3537-4FF5-9288-2B3011D7D50B.pem\n",
      "9059ba3fdc5e4b373a346bf476508d6b5d079f09817bb42743c236b41310e0c3  data/poc/rsa_signing-request_D81AC179-9F3A-43B3-883F-BAAC79A8463B.pem\n",
      "c8dda1ec4923a920bf09103b7cc7bc8e17e6f3d0ad4ed0a32a2bbb578d817f87  data/poc/rsa_signing-request_EED0369D-4664-4D05-B6DB-D3E704A38C37.pem\n",
      "\n"
     ]
    }
   ],
   "source": [
    "%%bash\n",
    "FOLDER=\"data/poc\"\n",
    "RSA_PRIVATE_KEY_PEM=\"${FOLDER}/rsa_private-key.pem\"\n",
    "MAX_SIGNING_REQUESTS=5\n",
    "\n",
    "echo \"Environment:\"\n",
    "echo \"  Signing Request Count: ${MAX_SIGNING_REQUESTS}\"\n",
    "echo \"\"\n",
    "\n",
    "for ((i=1; i<=\"${MAX_SIGNING_REQUESTS}\"; i++)); do\n",
    "    GUID=$(uuidgen)\n",
    "    RSA_SIGNING_REQUEST_PEM=\"${FOLDER}/rsa_signing-request_${GUID}.pem\"\n",
    "    RSA_SIGNING_REQUEST_DER=\"${FOLDER}/rsa_signing-request_${GUID}.der\"\n",
    "    \n",
    "    # creates PEM signing request\n",
    "    echo \"Creating PEM: ${RSA_SIGNING_REQUEST_PEM}\"\n",
    "    openssl req -new -sha256 -inform pem -key \"${RSA_PRIVATE_KEY_PEM}\" \\\n",
    "      -outform pem -out \"${RSA_SIGNING_REQUEST_PEM}\" -subj \"/O=WARNING\\: PRIVATE KEY MADE PUBLIC/CN=${GUID}\"\n",
    "\n",
    "    # converts PEM to DER signing request\n",
    "    echo \"Creating DER: ${RSA_SIGNING_REQUEST_DER}\"\n",
    "    openssl req -inform PEM -in \"${RSA_SIGNING_REQUEST_PEM}\" \\\n",
    "      -outform DER -out \"${RSA_SIGNING_REQUEST_DER}\"\n",
    "\n",
    "done\n",
    "echo \"\"\n",
    "\n",
    "echo \"RSA Signing Requests:\"\n",
    "ls -l -go \"${FOLDER}\"/rsa_signing-request*\n",
    "echo \"\"\n",
    "\n",
    "echo \"RSA File Types:\"\n",
    "file \"${FOLDER}\"/rsa_signing-request*\n",
    "echo \"\"\n",
    "\n",
    "echo \"RSA Signing Request Digests (SHA256):\"\n",
    "sha256sum \"${FOLDER}\"/rsa_signing-request*.der\n",
    "echo \"---\"\n",
    "sha256sum \"${FOLDER}\"/rsa_signing-request*.pem\n",
    "echo \"\"\n"
   ]
  },
  {
   "attachments": {},
   "cell_type": "markdown",
   "metadata": {},
   "source": [
    "### Self-Sign RSA Signing Requests\n",
    "\n",
    "Using the single private key, we can self-sign each of the signing requests to create a completed signed certificate for analysis.  For added variability with our certificates, each has a unique validity duration."
   ]
  },
  {
   "cell_type": "code",
   "execution_count": 33,
   "metadata": {
    "vscode": {
     "languageId": "shellscript"
    }
   },
   "outputs": [
    {
     "name": "stdout",
     "output_type": "stream",
     "text": [
      "Creating Self-Signed PEM: data/poc/rsa_self-signed-public-key_69194C7B-EE63-4285-8589-AEAD4B5B0913.pem\n"
     ]
    },
    {
     "name": "stderr",
     "output_type": "stream",
     "text": [
      "Certificate request self-signature ok\n",
      "subject=O=WARNING: PRIVATE KEY MADE PUBLIC, CN=69194C7B-EE63-4285-8589-AEAD4B5B0913\n"
     ]
    },
    {
     "name": "stdout",
     "output_type": "stream",
     "text": [
      "Converting PEM to DER: data/poc/rsa_self-signed-public-key_69194C7B-EE63-4285-8589-AEAD4B5B0913.der\n",
      "\n",
      "Creating Self-Signed PEM: data/poc/rsa_self-signed-public-key_6E412595-7D7F-48BE-9CB9-29ECA7D66F04.pem\n"
     ]
    },
    {
     "name": "stderr",
     "output_type": "stream",
     "text": [
      "Certificate request self-signature ok\n",
      "subject=O=WARNING: PRIVATE KEY MADE PUBLIC, CN=6E412595-7D7F-48BE-9CB9-29ECA7D66F04\n"
     ]
    },
    {
     "name": "stdout",
     "output_type": "stream",
     "text": [
      "Converting PEM to DER: data/poc/rsa_self-signed-public-key_6E412595-7D7F-48BE-9CB9-29ECA7D66F04.der\n",
      "\n",
      "Creating Self-Signed PEM: data/poc/rsa_self-signed-public-key_A6035CB3-3537-4FF5-9288-2B3011D7D50B.pem\n"
     ]
    },
    {
     "name": "stderr",
     "output_type": "stream",
     "text": [
      "Certificate request self-signature ok\n",
      "subject=O=WARNING: PRIVATE KEY MADE PUBLIC, CN=A6035CB3-3537-4FF5-9288-2B3011D7D50B\n"
     ]
    },
    {
     "name": "stdout",
     "output_type": "stream",
     "text": [
      "Converting PEM to DER: data/poc/rsa_self-signed-public-key_A6035CB3-3537-4FF5-9288-2B3011D7D50B.der\n",
      "\n",
      "Creating Self-Signed PEM: data/poc/rsa_self-signed-public-key_D81AC179-9F3A-43B3-883F-BAAC79A8463B.pem\n"
     ]
    },
    {
     "name": "stderr",
     "output_type": "stream",
     "text": [
      "Certificate request self-signature ok\n",
      "subject=O=WARNING: PRIVATE KEY MADE PUBLIC, CN=D81AC179-9F3A-43B3-883F-BAAC79A8463B\n"
     ]
    },
    {
     "name": "stdout",
     "output_type": "stream",
     "text": [
      "Converting PEM to DER: data/poc/rsa_self-signed-public-key_D81AC179-9F3A-43B3-883F-BAAC79A8463B.der\n",
      "\n",
      "Creating Self-Signed PEM: data/poc/rsa_self-signed-public-key_EED0369D-4664-4D05-B6DB-D3E704A38C37.pem\n"
     ]
    },
    {
     "name": "stderr",
     "output_type": "stream",
     "text": [
      "Certificate request self-signature ok\n",
      "subject=O=WARNING: PRIVATE KEY MADE PUBLIC, CN=EED0369D-4664-4D05-B6DB-D3E704A38C37\n"
     ]
    },
    {
     "name": "stdout",
     "output_type": "stream",
     "text": [
      "Converting PEM to DER: data/poc/rsa_self-signed-public-key_EED0369D-4664-4D05-B6DB-D3E704A38C37.der\n",
      "\n",
      "\n",
      "RSA Self-Signed Certificates:\n",
      "-rw-r--r--@ 1    871 Sep 25 23:32 data/poc/rsa_self-signed-public-key_69194C7B-EE63-4285-8589-AEAD4B5B0913.der\n",
      "-rw-r--r--@ 1   1237 Sep 25 23:32 data/poc/rsa_self-signed-public-key_69194C7B-EE63-4285-8589-AEAD4B5B0913.pem\n",
      "-rw-r--r--@ 1    871 Sep 25 23:32 data/poc/rsa_self-signed-public-key_6E412595-7D7F-48BE-9CB9-29ECA7D66F04.der\n",
      "-rw-r--r--@ 1   1237 Sep 25 23:32 data/poc/rsa_self-signed-public-key_6E412595-7D7F-48BE-9CB9-29ECA7D66F04.pem\n",
      "-rw-r--r--@ 1    871 Sep 25 23:32 data/poc/rsa_self-signed-public-key_A6035CB3-3537-4FF5-9288-2B3011D7D50B.der\n",
      "-rw-r--r--@ 1   1237 Sep 25 23:32 data/poc/rsa_self-signed-public-key_A6035CB3-3537-4FF5-9288-2B3011D7D50B.pem\n",
      "-rw-r--r--@ 1    871 Sep 25 23:32 data/poc/rsa_self-signed-public-key_D81AC179-9F3A-43B3-883F-BAAC79A8463B.der\n",
      "-rw-r--r--@ 1   1237 Sep 25 23:32 data/poc/rsa_self-signed-public-key_D81AC179-9F3A-43B3-883F-BAAC79A8463B.pem\n",
      "-rw-r--r--@ 1    871 Sep 25 23:32 data/poc/rsa_self-signed-public-key_EED0369D-4664-4D05-B6DB-D3E704A38C37.der\n",
      "-rw-r--r--@ 1   1237 Sep 25 23:32 data/poc/rsa_self-signed-public-key_EED0369D-4664-4D05-B6DB-D3E704A38C37.pem\n",
      "\n",
      "RSA Self-Signed Certificate File Types:\n",
      "data/poc/rsa_self-signed-public-key_69194C7B-EE63-4285-8589-AEAD4B5B0913.der: Certificate, Version=3\n",
      "data/poc/rsa_self-signed-public-key_69194C7B-EE63-4285-8589-AEAD4B5B0913.pem: PEM certificate\n",
      "data/poc/rsa_self-signed-public-key_6E412595-7D7F-48BE-9CB9-29ECA7D66F04.der: Certificate, Version=3\n",
      "data/poc/rsa_self-signed-public-key_6E412595-7D7F-48BE-9CB9-29ECA7D66F04.pem: PEM certificate\n",
      "data/poc/rsa_self-signed-public-key_A6035CB3-3537-4FF5-9288-2B3011D7D50B.der: Certificate, Version=3\n",
      "data/poc/rsa_self-signed-public-key_A6035CB3-3537-4FF5-9288-2B3011D7D50B.pem: PEM certificate\n",
      "data/poc/rsa_self-signed-public-key_D81AC179-9F3A-43B3-883F-BAAC79A8463B.der: Certificate, Version=3\n",
      "data/poc/rsa_self-signed-public-key_D81AC179-9F3A-43B3-883F-BAAC79A8463B.pem: PEM certificate\n",
      "data/poc/rsa_self-signed-public-key_EED0369D-4664-4D05-B6DB-D3E704A38C37.der: Certificate, Version=3\n",
      "data/poc/rsa_self-signed-public-key_EED0369D-4664-4D05-B6DB-D3E704A38C37.pem: PEM certificate\n",
      "\n",
      "RSA Self-Signed Certificate Digests (SHA256):\n",
      "f8ed4f335a9d56dc3eb1368708b42d8308aa3d0c2ff6a1e11fabee5821c237dc  data/poc/rsa_self-signed-public-key_69194C7B-EE63-4285-8589-AEAD4B5B0913.der\n",
      "f08db7ab981af7e00dbee1c3e71c3fa5fd8e4317702775cbc6d01f2688282cd2  data/poc/rsa_self-signed-public-key_6E412595-7D7F-48BE-9CB9-29ECA7D66F04.der\n",
      "cd99d5172f9fd225d47e0525a993c5ae753d9b90ac0315493344e7f157568676  data/poc/rsa_self-signed-public-key_A6035CB3-3537-4FF5-9288-2B3011D7D50B.der\n",
      "8eb1b83d0af297910a7919e105f147a69e48e5c541e2c255685cb1cfb0b90298  data/poc/rsa_self-signed-public-key_D81AC179-9F3A-43B3-883F-BAAC79A8463B.der\n",
      "a2a208be27faee073d798d73e05b588ee3543c9d9ce9e4c63e1db142231be5dc  data/poc/rsa_self-signed-public-key_EED0369D-4664-4D05-B6DB-D3E704A38C37.der\n",
      "---\n",
      "8017150d4dd7db9ffe1d39407c8339a0551132628f502463bff14141db55929c  data/poc/rsa_self-signed-public-key_69194C7B-EE63-4285-8589-AEAD4B5B0913.pem\n",
      "4642f580d11a0d919dc5b9dc0ddb40890f8559eca48c041cd7be075ae4d4bac2  data/poc/rsa_self-signed-public-key_6E412595-7D7F-48BE-9CB9-29ECA7D66F04.pem\n",
      "afe25b81dc70bf67814a7f0c69fab9ee812c3d36b61a84062a012daa404b8cca  data/poc/rsa_self-signed-public-key_A6035CB3-3537-4FF5-9288-2B3011D7D50B.pem\n",
      "446cf19f0d490eeb256206b3ab3ce5ddf506cdd7efaa9faa7453450d01de1b38  data/poc/rsa_self-signed-public-key_D81AC179-9F3A-43B3-883F-BAAC79A8463B.pem\n",
      "a347f875ca4f3b91a28bac0795d1e196c2673f6830bb802d643746f6c7728dba  data/poc/rsa_self-signed-public-key_EED0369D-4664-4D05-B6DB-D3E704A38C37.pem\n",
      "\n"
     ]
    }
   ],
   "source": [
    "%%bash\n",
    "FOLDER=\"data/poc\"\n",
    "RSA_PRIVATE_KEY_PEM=\"${FOLDER}/rsa_private-key.pem\"\n",
    "VALIDITY_DURATION=30\n",
    "VALIDITY_INCREMENT=10\n",
    "\n",
    "for RSA_SIGNING_REQUEST_PEM in \"${FOLDER}\"/rsa_signing-request_*.pem; do\n",
    "    VALIDITY_DURATION=$((VALIDITY_DURATION+VALIDITY_INCREMENT))\n",
    "    GUID=$(openssl req -noout -in \"${RSA_SIGNING_REQUEST_PEM}\" -subject | awk -F 'CN=' '{print $2}')\n",
    "    RSA_SELF_SIGNED_PUBLIC_KEY_PEM=\"${FOLDER}/rsa_self-signed-public-key_${GUID}.pem\" \n",
    "    RSA_SELF_SIGNED_PUBLIC_KEY_DER=\"${FOLDER}/rsa_self-signed-public-key_${GUID}.der\"  \n",
    "\n",
    "    # creating PEM signed certificate\n",
    "    echo \"Creating Self-Signed PEM: ${RSA_SELF_SIGNED_PUBLIC_KEY_PEM}\"\n",
    "    openssl x509 -req -sha256 -days ${VALIDITY_DURATION} \\\n",
    "        -keyform PEM -signkey \"${RSA_PRIVATE_KEY_PEM}\" \\\n",
    "        -inform PEM -in \"${RSA_SIGNING_REQUEST_PEM}\" \\\n",
    "        -outform PEM -out \"${RSA_SELF_SIGNED_PUBLIC_KEY_PEM}\"\n",
    "\n",
    "    # converting PEM to DER\n",
    "    echo \"Converting PEM to DER: ${RSA_SELF_SIGNED_PUBLIC_KEY_DER}\"\n",
    "    openssl x509 -inform PEM -in \"${RSA_SELF_SIGNED_PUBLIC_KEY_PEM}\" \\\n",
    "        -outform DER -out \"${RSA_SELF_SIGNED_PUBLIC_KEY_DER}\"\n",
    "    echo \"\"\n",
    "done\n",
    "echo \"\"\n",
    "\n",
    "echo \"RSA Self-Signed Certificates:\"\n",
    "ls -l -go \"${FOLDER}\"/rsa_self-signed-public-key*\n",
    "echo \"\"\n",
    "\n",
    "echo \"RSA Self-Signed Certificate File Types:\"\n",
    "file \"${FOLDER}\"/rsa_self-signed-public-key*\n",
    "echo \"\"\n",
    "\n",
    "echo \"RSA Self-Signed Certificate Digests (SHA256):\"\n",
    "sha256sum \"${FOLDER}\"/rsa_self-signed-public-key*.der\n",
    "echo \"---\"\n",
    "sha256sum \"${FOLDER}\"/rsa_self-signed-public-key*.pem\n",
    "echo \"\"\n"
   ]
  },
  {
   "attachments": {},
   "cell_type": "markdown",
   "metadata": {},
   "source": [
    "### Display Certificate Details (Briefly)\n",
    "\n",
    "Confirming our certificates have unique names and validity periods."
   ]
  },
  {
   "cell_type": "code",
   "execution_count": 34,
   "metadata": {
    "vscode": {
     "languageId": "shellscript"
    }
   },
   "outputs": [
    {
     "name": "stdout",
     "output_type": "stream",
     "text": [
      "Basic Certificate Details:\n",
      "--------------------------------------------\n",
      "subject=O=WARNING: PRIVATE KEY MADE PUBLIC, CN=69194C7B-EE63-4285-8589-AEAD4B5B0913\n",
      "serial=3BD083358A0C43F40B2F878FBB2852F0F2940A1D\n",
      "notBefore=Sep 26 03:32:40 2024 GMT\n",
      "notAfter=Nov  5 03:32:40 2024 GMT\n",
      "--------------------------------------------\n",
      "subject=O=WARNING: PRIVATE KEY MADE PUBLIC, CN=6E412595-7D7F-48BE-9CB9-29ECA7D66F04\n",
      "serial=7EE632C7642ECA0E589A190B8B007A76CF31E1EE\n",
      "notBefore=Sep 26 03:32:40 2024 GMT\n",
      "notAfter=Nov 15 03:32:40 2024 GMT\n",
      "--------------------------------------------\n",
      "subject=O=WARNING: PRIVATE KEY MADE PUBLIC, CN=A6035CB3-3537-4FF5-9288-2B3011D7D50B\n",
      "serial=01C2EB24D2C85479E76CC72C27CCC06099BC9654\n",
      "notBefore=Sep 26 03:32:40 2024 GMT\n",
      "notAfter=Nov 25 03:32:40 2024 GMT\n",
      "--------------------------------------------\n",
      "subject=O=WARNING: PRIVATE KEY MADE PUBLIC, CN=D81AC179-9F3A-43B3-883F-BAAC79A8463B\n",
      "serial=1CF3E65B6AE689F4728ED31A8A6FF0DCE7059A5A\n",
      "notBefore=Sep 26 03:32:40 2024 GMT\n",
      "notAfter=Dec  5 03:32:40 2024 GMT\n",
      "--------------------------------------------\n",
      "subject=O=WARNING: PRIVATE KEY MADE PUBLIC, CN=EED0369D-4664-4D05-B6DB-D3E704A38C37\n",
      "serial=5F56B58CD0E1AB2F631D254E2077F40EC012C68E\n",
      "notBefore=Sep 26 03:32:40 2024 GMT\n",
      "notAfter=Dec 15 03:32:40 2024 GMT\n",
      "\n"
     ]
    }
   ],
   "source": [
    "%%bash\n",
    "FOLDER=\"data/poc\"\n",
    "\n",
    "# from signed certificates\n",
    "echo \"Basic Certificate Details:\"\n",
    "for RSA_SELF_SIGNED_PUBLIC_KEY_PEM in \"${FOLDER}\"/rsa_self-signed-public-key*.pem; do\n",
    "    echo \"--------------------------------------------\"\n",
    "    openssl x509 -noout -in \"${RSA_SELF_SIGNED_PUBLIC_KEY_PEM}\" \\\n",
    "        -subject -serial -startdate -enddate\n",
    "done\n",
    "echo \"\""
   ]
  },
  {
   "attachments": {},
   "cell_type": "markdown",
   "metadata": {},
   "source": [
    "### Extract RSA SubjectPublicKeyInfo\n",
    "\n",
    "We already derived the raw public key material earlier by accessing the private key for this information.  Here, we'll shift our focus to both the signing requests and self-signed certificates for analysis.\n",
    "\n",
    "First, we'll access the signing requests to extract the `SubjectPublicKeyInfo` data and convert it to DER (binary) format.  Then we'll access each self-signed certificate to perform a similar action.\n",
    "\n",
    "> Note: when using the `-pubkey` option, the output will often contain two sections, in ASCII format, defining the `PUBLIC KEY` and `CERTIFICATE REQUEST`.  We use `sed` to parse out only the `PUBLIC KEY` portion of this output."
   ]
  },
  {
   "cell_type": "code",
   "execution_count": 35,
   "metadata": {
    "vscode": {
     "languageId": "shellscript"
    }
   },
   "outputs": [
    {
     "name": "stdout",
     "output_type": "stream",
     "text": [
      "Extracting the SubjectPublicKeyInfo from RSA Signing Requests:\n",
      "--------------------------------------------\n",
      "Creating Public Key Info PEM: data/poc/rsa_public-key-info_via_signing-request_69194C7B-EE63-4285-8589-AEAD4B5B0913.pem\n",
      "Converting PEM to DER: data/poc/rsa_public-key-info_via_signing-request_69194C7B-EE63-4285-8589-AEAD4B5B0913.der\n",
      "    0:d=0  hl=4 l= 290 cons: SEQUENCE          \n",
      "    4:d=1  hl=2 l=  13 cons: SEQUENCE          \n",
      "    6:d=2  hl=2 l=   9 prim: OBJECT            :rsaEncryption\n",
      "   17:d=2  hl=2 l=   0 prim: NULL              \n",
      "   19:d=1  hl=4 l= 271 prim: BIT STRING        \n",
      "\n",
      "Creating Public Key Info PEM: data/poc/rsa_public-key-info_via_signing-request_6E412595-7D7F-48BE-9CB9-29ECA7D66F04.pem\n",
      "Converting PEM to DER: data/poc/rsa_public-key-info_via_signing-request_6E412595-7D7F-48BE-9CB9-29ECA7D66F04.der\n",
      "    0:d=0  hl=4 l= 290 cons: SEQUENCE          \n",
      "    4:d=1  hl=2 l=  13 cons: SEQUENCE          \n",
      "    6:d=2  hl=2 l=   9 prim: OBJECT            :rsaEncryption\n",
      "   17:d=2  hl=2 l=   0 prim: NULL              \n",
      "   19:d=1  hl=4 l= 271 prim: BIT STRING        \n",
      "\n",
      "Creating Public Key Info PEM: data/poc/rsa_public-key-info_via_signing-request_A6035CB3-3537-4FF5-9288-2B3011D7D50B.pem\n",
      "Converting PEM to DER: data/poc/rsa_public-key-info_via_signing-request_A6035CB3-3537-4FF5-9288-2B3011D7D50B.der\n",
      "    0:d=0  hl=4 l= 290 cons: SEQUENCE          \n",
      "    4:d=1  hl=2 l=  13 cons: SEQUENCE          \n",
      "    6:d=2  hl=2 l=   9 prim: OBJECT            :rsaEncryption\n",
      "   17:d=2  hl=2 l=   0 prim: NULL              \n",
      "   19:d=1  hl=4 l= 271 prim: BIT STRING        \n",
      "\n",
      "Creating Public Key Info PEM: data/poc/rsa_public-key-info_via_signing-request_D81AC179-9F3A-43B3-883F-BAAC79A8463B.pem\n",
      "Converting PEM to DER: data/poc/rsa_public-key-info_via_signing-request_D81AC179-9F3A-43B3-883F-BAAC79A8463B.der\n",
      "    0:d=0  hl=4 l= 290 cons: SEQUENCE          \n",
      "    4:d=1  hl=2 l=  13 cons: SEQUENCE          \n",
      "    6:d=2  hl=2 l=   9 prim: OBJECT            :rsaEncryption\n",
      "   17:d=2  hl=2 l=   0 prim: NULL              \n",
      "   19:d=1  hl=4 l= 271 prim: BIT STRING        \n",
      "\n",
      "Creating Public Key Info PEM: data/poc/rsa_public-key-info_via_signing-request_EED0369D-4664-4D05-B6DB-D3E704A38C37.pem\n",
      "Converting PEM to DER: data/poc/rsa_public-key-info_via_signing-request_EED0369D-4664-4D05-B6DB-D3E704A38C37.der\n",
      "    0:d=0  hl=4 l= 290 cons: SEQUENCE          \n",
      "    4:d=1  hl=2 l=  13 cons: SEQUENCE          \n",
      "    6:d=2  hl=2 l=   9 prim: OBJECT            :rsaEncryption\n",
      "   17:d=2  hl=2 l=   0 prim: NULL              \n",
      "   19:d=1  hl=4 l= 271 prim: BIT STRING        \n",
      "\n",
      "\n",
      "Extracting the SubjectPublicKeyInfo from RSA Self-Signed Certificates:\n",
      "--------------------------------------------\n",
      "Creating Public Key Info PEM: data/poc/rsa_public-key-info_via_self-signed_69194C7B-EE63-4285-8589-AEAD4B5B0913.pem\n",
      "Converting PEM to DER: data/poc/rsa_public-key-info_via_self-signed_69194C7B-EE63-4285-8589-AEAD4B5B0913.der\n",
      "    0:d=0  hl=4 l= 290 cons: SEQUENCE          \n",
      "    4:d=1  hl=2 l=  13 cons: SEQUENCE          \n",
      "    6:d=2  hl=2 l=   9 prim: OBJECT            :rsaEncryption\n",
      "   17:d=2  hl=2 l=   0 prim: NULL              \n",
      "   19:d=1  hl=4 l= 271 prim: BIT STRING        \n",
      "\n",
      "Creating Public Key Info PEM: data/poc/rsa_public-key-info_via_self-signed_6E412595-7D7F-48BE-9CB9-29ECA7D66F04.pem\n",
      "Converting PEM to DER: data/poc/rsa_public-key-info_via_self-signed_6E412595-7D7F-48BE-9CB9-29ECA7D66F04.der\n",
      "    0:d=0  hl=4 l= 290 cons: SEQUENCE          \n",
      "    4:d=1  hl=2 l=  13 cons: SEQUENCE          \n",
      "    6:d=2  hl=2 l=   9 prim: OBJECT            :rsaEncryption\n",
      "   17:d=2  hl=2 l=   0 prim: NULL              \n",
      "   19:d=1  hl=4 l= 271 prim: BIT STRING        \n",
      "\n",
      "Creating Public Key Info PEM: data/poc/rsa_public-key-info_via_self-signed_A6035CB3-3537-4FF5-9288-2B3011D7D50B.pem\n",
      "Converting PEM to DER: data/poc/rsa_public-key-info_via_self-signed_A6035CB3-3537-4FF5-9288-2B3011D7D50B.der\n",
      "    0:d=0  hl=4 l= 290 cons: SEQUENCE          \n",
      "    4:d=1  hl=2 l=  13 cons: SEQUENCE          \n",
      "    6:d=2  hl=2 l=   9 prim: OBJECT            :rsaEncryption\n",
      "   17:d=2  hl=2 l=   0 prim: NULL              \n",
      "   19:d=1  hl=4 l= 271 prim: BIT STRING        \n",
      "\n",
      "Creating Public Key Info PEM: data/poc/rsa_public-key-info_via_self-signed_D81AC179-9F3A-43B3-883F-BAAC79A8463B.pem\n",
      "Converting PEM to DER: data/poc/rsa_public-key-info_via_self-signed_D81AC179-9F3A-43B3-883F-BAAC79A8463B.der\n",
      "    0:d=0  hl=4 l= 290 cons: SEQUENCE          \n",
      "    4:d=1  hl=2 l=  13 cons: SEQUENCE          \n",
      "    6:d=2  hl=2 l=   9 prim: OBJECT            :rsaEncryption\n",
      "   17:d=2  hl=2 l=   0 prim: NULL              \n",
      "   19:d=1  hl=4 l= 271 prim: BIT STRING        \n",
      "\n",
      "Creating Public Key Info PEM: data/poc/rsa_public-key-info_via_self-signed_EED0369D-4664-4D05-B6DB-D3E704A38C37.pem\n",
      "Converting PEM to DER: data/poc/rsa_public-key-info_via_self-signed_EED0369D-4664-4D05-B6DB-D3E704A38C37.der\n",
      "    0:d=0  hl=4 l= 290 cons: SEQUENCE          \n",
      "    4:d=1  hl=2 l=  13 cons: SEQUENCE          \n",
      "    6:d=2  hl=2 l=   9 prim: OBJECT            :rsaEncryption\n",
      "   17:d=2  hl=2 l=   0 prim: NULL              \n",
      "   19:d=1  hl=4 l= 271 prim: BIT STRING        \n",
      "\n",
      "\n"
     ]
    }
   ],
   "source": [
    "%%bash\n",
    "FOLDER=\"data/poc\"\n",
    "\n",
    "echo \"Extracting the SubjectPublicKeyInfo from RSA Signing Requests:\"\n",
    "echo \"--------------------------------------------\"\n",
    "# from signing request\n",
    "for RSA_SIGNING_REQUEST_PEM in \"${FOLDER}\"/rsa_signing-request*.pem; do\n",
    "    GUID=$(openssl req -noout -in \"${RSA_SIGNING_REQUEST_PEM}\" -subject | awk -F 'CN=' '{print $2}')\n",
    "    RSA_PUBLIC_KEY_INFO_SIGNING_REQUEST_PEM=\"${FOLDER}/rsa_public-key-info_via_signing-request_${GUID}.pem\" \n",
    "    RSA_PUBLIC_KEY_INFO_SIGNING_REQUEST_DER=\"${FOLDER}/rsa_public-key-info_via_signing-request_${GUID}.der\"  \n",
    "\n",
    "    # creating PEM signed certificate\n",
    "    echo \"Creating Public Key Info PEM: ${RSA_PUBLIC_KEY_INFO_SIGNING_REQUEST_PEM}\"\n",
    "    openssl req -pubkey -inform PEM -in \"${RSA_SIGNING_REQUEST_PEM}\" | \\\n",
    "        sed -n '/BEGIN\\ PUBLIC\\ KEY/,/END\\ PUBLIC\\ KEY/p' > \"${RSA_PUBLIC_KEY_INFO_SIGNING_REQUEST_PEM}\"\n",
    "\n",
    "    # converting PEM to DER\n",
    "    echo \"Converting PEM to DER: ${RSA_PUBLIC_KEY_INFO_SIGNING_REQUEST_DER}\"\n",
    "    openssl asn1parse -inform PEM -in \"${RSA_PUBLIC_KEY_INFO_SIGNING_REQUEST_PEM}\" -out \"${RSA_PUBLIC_KEY_INFO_SIGNING_REQUEST_DER}\"\n",
    "    echo \"\"\n",
    "done\n",
    "echo \"\"\n",
    "\n",
    "echo \"Extracting the SubjectPublicKeyInfo from RSA Self-Signed Certificates:\"\n",
    "echo \"--------------------------------------------\"\n",
    "# from self-signed public key\n",
    "for RSA_SELF_SIGNED_PUBLIC_KEY_PEM in \"${FOLDER}\"/rsa_self-signed-public-key*.pem; do\n",
    "    GUID=$(openssl x509 -noout -in \"${RSA_SELF_SIGNED_PUBLIC_KEY_PEM}\" -subject | awk -F 'CN=' '{print $2}')\n",
    "    RSA_PUBLIC_KEY_INFO_SELF_SIGNED_PEM=\"${FOLDER}/rsa_public-key-info_via_self-signed_${GUID}.pem\" \n",
    "    RSA_PUBLIC_KEY_INFO_SELF_SIGNED_DER=\"${FOLDER}/rsa_public-key-info_via_self-signed_${GUID}.der\"  \n",
    "\n",
    "    # creating PEM signed certificate\n",
    "    echo \"Creating Public Key Info PEM: ${RSA_PUBLIC_KEY_INFO_SELF_SIGNED_PEM}\"\n",
    "    openssl x509 -pubkey -inform PEM -in \"${RSA_SELF_SIGNED_PUBLIC_KEY_PEM}\" | \\\n",
    "        sed -n '/BEGIN\\ PUBLIC\\ KEY/,/END\\ PUBLIC\\ KEY/p' > \"${RSA_PUBLIC_KEY_INFO_SELF_SIGNED_PEM}\"\n",
    "\n",
    "    # converting PEM to DER\n",
    "    echo \"Converting PEM to DER: ${RSA_PUBLIC_KEY_INFO_SELF_SIGNED_DER}\"\n",
    "    openssl asn1parse -inform PEM -in \"${RSA_PUBLIC_KEY_INFO_SELF_SIGNED_PEM}\" -out \"${RSA_PUBLIC_KEY_INFO_SELF_SIGNED_DER}\"\n",
    "    echo \"\"\n",
    "done\n",
    "echo \"\"\n"
   ]
  },
  {
   "attachments": {},
   "cell_type": "markdown",
   "metadata": {},
   "source": [
    "### Compare PublicKeyInfo Digests\n",
    "\n",
    "In summary, we've performed the following actions:\n",
    "1. Derived the public key from a single private key \n",
    "<br>(see `*public-key-info_via_private_key*.der`).\n",
    "2. Extracted the public key material from multiple certificate signing requests\n",
    "<br>(see `*public-key-info_via_signing-request*.der`).\n",
    "3. Extracted the public key material from multiple self-signed certificates \n",
    "<br>(see `*public-key-info_via_self-signed*.der`).\n",
    "\n",
    "Do we have message digests which match across all these different exports?\n",
    "\n",
    "> Note 1: If you do not see the results you expect, make sure you are [Erase All RSA Key Data](#Erase-All-RSA-Key-Data) between test runs.\n",
    "\n",
    "If you want more samples, then follow these steps without erasing or resetting the RSA data.\n",
    "1. Run [Generate RSA Signing Requests](#generate-rsa-signing-requests) multiple times.  e.g. 4 more times for a total of 25 signing requests.\n",
    "2. Run [Self-Sign RSA Signing Requests](#self-sign-rsa-signing-requests) just once.  \n",
    "3. Run [Extract RSA SubjectPublicKeyInfo](#extract-rsa-subjectpublickeyinfo) just once.\n",
    "4. Run this cell again."
   ]
  },
  {
   "cell_type": "code",
   "execution_count": 36,
   "metadata": {
    "vscode": {
     "languageId": "shellscript"
    }
   },
   "outputs": [
    {
     "name": "stdout",
     "output_type": "stream",
     "text": [
      "Summary of Unique RSA Key Data:\n",
      "   Signed Certificates: 5\n",
      "  SubjectPublicKeyInfo: 1\n",
      "\n",
      "Certificate (DER) Digests (SHA256):\n",
      "f8ed4f335a9d56dc3eb1368708b42d8308aa3d0c2ff6a1e11fabee5821c237dc  data/poc/rsa_self-signed-public-key_69194C7B-EE63-4285-8589-AEAD4B5B0913.der\n",
      "f08db7ab981af7e00dbee1c3e71c3fa5fd8e4317702775cbc6d01f2688282cd2  data/poc/rsa_self-signed-public-key_6E412595-7D7F-48BE-9CB9-29ECA7D66F04.der\n",
      "cd99d5172f9fd225d47e0525a993c5ae753d9b90ac0315493344e7f157568676  data/poc/rsa_self-signed-public-key_A6035CB3-3537-4FF5-9288-2B3011D7D50B.der\n",
      "8eb1b83d0af297910a7919e105f147a69e48e5c541e2c255685cb1cfb0b90298  data/poc/rsa_self-signed-public-key_D81AC179-9F3A-43B3-883F-BAAC79A8463B.der\n",
      "a2a208be27faee073d798d73e05b588ee3543c9d9ce9e4c63e1db142231be5dc  data/poc/rsa_self-signed-public-key_EED0369D-4664-4D05-B6DB-D3E704A38C37.der\n",
      "\n",
      "SubjectPublicKeyInfo Digests (SHA256):\n",
      "[SubjectPublicKeyInfo derived from the Private Key]\n",
      "a13c1e5bcbb9ef170c9ffe3435c7e6961363048dc5c17e86c0ccbd353330170f  data/poc/rsa_public-key-info_via_private-key_pkey.der\n",
      "a13c1e5bcbb9ef170c9ffe3435c7e6961363048dc5c17e86c0ccbd353330170f  data/poc/rsa_public-key-info_via_private-key_rsa.der\n",
      "[SubjectPublicKeyInfo extracted from Signing Requests]\n",
      "a13c1e5bcbb9ef170c9ffe3435c7e6961363048dc5c17e86c0ccbd353330170f  data/poc/rsa_public-key-info_via_signing-request_69194C7B-EE63-4285-8589-AEAD4B5B0913.der\n",
      "a13c1e5bcbb9ef170c9ffe3435c7e6961363048dc5c17e86c0ccbd353330170f  data/poc/rsa_public-key-info_via_signing-request_6E412595-7D7F-48BE-9CB9-29ECA7D66F04.der\n",
      "a13c1e5bcbb9ef170c9ffe3435c7e6961363048dc5c17e86c0ccbd353330170f  data/poc/rsa_public-key-info_via_signing-request_A6035CB3-3537-4FF5-9288-2B3011D7D50B.der\n",
      "a13c1e5bcbb9ef170c9ffe3435c7e6961363048dc5c17e86c0ccbd353330170f  data/poc/rsa_public-key-info_via_signing-request_D81AC179-9F3A-43B3-883F-BAAC79A8463B.der\n",
      "a13c1e5bcbb9ef170c9ffe3435c7e6961363048dc5c17e86c0ccbd353330170f  data/poc/rsa_public-key-info_via_signing-request_EED0369D-4664-4D05-B6DB-D3E704A38C37.der\n",
      "[SubjectPublicKeyInfo extracted from Self-Signed Certificates]\n",
      "a13c1e5bcbb9ef170c9ffe3435c7e6961363048dc5c17e86c0ccbd353330170f  data/poc/rsa_public-key-info_via_self-signed_69194C7B-EE63-4285-8589-AEAD4B5B0913.der\n",
      "a13c1e5bcbb9ef170c9ffe3435c7e6961363048dc5c17e86c0ccbd353330170f  data/poc/rsa_public-key-info_via_self-signed_6E412595-7D7F-48BE-9CB9-29ECA7D66F04.der\n",
      "a13c1e5bcbb9ef170c9ffe3435c7e6961363048dc5c17e86c0ccbd353330170f  data/poc/rsa_public-key-info_via_self-signed_A6035CB3-3537-4FF5-9288-2B3011D7D50B.der\n",
      "a13c1e5bcbb9ef170c9ffe3435c7e6961363048dc5c17e86c0ccbd353330170f  data/poc/rsa_public-key-info_via_self-signed_D81AC179-9F3A-43B3-883F-BAAC79A8463B.der\n",
      "a13c1e5bcbb9ef170c9ffe3435c7e6961363048dc5c17e86c0ccbd353330170f  data/poc/rsa_public-key-info_via_self-signed_EED0369D-4664-4D05-B6DB-D3E704A38C37.der\n"
     ]
    }
   ],
   "source": [
    "%%bash\n",
    "FOLDER=\"data/poc\"\n",
    "\n",
    "# basic error checking\n",
    "if ! find \"${FOLDER}\" -type f -name \"rsa_self-signed-public-key*.der\" | grep -q .; then\n",
    "    echo \"WARNING: No RSA Self-Signed Certificates found.\"\n",
    "    echo \"         Please run the previous cells to generate RSA content.\"\n",
    "    exit\n",
    "fi\n",
    "\n",
    "UNIQUE_DER_DIGEST_COUNT=$(sha256sum \"${FOLDER}\"/rsa_self-signed-public-key*.der \\\n",
    "    | awk '{print $1}' | sort | uniq | wc -l | awk '{print $1}')\n",
    "\n",
    "UNIQUE_SPKI_DIGEST_COUNT=$(sha256sum \"${FOLDER}\"/rsa_public-key-info*.der \\\n",
    "    | awk '{print $1}' | sort | uniq | wc -l | awk '{print $1}')\n",
    "\n",
    "# if UNIQUE_SPKI_DIGEST_COUNT greater than 1 then issue a warning\n",
    "if [ \"${UNIQUE_SPKI_DIGEST_COUNT}\" -gt 1 ]; then\n",
    "    echo \"WARNING: Multiple SubjectPublicKeyInfo Digests found.\"\n",
    "    echo \"         Did you forget to erase all key data between runs?\"\n",
    "    echo \"\"\n",
    "fi\n",
    "\n",
    "echo \"Summary of Unique RSA Key Data:\"\n",
    "echo \"   Signed Certificates: ${UNIQUE_DER_DIGEST_COUNT}\"\n",
    "echo \"  SubjectPublicKeyInfo: ${UNIQUE_SPKI_DIGEST_COUNT}\"\n",
    "echo \"\"\n",
    "\n",
    "echo \"Certificate (DER) Digests (SHA256):\"\n",
    "sha256sum \"${FOLDER}\"/rsa_self-signed-public-key*.der\n",
    "echo \"\"\n",
    "\n",
    "echo \"SubjectPublicKeyInfo Digests (SHA256):\"\n",
    "echo \"[SubjectPublicKeyInfo derived from the Private Key]\"\n",
    "sha256sum \"${FOLDER}\"/rsa_public-key-info_via_private-key*.der | sort\n",
    "echo \"[SubjectPublicKeyInfo extracted from Signing Requests]\"\n",
    "sha256sum \"${FOLDER}\"/rsa_public-key-info_via_signing-request*.der | sort\n",
    "echo \"[SubjectPublicKeyInfo extracted from Self-Signed Certificates]\"\n",
    "sha256sum \"${FOLDER}\"/rsa_public-key-info_via_self-signed*.der | sort\n"
   ]
  },
  {
   "attachments": {},
   "cell_type": "markdown",
   "metadata": {},
   "source": [
    "### Erase All RSA Key Data\n",
    "\n",
    "Use this to reset the proof-of-concept data related to RSA key data."
   ]
  },
  {
   "cell_type": "code",
   "execution_count": 29,
   "metadata": {
    "vscode": {
     "languageId": "shellscript"
    }
   },
   "outputs": [],
   "source": [
    "%%bash\n",
    "FOLDER=\"data/poc\"\n",
    "\n",
    "# if folder exists, remove it\n",
    "rm -rf \"${FOLDER}\"/rsa_*"
   ]
  },
  {
   "attachments": {},
   "cell_type": "markdown",
   "metadata": {},
   "source": [
    "## EC\n",
    "\n",
    "Resources:\n",
    "\n",
    "1. [openssl-asn1parse](https://docs.openssl.org/master/man1/openssl-asn1parse/) processing ASN.1 files\n",
    "2. [openssl-ec](https://docs.openssl.org/master/man1/openssl-ec/) generating elliptic curve private keys\n",
    "3. [openssl-pkey](https://docs.openssl.org/master/man1/openssl-pkey/) interacting with private keys\n",
    "4. [openssl-req](https://docs.openssl.org/master/man1/openssl-req/) processing signing-requests\n",
    "5. [openssl-x509](https://docs.openssl.org/master/man1/openssl-x509/) processing X.509 certificates\n"
   ]
  },
  {
   "attachments": {},
   "cell_type": "markdown",
   "metadata": {
    "vscode": {
     "languageId": "shellscript"
    }
   },
   "source": [
    "### Generate EC Private Key\n",
    "\n",
    "For illustration purposes, let us create a single RSA private key. \n",
    "\n",
    "> Warning: Please do not use these keys in any production or live environment as they are intended for demonstration purposes only.  As a _demo_, you have no control over who may have viewed or obtain a copy of this key material making these private keys potentially _public_."
   ]
  },
  {
   "cell_type": "code",
   "execution_count": 37,
   "metadata": {
    "vscode": {
     "languageId": "shellscript"
    }
   },
   "outputs": [
    {
     "name": "stdout",
     "output_type": "stream",
     "text": [
      "Environment:\n",
      "  Working Folder:  'data/poc'\n",
      "  Private Key PEM: 'data/poc/ec_private-key.pem'\n",
      "  Private Key DER: 'data/poc/ec_private-key.der'\n",
      "  Elliptic Curve:  'prime256v1'\n",
      "\n",
      "Generating EC Private Key:\n"
     ]
    },
    {
     "name": "stderr",
     "output_type": "stream",
     "text": [
      "read EC key\n",
      "writing EC key\n"
     ]
    },
    {
     "name": "stdout",
     "output_type": "stream",
     "text": [
      "\n",
      "Files:\n",
      "-rw-------@ 1   121 Sep 25 23:32 data/poc/ec_private-key.der\n",
      "-rw-------@ 1   227 Sep 25 23:32 data/poc/ec_private-key.pem\n",
      "\n",
      "File Types:\n",
      "data/poc/ec_private-key.der: data\n",
      "data/poc/ec_private-key.pem: PEM EC private key\n",
      "\n",
      "File Digests (SHA256):\n",
      "6414c91ee585e9dec930ae84160997096c0083b3f6769b8795045859689b07c5  data/poc/ec_private-key.der\n",
      "c3a331d92fabb520dff932f2d9e526f6041be58817049bfc7551da2014c4a298  data/poc/ec_private-key.pem\n"
     ]
    }
   ],
   "source": [
    "%%bash\n",
    "# preamble\n",
    "FOLDER=\"data/poc\"\n",
    "mkdir -p \"${FOLDER}\"\n",
    "EC_PRIVATE_KEY_PEM=\"${FOLDER}/ec_private-key.pem\"\n",
    "EC_PRIVATE_KEY_DER=\"${FOLDER}/ec_private-key.der\"\n",
    "EC_CURVE=\"prime256v1\" # `prime256v1` and `secp384r1`\n",
    "\n",
    "# validate environment\n",
    "echo \"Environment:\"\n",
    "echo \"  Working Folder:  '${FOLDER}'\"\n",
    "echo \"  Private Key PEM: '${EC_PRIVATE_KEY_PEM}'\"\n",
    "echo \"  Private Key DER: '${EC_PRIVATE_KEY_DER}'\"\n",
    "echo \"  Elliptic Curve:  '${EC_CURVE}'\"\n",
    "echo \"\"\n",
    "\n",
    "# execute\n",
    "echo \"Generating EC Private Key:\"\n",
    "\n",
    "# create the private key in PEM form.\n",
    "openssl ecparam -genkey -name \"${EC_CURVE}\" -noout -out \"${EC_PRIVATE_KEY_PEM}\"\n",
    "\n",
    "# convert private key from PEM (ASCII) to DER (binary)\n",
    "openssl ec -inform pem -in \"${EC_PRIVATE_KEY_PEM}\" -outform der -out \"${EC_PRIVATE_KEY_DER}\"\n",
    "echo \"\"\n",
    "\n",
    "# valdiate result\n",
    "echo \"Files:\"\n",
    "ls -l -go \"${FOLDER}\"/ec_private-key.*\n",
    "echo \"\"\n",
    "\n",
    "echo \"File Types:\"\n",
    "file \"${FOLDER}\"/ec_private-key.*\n",
    "echo \"\"\n",
    "\n",
    "echo \"File Digests (SHA256):\"\n",
    "sha256sum \"${FOLDER}\"/ec_private-key.*\n"
   ]
  },
  {
   "attachments": {},
   "cell_type": "markdown",
   "metadata": {},
   "source": [
    "### Derive the EC Public Key\n",
    "\n",
    "The raw private key material itself does not contain the public key.  However we can derive the cryptographic public key material from the private key using one of the `openssl` command options.  \n",
    "1. `openssl ec -pubout ...`\n",
    "2. `openssl pkey -pubout ...`"
   ]
  },
  {
   "cell_type": "code",
   "execution_count": 38,
   "metadata": {
    "vscode": {
     "languageId": "shellscript"
    }
   },
   "outputs": [
    {
     "name": "stdout",
     "output_type": "stream",
     "text": [
      "Environment:\n",
      "  EC Private Key PEM: 'data/poc/ec_private-key.pem'\n",
      "  EC Private Key DER: 'data/poc/ec_private-key.der'\n",
      "\n",
      "Deriving the EC Public Key using the corresponding Private Key (ec):\n"
     ]
    },
    {
     "name": "stderr",
     "output_type": "stream",
     "text": [
      "read EC key\n",
      "writing EC key\n",
      "read EC key\n",
      "writing EC key\n"
     ]
    },
    {
     "name": "stdout",
     "output_type": "stream",
     "text": [
      "\n",
      "Deriving the EC Public Key using the corresponding Private Key (pkey):\n",
      "\n",
      "EC Files:\n",
      "-rw-r--r--@ 1    91 Sep 25 23:32 data/poc/ec_public-key-info_via_private-key_ec.der\n",
      "-rw-r--r--@ 1   178 Sep 25 23:32 data/poc/ec_public-key-info_via_private-key_ec.pem\n",
      "-rw-r--r--@ 1    91 Sep 25 23:32 data/poc/ec_public-key-info_via_private-key_pkey.der\n",
      "-rw-r--r--@ 1   178 Sep 25 23:32 data/poc/ec_public-key-info_via_private-key_pkey.pem\n",
      "\n",
      "EC File Types:\n",
      "data/poc/ec_public-key-info_via_private-key_ec.der:   data\n",
      "data/poc/ec_public-key-info_via_private-key_ec.pem:   ASCII text\n",
      "data/poc/ec_public-key-info_via_private-key_pkey.der: data\n",
      "data/poc/ec_public-key-info_via_private-key_pkey.pem: ASCII text\n",
      "\n",
      "EC File Digests (SHA256):\n",
      "78022eda18221a25c68ec935c70af9a3c0c7a51467b9236f46a367eabc389512  data/poc/ec_public-key-info_via_private-key_ec.der\n",
      "78022eda18221a25c68ec935c70af9a3c0c7a51467b9236f46a367eabc389512  data/poc/ec_public-key-info_via_private-key_pkey.der\n",
      "---\n",
      "01f218e331fc1b9109420cd47fafb1b5938d47069e86081d24041c7f032dc1ac  data/poc/ec_public-key-info_via_private-key_ec.pem\n",
      "01f218e331fc1b9109420cd47fafb1b5938d47069e86081d24041c7f032dc1ac  data/poc/ec_public-key-info_via_private-key_pkey.pem\n"
     ]
    }
   ],
   "source": [
    "%%bash\n",
    "# preamble\n",
    "FOLDER=\"data/poc\"\n",
    "EC_PRIVATE_KEY_PEM=\"${FOLDER}/ec_private-key.pem\"\n",
    "EC_PRIVATE_KEY_DER=\"${FOLDER}/ec_private-key.der\"\n",
    "\n",
    "# validate environment\n",
    "echo \"Environment:\"\n",
    "echo \"  EC Private Key PEM: '${EC_PRIVATE_KEY_PEM}'\"\n",
    "echo \"  EC Private Key DER: '${EC_PRIVATE_KEY_DER}'\"\n",
    "echo \"\"\n",
    "\n",
    "# execute\n",
    "echo \"Deriving the EC Public Key using the corresponding Private Key (ec):\"\n",
    "openssl ec -pubout -inform PEM -in \"${EC_PRIVATE_KEY_PEM}\" \\\n",
    "    -outform PEM -out \"${FOLDER}/ec_public-key-info_via_private-key_ec.pem\"\n",
    "openssl ec -pubout -inform DER -in \"${EC_PRIVATE_KEY_DER}\" \\\n",
    "    -outform DER -out \"${FOLDER}/ec_public-key-info_via_private-key_ec.der\"\n",
    "echo \"\"\n",
    "\n",
    "echo \"Deriving the EC Public Key using the corresponding Private Key (pkey):\"\n",
    "openssl pkey -pubout -inform PEM -in \"${EC_PRIVATE_KEY_PEM}\" \\\n",
    "    -outform PEM -out \"${FOLDER}\"/ec_public-key-info_via_private-key_pkey.pem\n",
    "openssl pkey -pubout -inform DER -in \"${EC_PRIVATE_KEY_DER}\" \\\n",
    "    -outform DER -out \"${FOLDER}\"/ec_public-key-info_via_private-key_pkey.der\n",
    "echo \"\"\n",
    "\n",
    "# validate results\n",
    "echo \"EC Files:\"\n",
    "ls -l -go \"${FOLDER}\"/ec_public-key-info_via_private-key*\n",
    "echo \"\"\n",
    "\n",
    "echo \"EC File Types:\"\n",
    "file \"${FOLDER}\"/ec_public-key-info_via_private-key*\n",
    "echo \"\"\n",
    "\n",
    "echo \"EC File Digests (SHA256):\"\n",
    "sha256sum \"${FOLDER}\"/ec_public-key-info_via_private-key*.der\n",
    "echo \"---\"\n",
    "sha256sum \"${FOLDER}\"/ec_public-key-info_via_private-key*.pem"
   ]
  },
  {
   "attachments": {},
   "cell_type": "markdown",
   "metadata": {},
   "source": [
    "### Generate EC Signing Requests\n",
    "\n",
    "Our goal is to create multiple unique signed public certificates each based on the single private key we just created.  To begin, we must create a set of _certificate signing requests_, each provided with a unique name.\n",
    "\n",
    "To uniquely identify each signing request (and later the certificate) we apply a unique ID to the request `CommonName` field of the `Subject`."
   ]
  },
  {
   "cell_type": "code",
   "execution_count": 39,
   "metadata": {
    "vscode": {
     "languageId": "shellscript"
    }
   },
   "outputs": [
    {
     "name": "stdout",
     "output_type": "stream",
     "text": [
      "Environment:\n",
      "  Signing Request Count: 5\n",
      "\n",
      "Creating PEM: data/poc/ec_signing-request_6BEBDA9A-0F3B-4832-91B1-69ECE219CCC4.pem\n",
      "Creating DER: data/poc/ec_signing-request_6BEBDA9A-0F3B-4832-91B1-69ECE219CCC4.der\n",
      "Creating PEM: data/poc/ec_signing-request_F1ED8A3B-2BEE-4321-A8F3-81FB50BB1DCA.pem\n",
      "Creating DER: data/poc/ec_signing-request_F1ED8A3B-2BEE-4321-A8F3-81FB50BB1DCA.der\n",
      "Creating PEM: data/poc/ec_signing-request_BD8F44FA-A698-4752-AE0B-1A5222C0DFBD.pem\n",
      "Creating DER: data/poc/ec_signing-request_BD8F44FA-A698-4752-AE0B-1A5222C0DFBD.der\n",
      "Creating PEM: data/poc/ec_signing-request_2CAD5697-EF16-4EBF-A597-04DA319D9127.pem\n",
      "Creating DER: data/poc/ec_signing-request_2CAD5697-EF16-4EBF-A597-04DA319D9127.der\n",
      "Creating PEM: data/poc/ec_signing-request_B7AA89F2-8E8D-4F0B-B5D7-85CEB01DBD6B.pem\n",
      "Creating DER: data/poc/ec_signing-request_B7AA89F2-8E8D-4F0B-B5D7-85CEB01DBD6B.der\n",
      "\n",
      "EC Signing Requests:\n",
      "-rw-r--r--@ 1   279 Sep 25 23:32 data/poc/ec_signing-request_2CAD5697-EF16-4EBF-A597-04DA319D9127.der\n",
      "-rw-r--r--@ 1   448 Sep 25 23:32 data/poc/ec_signing-request_2CAD5697-EF16-4EBF-A597-04DA319D9127.pem\n",
      "-rw-r--r--@ 1   282 Sep 25 23:32 data/poc/ec_signing-request_6BEBDA9A-0F3B-4832-91B1-69ECE219CCC4.der\n",
      "-rw-r--r--@ 1   452 Sep 25 23:32 data/poc/ec_signing-request_6BEBDA9A-0F3B-4832-91B1-69ECE219CCC4.pem\n",
      "-rw-r--r--@ 1   281 Sep 25 23:32 data/poc/ec_signing-request_B7AA89F2-8E8D-4F0B-B5D7-85CEB01DBD6B.der\n",
      "-rw-r--r--@ 1   452 Sep 25 23:32 data/poc/ec_signing-request_B7AA89F2-8E8D-4F0B-B5D7-85CEB01DBD6B.pem\n",
      "-rw-r--r--@ 1   281 Sep 25 23:32 data/poc/ec_signing-request_BD8F44FA-A698-4752-AE0B-1A5222C0DFBD.der\n",
      "-rw-r--r--@ 1   452 Sep 25 23:32 data/poc/ec_signing-request_BD8F44FA-A698-4752-AE0B-1A5222C0DFBD.pem\n",
      "-rw-r--r--@ 1   281 Sep 25 23:32 data/poc/ec_signing-request_F1ED8A3B-2BEE-4321-A8F3-81FB50BB1DCA.der\n",
      "-rw-r--r--@ 1   452 Sep 25 23:32 data/poc/ec_signing-request_F1ED8A3B-2BEE-4321-A8F3-81FB50BB1DCA.pem\n",
      "\n",
      "EC File Types:\n",
      "data/poc/ec_signing-request_2CAD5697-EF16-4EBF-A597-04DA319D9127.der: DER Encoded Certificate request\n",
      "data/poc/ec_signing-request_2CAD5697-EF16-4EBF-A597-04DA319D9127.pem: PEM certificate request\n",
      "data/poc/ec_signing-request_6BEBDA9A-0F3B-4832-91B1-69ECE219CCC4.der: DER Encoded Certificate request\n",
      "data/poc/ec_signing-request_6BEBDA9A-0F3B-4832-91B1-69ECE219CCC4.pem: PEM certificate request\n",
      "data/poc/ec_signing-request_B7AA89F2-8E8D-4F0B-B5D7-85CEB01DBD6B.der: DER Encoded Certificate request\n",
      "data/poc/ec_signing-request_B7AA89F2-8E8D-4F0B-B5D7-85CEB01DBD6B.pem: PEM certificate request\n",
      "data/poc/ec_signing-request_BD8F44FA-A698-4752-AE0B-1A5222C0DFBD.der: DER Encoded Certificate request\n",
      "data/poc/ec_signing-request_BD8F44FA-A698-4752-AE0B-1A5222C0DFBD.pem: PEM certificate request\n",
      "data/poc/ec_signing-request_F1ED8A3B-2BEE-4321-A8F3-81FB50BB1DCA.der: DER Encoded Certificate request\n",
      "data/poc/ec_signing-request_F1ED8A3B-2BEE-4321-A8F3-81FB50BB1DCA.pem: PEM certificate request\n",
      "\n",
      "EC Signing Request Digests (SHA256):\n",
      "448f7c17c6f0383f68767a07e5e2845966d500097df930a911e0a042e5fabad6  data/poc/ec_signing-request_2CAD5697-EF16-4EBF-A597-04DA319D9127.der\n",
      "7b811260bfe6cef546606c24585d42f67888e0ed9cb4c241b3cadd7e84aa72d5  data/poc/ec_signing-request_6BEBDA9A-0F3B-4832-91B1-69ECE219CCC4.der\n",
      "50776b6130204b7fcb36a3f61f52467adcbf7b79c10363b3eeda73dde177887b  data/poc/ec_signing-request_B7AA89F2-8E8D-4F0B-B5D7-85CEB01DBD6B.der\n",
      "7bf6c3d846fa648578e21c69fb33a73d0ac412dd29ecb3b0ef96a31a85edb25d  data/poc/ec_signing-request_BD8F44FA-A698-4752-AE0B-1A5222C0DFBD.der\n",
      "62c2594dc391d5c2fa6851e0d55b4865777ae2643f6e829f55e84c739e4158a5  data/poc/ec_signing-request_F1ED8A3B-2BEE-4321-A8F3-81FB50BB1DCA.der\n",
      "---\n",
      "9bf106c893d68682e80ee1fdb19c747963df76795e016c97b18d049a267d84a3  data/poc/ec_signing-request_2CAD5697-EF16-4EBF-A597-04DA319D9127.pem\n",
      "6182a054251da724439d951ee3a50ea730198b90bcc7efb70e1113ebba30c277  data/poc/ec_signing-request_6BEBDA9A-0F3B-4832-91B1-69ECE219CCC4.pem\n",
      "96bcf103ef12262b1b956edf9d4fec003b9144b8c724d651e77b650967582cc6  data/poc/ec_signing-request_B7AA89F2-8E8D-4F0B-B5D7-85CEB01DBD6B.pem\n",
      "4e902e8ab670ce8b91a4b254692e788aaf3e4875efbb7f454e8285167c0a5e72  data/poc/ec_signing-request_BD8F44FA-A698-4752-AE0B-1A5222C0DFBD.pem\n",
      "d88a6da6f293ee6ab60a693d61cf2de916b11b477748f0617ccbce3b5da2af4b  data/poc/ec_signing-request_F1ED8A3B-2BEE-4321-A8F3-81FB50BB1DCA.pem\n",
      "\n"
     ]
    }
   ],
   "source": [
    "%%bash\n",
    "# preamble\n",
    "FOLDER=\"data/poc\"\n",
    "EC_PRIVATE_KEY_PEM=\"${FOLDER}/ec_private-key.pem\"\n",
    "MAX_SIGNING_REQUESTS=5\n",
    "\n",
    "\n",
    "echo \"Environment:\"\n",
    "echo \"  Signing Request Count: ${MAX_SIGNING_REQUESTS}\"\n",
    "echo \"\"\n",
    "\n",
    "for ((i=1; i<=\"${MAX_SIGNING_REQUESTS}\"; i++)); do\n",
    "    GUID=$(uuidgen)\n",
    "    EC_SIGNING_REQUEST_PEM=\"${FOLDER}/ec_signing-request_${GUID}.pem\"\n",
    "    EC_SIGNING_REQUEST_DER=\"${FOLDER}/ec_signing-request_${GUID}.der\"\n",
    "    \n",
    "    # creates PEM signing request\n",
    "    echo \"Creating PEM: ${EC_SIGNING_REQUEST_PEM}\"\n",
    "    openssl req -new -sha256 -inform pem -key \"${EC_PRIVATE_KEY_PEM}\" \\\n",
    "      -outform pem -out \"${EC_SIGNING_REQUEST_PEM}\" -subj \"/O=WARNING\\: PRIVATE KEY MADE PUBLIC/CN=${GUID}\"\n",
    "\n",
    "    # converts PEM to DER signing request\n",
    "    echo \"Creating DER: ${EC_SIGNING_REQUEST_DER}\"\n",
    "    openssl req -inform PEM -in \"${EC_SIGNING_REQUEST_PEM}\" \\\n",
    "      -outform DER -out \"${EC_SIGNING_REQUEST_DER}\"\n",
    "\n",
    "done\n",
    "echo \"\"\n",
    "\n",
    "echo \"EC Signing Requests:\"\n",
    "ls -l -go \"${FOLDER}\"/ec_signing-request*\n",
    "echo \"\"\n",
    "\n",
    "echo \"EC File Types:\"\n",
    "file \"${FOLDER}\"/ec_signing-request*\n",
    "echo \"\"\n",
    "\n",
    "echo \"EC Signing Request Digests (SHA256):\"\n",
    "sha256sum \"${FOLDER}\"/ec_signing-request*.der\n",
    "echo \"---\"\n",
    "sha256sum \"${FOLDER}\"/ec_signing-request*.pem\n",
    "echo \"\"\n"
   ]
  },
  {
   "attachments": {},
   "cell_type": "markdown",
   "metadata": {},
   "source": [
    "### Self-Sign EC Signing Requests\n",
    "\n",
    "Using the single private key, we can self-sign each of the signing requests to create a completed signed certificate for analysis."
   ]
  },
  {
   "cell_type": "code",
   "execution_count": 40,
   "metadata": {
    "vscode": {
     "languageId": "shellscript"
    }
   },
   "outputs": [
    {
     "name": "stdout",
     "output_type": "stream",
     "text": [
      "Creating Self-Signed PEM: data/poc/ec_self-signed-public-key_2CAD5697-EF16-4EBF-A597-04DA319D9127.pem\n"
     ]
    },
    {
     "name": "stderr",
     "output_type": "stream",
     "text": [
      "Certificate request self-signature ok\n",
      "subject=O=WARNING: PRIVATE KEY MADE PUBLIC, CN=2CAD5697-EF16-4EBF-A597-04DA319D9127\n"
     ]
    },
    {
     "name": "stdout",
     "output_type": "stream",
     "text": [
      "Converting PEM to DER: data/poc/ec_self-signed-public-key_2CAD5697-EF16-4EBF-A597-04DA319D9127.der\n",
      "Creating Self-Signed PEM: data/poc/ec_self-signed-public-key_6BEBDA9A-0F3B-4832-91B1-69ECE219CCC4.pem\n"
     ]
    },
    {
     "name": "stderr",
     "output_type": "stream",
     "text": [
      "Certificate request self-signature ok\n",
      "subject=O=WARNING: PRIVATE KEY MADE PUBLIC, CN=6BEBDA9A-0F3B-4832-91B1-69ECE219CCC4\n"
     ]
    },
    {
     "name": "stdout",
     "output_type": "stream",
     "text": [
      "Converting PEM to DER: data/poc/ec_self-signed-public-key_6BEBDA9A-0F3B-4832-91B1-69ECE219CCC4.der\n",
      "Creating Self-Signed PEM: data/poc/ec_self-signed-public-key_B7AA89F2-8E8D-4F0B-B5D7-85CEB01DBD6B.pem\n"
     ]
    },
    {
     "name": "stderr",
     "output_type": "stream",
     "text": [
      "Certificate request self-signature ok\n",
      "subject=O=WARNING: PRIVATE KEY MADE PUBLIC, CN=B7AA89F2-8E8D-4F0B-B5D7-85CEB01DBD6B\n"
     ]
    },
    {
     "name": "stdout",
     "output_type": "stream",
     "text": [
      "Converting PEM to DER: data/poc/ec_self-signed-public-key_B7AA89F2-8E8D-4F0B-B5D7-85CEB01DBD6B.der\n",
      "Creating Self-Signed PEM: data/poc/ec_self-signed-public-key_BD8F44FA-A698-4752-AE0B-1A5222C0DFBD.pem\n"
     ]
    },
    {
     "name": "stderr",
     "output_type": "stream",
     "text": [
      "Certificate request self-signature ok\n",
      "subject=O=WARNING: PRIVATE KEY MADE PUBLIC, CN=BD8F44FA-A698-4752-AE0B-1A5222C0DFBD\n"
     ]
    },
    {
     "name": "stdout",
     "output_type": "stream",
     "text": [
      "Converting PEM to DER: data/poc/ec_self-signed-public-key_BD8F44FA-A698-4752-AE0B-1A5222C0DFBD.der\n",
      "Creating Self-Signed PEM: data/poc/ec_self-signed-public-key_F1ED8A3B-2BEE-4321-A8F3-81FB50BB1DCA.pem\n"
     ]
    },
    {
     "name": "stderr",
     "output_type": "stream",
     "text": [
      "Certificate request self-signature ok\n",
      "subject=O=WARNING: PRIVATE KEY MADE PUBLIC, CN=F1ED8A3B-2BEE-4321-A8F3-81FB50BB1DCA\n"
     ]
    },
    {
     "name": "stdout",
     "output_type": "stream",
     "text": [
      "Converting PEM to DER: data/poc/ec_self-signed-public-key_F1ED8A3B-2BEE-4321-A8F3-81FB50BB1DCA.der\n",
      "\n",
      "EC Self-Signed Certificates:\n",
      "-rw-r--r--@ 1   475 Sep 25 23:32 data/poc/ec_self-signed-public-key_2CAD5697-EF16-4EBF-A597-04DA319D9127.der\n",
      "-rw-r--r--@ 1   700 Sep 25 23:32 data/poc/ec_self-signed-public-key_2CAD5697-EF16-4EBF-A597-04DA319D9127.pem\n",
      "-rw-r--r--@ 1   475 Sep 25 23:32 data/poc/ec_self-signed-public-key_6BEBDA9A-0F3B-4832-91B1-69ECE219CCC4.der\n",
      "-rw-r--r--@ 1   700 Sep 25 23:32 data/poc/ec_self-signed-public-key_6BEBDA9A-0F3B-4832-91B1-69ECE219CCC4.pem\n",
      "-rw-r--r--@ 1   474 Sep 25 23:32 data/poc/ec_self-signed-public-key_B7AA89F2-8E8D-4F0B-B5D7-85CEB01DBD6B.der\n",
      "-rw-r--r--@ 1   696 Sep 25 23:32 data/poc/ec_self-signed-public-key_B7AA89F2-8E8D-4F0B-B5D7-85CEB01DBD6B.pem\n",
      "-rw-r--r--@ 1   475 Sep 25 23:32 data/poc/ec_self-signed-public-key_BD8F44FA-A698-4752-AE0B-1A5222C0DFBD.der\n",
      "-rw-r--r--@ 1   700 Sep 25 23:32 data/poc/ec_self-signed-public-key_BD8F44FA-A698-4752-AE0B-1A5222C0DFBD.pem\n",
      "-rw-r--r--@ 1   475 Sep 25 23:32 data/poc/ec_self-signed-public-key_F1ED8A3B-2BEE-4321-A8F3-81FB50BB1DCA.der\n",
      "-rw-r--r--@ 1   700 Sep 25 23:32 data/poc/ec_self-signed-public-key_F1ED8A3B-2BEE-4321-A8F3-81FB50BB1DCA.pem\n",
      "\n",
      "EC Self-Signed Certificate File Types:\n",
      "data/poc/ec_self-signed-public-key_2CAD5697-EF16-4EBF-A597-04DA319D9127.der: Certificate, Version=3\n",
      "data/poc/ec_self-signed-public-key_2CAD5697-EF16-4EBF-A597-04DA319D9127.pem: PEM certificate\n",
      "data/poc/ec_self-signed-public-key_6BEBDA9A-0F3B-4832-91B1-69ECE219CCC4.der: Certificate, Version=3\n",
      "data/poc/ec_self-signed-public-key_6BEBDA9A-0F3B-4832-91B1-69ECE219CCC4.pem: PEM certificate\n",
      "data/poc/ec_self-signed-public-key_B7AA89F2-8E8D-4F0B-B5D7-85CEB01DBD6B.der: Certificate, Version=3\n",
      "data/poc/ec_self-signed-public-key_B7AA89F2-8E8D-4F0B-B5D7-85CEB01DBD6B.pem: PEM certificate\n",
      "data/poc/ec_self-signed-public-key_BD8F44FA-A698-4752-AE0B-1A5222C0DFBD.der: Certificate, Version=3\n",
      "data/poc/ec_self-signed-public-key_BD8F44FA-A698-4752-AE0B-1A5222C0DFBD.pem: PEM certificate\n",
      "data/poc/ec_self-signed-public-key_F1ED8A3B-2BEE-4321-A8F3-81FB50BB1DCA.der: Certificate, Version=3\n",
      "data/poc/ec_self-signed-public-key_F1ED8A3B-2BEE-4321-A8F3-81FB50BB1DCA.pem: PEM certificate\n",
      "\n",
      "EC Self-Signed Certificate SHA256 Digests:\n",
      "d5d7c9a90f68be0c9285eb4b6785335f87094c50506005b66a005669a6c4e844  data/poc/ec_self-signed-public-key_2CAD5697-EF16-4EBF-A597-04DA319D9127.der\n",
      "e16d032057dfdaebba193624ee44e0bb275e02b3432eddaf3f3a3ec8a185b12d  data/poc/ec_self-signed-public-key_6BEBDA9A-0F3B-4832-91B1-69ECE219CCC4.der\n",
      "7d3eb49e42dc9d5180290c936df753d4954316e0d85cfb0045b42caa3aa077b5  data/poc/ec_self-signed-public-key_B7AA89F2-8E8D-4F0B-B5D7-85CEB01DBD6B.der\n",
      "0f398bfa6c7d19157903518ff580bdb65477cfc6547e6fd6399861f8e0e6d0b7  data/poc/ec_self-signed-public-key_BD8F44FA-A698-4752-AE0B-1A5222C0DFBD.der\n",
      "927e518ef01938687e7a1c97430a25c4e15a553945f6c2c53fe70e5254335972  data/poc/ec_self-signed-public-key_F1ED8A3B-2BEE-4321-A8F3-81FB50BB1DCA.der\n",
      "---\n",
      "ea82b35f92b9b5b5b91a937cff0b6fb28e47fe3f3fb204453e7e3fef0325087a  data/poc/ec_self-signed-public-key_2CAD5697-EF16-4EBF-A597-04DA319D9127.pem\n",
      "1c4ca2c8bc6d615b3eeae30015035f530836634af391edf9ec8e7fe054372701  data/poc/ec_self-signed-public-key_6BEBDA9A-0F3B-4832-91B1-69ECE219CCC4.pem\n",
      "3b03e1452a1f297993b1e67010632c6e78f6b55fb3bda811a15a15078e891fa5  data/poc/ec_self-signed-public-key_B7AA89F2-8E8D-4F0B-B5D7-85CEB01DBD6B.pem\n",
      "bbde8a93224473aec126e697ffea3129dab27542e4f13befd7db891871000b73  data/poc/ec_self-signed-public-key_BD8F44FA-A698-4752-AE0B-1A5222C0DFBD.pem\n",
      "4740f3c5dfeaef19bbe9ab665d5e44fc1c4f4fa2017d19b709ae4ca45a376ea2  data/poc/ec_self-signed-public-key_F1ED8A3B-2BEE-4321-A8F3-81FB50BB1DCA.pem\n",
      "\n"
     ]
    }
   ],
   "source": [
    "%%bash\n",
    "# preamble\n",
    "FOLDER=\"data/poc\"\n",
    "EC_PRIVATE_KEY_PEM=\"${FOLDER}/ec_private-key.pem\"\n",
    "VALIDITY_DURATION=30\n",
    "VALIDITY_INCREMENT=10\n",
    "\n",
    "for EC_SIGNING_REQUEST_PEM in \"${FOLDER}\"/ec_signing-request*.pem; do\n",
    "    VALIDITY_DURATION=$((VALIDITY_DURATION+VALIDITY_INCREMENT))\n",
    "    GUID=$(openssl req -noout -in \"${EC_SIGNING_REQUEST_PEM}\" -subject | awk -F 'CN=' '{print $2}')\n",
    "    EC_SELF_SIGNED_PUBLIC_KEY_PEM=\"${FOLDER}/ec_self-signed-public-key_${GUID}.pem\" \n",
    "    EC_SELF_SIGNED_PUBLIC_KEY_DER=\"${FOLDER}/ec_self-signed-public-key_${GUID}.der\"  \n",
    "\n",
    "    # creating PEM signed certificate\n",
    "    echo \"Creating Self-Signed PEM: ${EC_SELF_SIGNED_PUBLIC_KEY_PEM}\"\n",
    "    openssl x509 -req -sha256 -days ${VALIDITY_DURATION} \\\n",
    "        -keyform PEM -signkey \"${EC_PRIVATE_KEY_PEM}\" \\\n",
    "        -inform PEM -in \"${EC_SIGNING_REQUEST_PEM}\" \\\n",
    "        -outform PEM -out \"${EC_SELF_SIGNED_PUBLIC_KEY_PEM}\"\n",
    "\n",
    "    # converting PEM to DER\n",
    "    echo \"Converting PEM to DER: ${EC_SELF_SIGNED_PUBLIC_KEY_DER}\"\n",
    "    openssl x509 -inform PEM -in \"${EC_SELF_SIGNED_PUBLIC_KEY_PEM}\" \\\n",
    "        -outform DER -out \"${EC_SELF_SIGNED_PUBLIC_KEY_DER}\"\n",
    "done\n",
    "echo \"\"\n",
    "\n",
    "echo \"EC Self-Signed Certificates:\"\n",
    "ls -l -go \"${FOLDER}\"/ec_self-signed-public-key*\n",
    "echo \"\"\n",
    "\n",
    "echo \"EC Self-Signed Certificate File Types:\"\n",
    "file \"${FOLDER}\"/ec_self-signed-public-key*\n",
    "echo \"\"\n",
    "\n",
    "echo \"EC Self-Signed Certificate SHA256 Digests:\"\n",
    "sha256sum \"${FOLDER}\"/ec_self-signed-public-key*.der\n",
    "echo \"---\"\n",
    "sha256sum \"${FOLDER}\"/ec_self-signed-public-key*.pem\n",
    "echo \"\"\n"
   ]
  },
  {
   "attachments": {},
   "cell_type": "markdown",
   "metadata": {},
   "source": [
    "### Display Certificate Details (Briefly)\n",
    "\n",
    "Confirming our certificates have unique names and validity periods."
   ]
  },
  {
   "cell_type": "code",
   "execution_count": 41,
   "metadata": {
    "vscode": {
     "languageId": "shellscript"
    }
   },
   "outputs": [
    {
     "name": "stdout",
     "output_type": "stream",
     "text": [
      "Basic Certificate Details:\n",
      "--------------------------------------------\n",
      "subject=O=WARNING: PRIVATE KEY MADE PUBLIC, CN=2CAD5697-EF16-4EBF-A597-04DA319D9127\n",
      "serial=5AC83D233ED6BD83D0AF3142FA5140E85C3D2BC8\n",
      "notBefore=Sep 26 03:32:59 2024 GMT\n",
      "notAfter=Nov  5 03:32:59 2024 GMT\n",
      "--------------------------------------------\n",
      "subject=O=WARNING: PRIVATE KEY MADE PUBLIC, CN=6BEBDA9A-0F3B-4832-91B1-69ECE219CCC4\n",
      "serial=2A89C1058A30410249E66500C600AD9A0751BD5A\n",
      "notBefore=Sep 26 03:32:59 2024 GMT\n",
      "notAfter=Nov 15 03:32:59 2024 GMT\n",
      "--------------------------------------------\n",
      "subject=O=WARNING: PRIVATE KEY MADE PUBLIC, CN=B7AA89F2-8E8D-4F0B-B5D7-85CEB01DBD6B\n",
      "serial=7916A6861347DA632D608ABA022DA20C8A63C03D\n",
      "notBefore=Sep 26 03:32:59 2024 GMT\n",
      "notAfter=Nov 25 03:32:59 2024 GMT\n",
      "--------------------------------------------\n",
      "subject=O=WARNING: PRIVATE KEY MADE PUBLIC, CN=BD8F44FA-A698-4752-AE0B-1A5222C0DFBD\n",
      "serial=1EDA9DE88E91C447D43F97435D36A01EA719FD5E\n",
      "notBefore=Sep 26 03:32:59 2024 GMT\n",
      "notAfter=Dec  5 03:32:59 2024 GMT\n",
      "--------------------------------------------\n",
      "subject=O=WARNING: PRIVATE KEY MADE PUBLIC, CN=F1ED8A3B-2BEE-4321-A8F3-81FB50BB1DCA\n",
      "serial=4118AF58BEEA5EA0DE727C98B05ED640A1ABDAB3\n",
      "notBefore=Sep 26 03:32:59 2024 GMT\n",
      "notAfter=Dec 15 03:32:59 2024 GMT\n",
      "\n"
     ]
    }
   ],
   "source": [
    "%%bash\n",
    "FOLDER=\"data/poc\"\n",
    "\n",
    "# from signed certificates\n",
    "echo \"Basic Certificate Details:\"\n",
    "for EC_SELF_SIGNED_PUBLIC_KEY_PEM in \"${FOLDER}\"/ec_self-signed-public-key*.pem; do\n",
    "    echo \"--------------------------------------------\"\n",
    "    openssl x509 -noout -in \"${EC_SELF_SIGNED_PUBLIC_KEY_PEM}\" \\\n",
    "        -subject -serial -startdate -enddate\n",
    "done\n",
    "echo \"\""
   ]
  },
  {
   "attachments": {},
   "cell_type": "markdown",
   "metadata": {},
   "source": [
    "### Extract EC SubjectPublicKeyInfo\n",
    "\n",
    "We already derived the raw public key material earlier by accessing the private key for this information.  Here, we'll shift our focus to both the signing requests and self-signed certificates for analysis.\n",
    "\n",
    "First, we'll access the signing requests to extract the `SubjectPublicKeyInfo` data and convert it to DER (binary) format.  Then we'll access each self-signed certificate to perform a similar action.\n",
    "\n",
    "> Note: when using the `-pubkey` option, the output will often contain two sections, in ASCII format, defining the `PUBLIC KEY` and `CERTIFICATE REQUEST`.  We use `sed` to parse out only the `PUBLIC KEY` portion of this output."
   ]
  },
  {
   "cell_type": "code",
   "execution_count": 42,
   "metadata": {
    "vscode": {
     "languageId": "shellscript"
    }
   },
   "outputs": [
    {
     "name": "stdout",
     "output_type": "stream",
     "text": [
      "Extracting the SubjectPublicKeyInfo from EC Signing Requests:\n",
      "--------------------------------------------\n",
      "Creating Public Key Info PEM: data/poc/ec_public-key-info_via_signing-request_2CAD5697-EF16-4EBF-A597-04DA319D9127.pem\n",
      "Converting PEM to DER: data/poc/ec_public-key-info_via_signing-request_2CAD5697-EF16-4EBF-A597-04DA319D9127.der\n",
      "    0:d=0  hl=2 l=  89 cons: SEQUENCE          \n",
      "    2:d=1  hl=2 l=  19 cons: SEQUENCE          \n",
      "    4:d=2  hl=2 l=   7 prim: OBJECT            :id-ecPublicKey\n",
      "   13:d=2  hl=2 l=   8 prim: OBJECT            :prime256v1\n",
      "   23:d=1  hl=2 l=  66 prim: BIT STRING        \n",
      "Creating Public Key Info PEM: data/poc/ec_public-key-info_via_signing-request_6BEBDA9A-0F3B-4832-91B1-69ECE219CCC4.pem\n",
      "Converting PEM to DER: data/poc/ec_public-key-info_via_signing-request_6BEBDA9A-0F3B-4832-91B1-69ECE219CCC4.der\n",
      "    0:d=0  hl=2 l=  89 cons: SEQUENCE          \n",
      "    2:d=1  hl=2 l=  19 cons: SEQUENCE          \n",
      "    4:d=2  hl=2 l=   7 prim: OBJECT            :id-ecPublicKey\n",
      "   13:d=2  hl=2 l=   8 prim: OBJECT            :prime256v1\n",
      "   23:d=1  hl=2 l=  66 prim: BIT STRING        \n",
      "Creating Public Key Info PEM: data/poc/ec_public-key-info_via_signing-request_B7AA89F2-8E8D-4F0B-B5D7-85CEB01DBD6B.pem\n",
      "Converting PEM to DER: data/poc/ec_public-key-info_via_signing-request_B7AA89F2-8E8D-4F0B-B5D7-85CEB01DBD6B.der\n",
      "    0:d=0  hl=2 l=  89 cons: SEQUENCE          \n",
      "    2:d=1  hl=2 l=  19 cons: SEQUENCE          \n",
      "    4:d=2  hl=2 l=   7 prim: OBJECT            :id-ecPublicKey\n",
      "   13:d=2  hl=2 l=   8 prim: OBJECT            :prime256v1\n",
      "   23:d=1  hl=2 l=  66 prim: BIT STRING        \n",
      "Creating Public Key Info PEM: data/poc/ec_public-key-info_via_signing-request_BD8F44FA-A698-4752-AE0B-1A5222C0DFBD.pem\n",
      "Converting PEM to DER: data/poc/ec_public-key-info_via_signing-request_BD8F44FA-A698-4752-AE0B-1A5222C0DFBD.der\n",
      "    0:d=0  hl=2 l=  89 cons: SEQUENCE          \n",
      "    2:d=1  hl=2 l=  19 cons: SEQUENCE          \n",
      "    4:d=2  hl=2 l=   7 prim: OBJECT            :id-ecPublicKey\n",
      "   13:d=2  hl=2 l=   8 prim: OBJECT            :prime256v1\n",
      "   23:d=1  hl=2 l=  66 prim: BIT STRING        \n",
      "Creating Public Key Info PEM: data/poc/ec_public-key-info_via_signing-request_F1ED8A3B-2BEE-4321-A8F3-81FB50BB1DCA.pem\n",
      "Converting PEM to DER: data/poc/ec_public-key-info_via_signing-request_F1ED8A3B-2BEE-4321-A8F3-81FB50BB1DCA.der\n",
      "    0:d=0  hl=2 l=  89 cons: SEQUENCE          \n",
      "    2:d=1  hl=2 l=  19 cons: SEQUENCE          \n",
      "    4:d=2  hl=2 l=   7 prim: OBJECT            :id-ecPublicKey\n",
      "   13:d=2  hl=2 l=   8 prim: OBJECT            :prime256v1\n",
      "   23:d=1  hl=2 l=  66 prim: BIT STRING        \n",
      "\n",
      "Extracting the SubjectPublicKeyInfo from EC Self-Signed Certificates:\n",
      "--------------------------------------------\n",
      "Self-Signed Key: data/poc/ec_self-signed-public-key_2CAD5697-EF16-4EBF-A597-04DA319D9127.pem\n",
      "Creating Public Key Info PEM: data/poc/ec_public-key-info_via_self-signed_2CAD5697-EF16-4EBF-A597-04DA319D9127.pem\n",
      "Converting PEM to DER: data/poc/ec_public-key-info_via_self-signed_2CAD5697-EF16-4EBF-A597-04DA319D9127.der\n",
      "    0:d=0  hl=2 l=  89 cons: SEQUENCE          \n",
      "    2:d=1  hl=2 l=  19 cons: SEQUENCE          \n",
      "    4:d=2  hl=2 l=   7 prim: OBJECT            :id-ecPublicKey\n",
      "   13:d=2  hl=2 l=   8 prim: OBJECT            :prime256v1\n",
      "   23:d=1  hl=2 l=  66 prim: BIT STRING        \n",
      "Self-Signed Key: data/poc/ec_self-signed-public-key_6BEBDA9A-0F3B-4832-91B1-69ECE219CCC4.pem\n",
      "Creating Public Key Info PEM: data/poc/ec_public-key-info_via_self-signed_6BEBDA9A-0F3B-4832-91B1-69ECE219CCC4.pem\n",
      "Converting PEM to DER: data/poc/ec_public-key-info_via_self-signed_6BEBDA9A-0F3B-4832-91B1-69ECE219CCC4.der\n",
      "    0:d=0  hl=2 l=  89 cons: SEQUENCE          \n",
      "    2:d=1  hl=2 l=  19 cons: SEQUENCE          \n",
      "    4:d=2  hl=2 l=   7 prim: OBJECT            :id-ecPublicKey\n",
      "   13:d=2  hl=2 l=   8 prim: OBJECT            :prime256v1\n",
      "   23:d=1  hl=2 l=  66 prim: BIT STRING        \n",
      "Self-Signed Key: data/poc/ec_self-signed-public-key_B7AA89F2-8E8D-4F0B-B5D7-85CEB01DBD6B.pem\n",
      "Creating Public Key Info PEM: data/poc/ec_public-key-info_via_self-signed_B7AA89F2-8E8D-4F0B-B5D7-85CEB01DBD6B.pem\n",
      "Converting PEM to DER: data/poc/ec_public-key-info_via_self-signed_B7AA89F2-8E8D-4F0B-B5D7-85CEB01DBD6B.der\n",
      "    0:d=0  hl=2 l=  89 cons: SEQUENCE          \n",
      "    2:d=1  hl=2 l=  19 cons: SEQUENCE          \n",
      "    4:d=2  hl=2 l=   7 prim: OBJECT            :id-ecPublicKey\n",
      "   13:d=2  hl=2 l=   8 prim: OBJECT            :prime256v1\n",
      "   23:d=1  hl=2 l=  66 prim: BIT STRING        \n",
      "Self-Signed Key: data/poc/ec_self-signed-public-key_BD8F44FA-A698-4752-AE0B-1A5222C0DFBD.pem\n",
      "Creating Public Key Info PEM: data/poc/ec_public-key-info_via_self-signed_BD8F44FA-A698-4752-AE0B-1A5222C0DFBD.pem\n",
      "Converting PEM to DER: data/poc/ec_public-key-info_via_self-signed_BD8F44FA-A698-4752-AE0B-1A5222C0DFBD.der\n",
      "    0:d=0  hl=2 l=  89 cons: SEQUENCE          \n",
      "    2:d=1  hl=2 l=  19 cons: SEQUENCE          \n",
      "    4:d=2  hl=2 l=   7 prim: OBJECT            :id-ecPublicKey\n",
      "   13:d=2  hl=2 l=   8 prim: OBJECT            :prime256v1\n",
      "   23:d=1  hl=2 l=  66 prim: BIT STRING        \n",
      "Self-Signed Key: data/poc/ec_self-signed-public-key_F1ED8A3B-2BEE-4321-A8F3-81FB50BB1DCA.pem\n",
      "Creating Public Key Info PEM: data/poc/ec_public-key-info_via_self-signed_F1ED8A3B-2BEE-4321-A8F3-81FB50BB1DCA.pem\n",
      "Converting PEM to DER: data/poc/ec_public-key-info_via_self-signed_F1ED8A3B-2BEE-4321-A8F3-81FB50BB1DCA.der\n",
      "    0:d=0  hl=2 l=  89 cons: SEQUENCE          \n",
      "    2:d=1  hl=2 l=  19 cons: SEQUENCE          \n",
      "    4:d=2  hl=2 l=   7 prim: OBJECT            :id-ecPublicKey\n",
      "   13:d=2  hl=2 l=   8 prim: OBJECT            :prime256v1\n",
      "   23:d=1  hl=2 l=  66 prim: BIT STRING        \n",
      "\n"
     ]
    }
   ],
   "source": [
    "%%bash\n",
    "FOLDER=\"data/poc\"\n",
    "\n",
    "echo \"Extracting the SubjectPublicKeyInfo from EC Signing Requests:\"\n",
    "echo \"--------------------------------------------\"\n",
    "# from signing request\n",
    "for EC_SIGNING_REQUEST_PEM in \"${FOLDER}\"/ec_signing-request*.pem; do\n",
    "    GUID=$(openssl req -noout -in \"${EC_SIGNING_REQUEST_PEM}\" -subject | awk -F 'CN=' '{print $2}')\n",
    "    EC_PUBLIC_KEY_INFO_SIGNING_REQUEST_PEM=\"${FOLDER}/ec_public-key-info_via_signing-request_${GUID}.pem\" \n",
    "    EC_PUBLIC_KEY_INFO_SIGNING_REQUEST_DER=\"${FOLDER}/ec_public-key-info_via_signing-request_${GUID}.der\"  \n",
    "\n",
    "    # creating PEM signed certificate\n",
    "    echo \"Creating Public Key Info PEM: ${EC_PUBLIC_KEY_INFO_SIGNING_REQUEST_PEM}\"\n",
    "    openssl req -pubkey -inform PEM -in \"${EC_SIGNING_REQUEST_PEM}\" | \\\n",
    "        sed -n '/BEGIN\\ PUBLIC\\ KEY/,/END\\ PUBLIC\\ KEY/p' > \"${EC_PUBLIC_KEY_INFO_SIGNING_REQUEST_PEM}\"\n",
    "\n",
    "    # converting PEM to DER\n",
    "    echo \"Converting PEM to DER: ${EC_PUBLIC_KEY_INFO_SIGNING_REQUEST_DER}\"\n",
    "    openssl asn1parse -inform PEM -in \"${EC_PUBLIC_KEY_INFO_SIGNING_REQUEST_PEM}\" \\\n",
    "        -out \"${EC_PUBLIC_KEY_INFO_SIGNING_REQUEST_DER}\"\n",
    "done\n",
    "echo \"\"\n",
    "\n",
    "echo \"Extracting the SubjectPublicKeyInfo from EC Self-Signed Certificates:\"\n",
    "echo \"--------------------------------------------\"\n",
    "# from self-signed public key\n",
    "for EC_SELF_SIGNED_PUBLIC_KEY_PEM in \"${FOLDER}\"/ec_self-signed-public-key*.pem; do\n",
    "    echo \"Self-Signed Key: ${EC_SELF_SIGNED_PUBLIC_KEY_PEM}\"\n",
    "    GUID=$(openssl x509 -noout -in \"${EC_SELF_SIGNED_PUBLIC_KEY_PEM}\" -subject | awk -F 'CN=' '{print $2}')\n",
    "    EC_PUBLIC_KEY_INFO_SELF_SIGNED_PEM=\"${FOLDER}/ec_public-key-info_via_self-signed_${GUID}.pem\" \n",
    "    EC_PUBLIC_KEY_INFO_SELF_SIGNED_DER=\"${FOLDER}/ec_public-key-info_via_self-signed_${GUID}.der\"  \n",
    "\n",
    "    # creating PEM signed certificate\n",
    "    echo \"Creating Public Key Info PEM: ${EC_PUBLIC_KEY_INFO_SELF_SIGNED_PEM}\"\n",
    "    openssl x509 -pubkey -inform PEM -in \"${EC_SELF_SIGNED_PUBLIC_KEY_PEM}\" | \\\n",
    "        sed -n '/BEGIN\\ PUBLIC\\ KEY/,/END\\ PUBLIC\\ KEY/p' > \"${EC_PUBLIC_KEY_INFO_SELF_SIGNED_PEM}\"\n",
    "\n",
    "    # converting PEM to DER\n",
    "    echo \"Converting PEM to DER: ${EC_PUBLIC_KEY_INFO_SELF_SIGNED_DER}\"\n",
    "    openssl asn1parse -inform PEM -in \"${EC_PUBLIC_KEY_INFO_SELF_SIGNED_PEM}\" \\\n",
    "        -out \"${EC_PUBLIC_KEY_INFO_SELF_SIGNED_DER}\"\n",
    "done\n",
    "echo \"\""
   ]
  },
  {
   "attachments": {},
   "cell_type": "markdown",
   "metadata": {},
   "source": [
    "### Compare PublicKeyInfo Digests\n",
    "\n",
    "In summary, we've performed the following actions:\n",
    "1. Derived the public key from a single private key \n",
    "<br>(see `ec_public-key-info_via_private_key*.der`).\n",
    "2. Extracted the public key material from multiple certificate signing requests\n",
    "<br>(see `ec_public-key-info_via_signing-request*.der`).\n",
    "3. Extracted the public key material from multiple self-signed certificates \n",
    "<br>(see `ec_public-key-info_via_self-signed*.der`).\n",
    "\n",
    "Do we have message digests which match across all these different exports?\n",
    "\n",
    "> Note: If you do not see the results you expect, make sure you are [Erase All EC Key Data](#erase-all-ec-key-data)) between test runs.\n",
    "\n",
    "If you want more samples, then follow these steps without erasing or resetting the EC data.\n",
    "1. Run [Generate EC Signing Requests](#generate-ec-signing-requests) multiple times.  e.g. 4 more times for a total of 25 signing requests.\n",
    "2. Run [Self-Sign EC Signing Requests](#self-sign-ec-signing-requests) just once.  \n",
    "3. Run [Extract EC SubjectPublicKeyInfo](#extract-ec-subjectpublickeyinfo) just once.\n",
    "4. Run this cell again."
   ]
  },
  {
   "cell_type": "code",
   "execution_count": 44,
   "metadata": {
    "vscode": {
     "languageId": "shellscript"
    }
   },
   "outputs": [
    {
     "name": "stdout",
     "output_type": "stream",
     "text": [
      "Summary of Unique EC Key Data:\n",
      "   Signed Certificates: 5\n",
      "  SubjectPublicKeyInfo: 1\n",
      "\n",
      "Certificate (DER) Digests (SHA256):\n",
      "d5d7c9a90f68be0c9285eb4b6785335f87094c50506005b66a005669a6c4e844  data/poc/ec_self-signed-public-key_2CAD5697-EF16-4EBF-A597-04DA319D9127.der\n",
      "e16d032057dfdaebba193624ee44e0bb275e02b3432eddaf3f3a3ec8a185b12d  data/poc/ec_self-signed-public-key_6BEBDA9A-0F3B-4832-91B1-69ECE219CCC4.der\n",
      "7d3eb49e42dc9d5180290c936df753d4954316e0d85cfb0045b42caa3aa077b5  data/poc/ec_self-signed-public-key_B7AA89F2-8E8D-4F0B-B5D7-85CEB01DBD6B.der\n",
      "0f398bfa6c7d19157903518ff580bdb65477cfc6547e6fd6399861f8e0e6d0b7  data/poc/ec_self-signed-public-key_BD8F44FA-A698-4752-AE0B-1A5222C0DFBD.der\n",
      "927e518ef01938687e7a1c97430a25c4e15a553945f6c2c53fe70e5254335972  data/poc/ec_self-signed-public-key_F1ED8A3B-2BEE-4321-A8F3-81FB50BB1DCA.der\n",
      "\n",
      "SubjectPublicKeyInfo Digests (SHA256):\n",
      "[SubjectPublicKeyInfo derived from the Private Key]\n",
      "78022eda18221a25c68ec935c70af9a3c0c7a51467b9236f46a367eabc389512  data/poc/ec_public-key-info_via_private-key_ec.der\n",
      "78022eda18221a25c68ec935c70af9a3c0c7a51467b9236f46a367eabc389512  data/poc/ec_public-key-info_via_private-key_pkey.der\n",
      "[SubjectPublicKeyInfo extracted from Signing Requests]\n",
      "78022eda18221a25c68ec935c70af9a3c0c7a51467b9236f46a367eabc389512  data/poc/ec_public-key-info_via_signing-request_2CAD5697-EF16-4EBF-A597-04DA319D9127.der\n",
      "78022eda18221a25c68ec935c70af9a3c0c7a51467b9236f46a367eabc389512  data/poc/ec_public-key-info_via_signing-request_6BEBDA9A-0F3B-4832-91B1-69ECE219CCC4.der\n",
      "78022eda18221a25c68ec935c70af9a3c0c7a51467b9236f46a367eabc389512  data/poc/ec_public-key-info_via_signing-request_B7AA89F2-8E8D-4F0B-B5D7-85CEB01DBD6B.der\n",
      "78022eda18221a25c68ec935c70af9a3c0c7a51467b9236f46a367eabc389512  data/poc/ec_public-key-info_via_signing-request_BD8F44FA-A698-4752-AE0B-1A5222C0DFBD.der\n",
      "78022eda18221a25c68ec935c70af9a3c0c7a51467b9236f46a367eabc389512  data/poc/ec_public-key-info_via_signing-request_F1ED8A3B-2BEE-4321-A8F3-81FB50BB1DCA.der\n",
      "[SubjectPublicKeyInfo extracted from Self-Signed Certificates]\n",
      "78022eda18221a25c68ec935c70af9a3c0c7a51467b9236f46a367eabc389512  data/poc/ec_public-key-info_via_self-signed_2CAD5697-EF16-4EBF-A597-04DA319D9127.der\n",
      "78022eda18221a25c68ec935c70af9a3c0c7a51467b9236f46a367eabc389512  data/poc/ec_public-key-info_via_self-signed_6BEBDA9A-0F3B-4832-91B1-69ECE219CCC4.der\n",
      "78022eda18221a25c68ec935c70af9a3c0c7a51467b9236f46a367eabc389512  data/poc/ec_public-key-info_via_self-signed_B7AA89F2-8E8D-4F0B-B5D7-85CEB01DBD6B.der\n",
      "78022eda18221a25c68ec935c70af9a3c0c7a51467b9236f46a367eabc389512  data/poc/ec_public-key-info_via_self-signed_BD8F44FA-A698-4752-AE0B-1A5222C0DFBD.der\n",
      "78022eda18221a25c68ec935c70af9a3c0c7a51467b9236f46a367eabc389512  data/poc/ec_public-key-info_via_self-signed_F1ED8A3B-2BEE-4321-A8F3-81FB50BB1DCA.der\n"
     ]
    }
   ],
   "source": [
    "%%bash\n",
    "FOLDER=\"data/poc\"\n",
    "\n",
    "# basic error checking\n",
    "if ! find \"${FOLDER}\" -type f -name \"ec_self-signed-public-key*.der\" | grep -q .; then\n",
    "    echo \"WARNING: No EC Self-Signed Certificates found.\"\n",
    "    echo \"         Please run the previous cells to generate EC content.\"\n",
    "    exit\n",
    "fi\n",
    "\n",
    "UNIQUE_DER_DIGEST_COUNT=$(sha256sum \"${FOLDER}\"/ec_self-signed-public-key*.der \\\n",
    "    | awk '{print $1}' | sort | uniq | wc -l | awk '{print $1}')\n",
    "\n",
    "UNIQUE_SPKI_DIGEST_COUNT=$(sha256sum \"${FOLDER}\"/ec_public-key-info*.der \\\n",
    "    | awk '{print $1}' | sort | uniq | wc -l | awk '{print $1}')\n",
    "\n",
    "if [ \"${UNIQUE_SPKI_DIGEST_COUNT}\" -gt 1 ]; then\n",
    "    echo \"WARNING: Multiple SubjectPublicKeyInfo Digests found.\"\n",
    "    echo \"         Did you forget to erase all key data between runs?\"\n",
    "    echo \"\"\n",
    "fi\n",
    "\n",
    "echo \"Summary of Unique EC Key Data:\"\n",
    "echo \"   Signed Certificates: ${UNIQUE_DER_DIGEST_COUNT}\"\n",
    "echo \"  SubjectPublicKeyInfo: ${UNIQUE_SPKI_DIGEST_COUNT}\"\n",
    "echo \"\"\n",
    "\n",
    "echo \"Certificate (DER) Digests (SHA256):\"\n",
    "sha256sum \"${FOLDER}\"/ec_self-signed-public-key*.der\n",
    "echo \"\"\n",
    "\n",
    "echo \"SubjectPublicKeyInfo Digests (SHA256):\"\n",
    "echo \"[SubjectPublicKeyInfo derived from the Private Key]\"\n",
    "sha256sum \"${FOLDER}\"/ec_public-key-info_via_private-key*.der | sort\n",
    "echo \"[SubjectPublicKeyInfo extracted from Signing Requests]\"\n",
    "sha256sum \"${FOLDER}\"/ec_public-key-info_via_signing-request*.der | sort\n",
    "echo \"[SubjectPublicKeyInfo extracted from Self-Signed Certificates]\"\n",
    "sha256sum \"${FOLDER}\"/ec_public-key-info_via_self-signed*.der | sort"
   ]
  },
  {
   "attachments": {},
   "cell_type": "markdown",
   "metadata": {},
   "source": [
    "### Erase All EC Key Data\n",
    "\n",
    "Use this to reset the proof-of-concept data related to EC key data."
   ]
  },
  {
   "cell_type": "code",
   "execution_count": 19,
   "metadata": {
    "vscode": {
     "languageId": "shellscript"
    }
   },
   "outputs": [],
   "source": [
    "%%bash\n",
    "FOLDER=\"data/poc\"\n",
    "\n",
    "# if folder exists, remove it\n",
    "rm -rf \"${FOLDER}\"/ec_*"
   ]
  },
  {
   "attachments": {},
   "cell_type": "markdown",
   "metadata": {},
   "source": [
    "# Additional OpenSSL Commands and Data\n"
   ]
  },
  {
   "attachments": {},
   "cell_type": "markdown",
   "metadata": {},
   "source": [
    "## Cipher Suites\n",
    "\n",
    "How to check cipher suite support, which should correlate with certificate type (`RSA` vs `ECDSA`).  List of available cipher suites from OpenSSL or OpenSSL compatible (e.g. LibreSSL).   Note, these are based on _your_ local OpenSSL installation."
   ]
  },
  {
   "cell_type": "code",
   "execution_count": null,
   "metadata": {
    "vscode": {
     "languageId": "shellscript"
    }
   },
   "outputs": [],
   "source": [
    "%%bash\n",
    "openssl ciphers -v"
   ]
  },
  {
   "attachments": {},
   "cell_type": "markdown",
   "metadata": {},
   "source": [
    "## OpenSSL Cipher Suites to JSON"
   ]
  },
  {
   "cell_type": "code",
   "execution_count": null,
   "metadata": {},
   "outputs": [],
   "source": [
    "import json\n",
    "\n",
    "def openssl_cipher_suites_to_json(openssl_result:list) -> list:\n",
    "    \"\"\"Convers OpenSSL verbose cipher suite output to JSON.\n",
    "    \n",
    "    cipher_suites = [\n",
    "        {\n",
    "            \"Cipher Suite\": str,\n",
    "            \"Protocol\": str,\n",
    "            \"Key Exchange\": str,\n",
    "            \"Authentication\": str,\n",
    "            \"Encryption\": str,\n",
    "            \"MAC\": str\n",
    "        },\n",
    "        {...}\n",
    "    ]\n",
    "\n",
    "    Args:\n",
    "        openssl_result (list): list of lines from 'openssl ciphers -v'\n",
    "\n",
    "    Returns:\n",
    "        list: list of dictionaries\n",
    "    \"\"\"\n",
    "    cipher_suites = []\n",
    "    for line in openssl_result:\n",
    "        fields = line.split()\n",
    "        cipher_suite = {}\n",
    "        cipher_suite['Cipher Suite'] = fields[0]\n",
    "        cipher_suite['Protocol'] = fields[1]\n",
    "        cipher_suite['Key Exchange'] = fields[2].split('=')[1]\n",
    "        cipher_suite['Authentication'] = fields[3].split('=')[1]\n",
    "        cipher_suite['Encryption'] = fields[4].split('=')[1]\n",
    "        cipher_suite['MAC'] = fields[5].split('=')[1]\n",
    "\n",
    "        cipher_suites.append(cipher_suite)\n",
    "    return cipher_suites\n",
    "\n",
    "# using a Jupyter 'feature'.  Caution executing external code or binaries from within your notebooks.\n",
    "openssl_result = !openssl ciphers -v # use 'RSA' or 'AES' or other filter keywords\n",
    "\n",
    "suites_json = openssl_cipher_suites_to_json(openssl_result)\n",
    "\n",
    "print(json.dumps(suites_json, indent=2))\n"
   ]
  },
  {
   "attachments": {},
   "cell_type": "markdown",
   "metadata": {},
   "source": [
    "OpenSSL RSA Cipher Suites"
   ]
  },
  {
   "attachments": {},
   "cell_type": "markdown",
   "metadata": {},
   "source": [
    "We can query `openssl` for various cipher suites based on one or more cipher string values.  See [OpenSSL man page on Ciphers: Cipher Strings](https://docs.openssl.org/1.1.1/man1/ciphers/)"
   ]
  },
  {
   "cell_type": "code",
   "execution_count": null,
   "metadata": {
    "vscode": {
     "languageId": "shellscript"
    }
   },
   "outputs": [],
   "source": [
    "%%bash\n",
    "\n",
    "# create an array of strings \"RSA\", \"ECDH\", \"DHE\", \"ECDSA\", \"AES\", \"RSA\"\n",
    "CIPHERS=(\"ECDH\" \"DHE\" \"ECDSA\" \"AES\" \"RSA\")\n",
    "\n",
    "# iterate over the array with openssl ciphers -v\n",
    "for CIPHER in \"${CIPHERS[@]}\"; do\n",
    "    echo \"Ciphers: '${CIPHER}'\"\n",
    "    openssl ciphers -V \"${CIPHER}\"\n",
    "    echo \"\"\n",
    "done\n"
   ]
  },
  {
   "cell_type": "markdown",
   "metadata": {},
   "source": [
    "Using `openssl` to connect to a web site and display the certificate in an on-demand fashion.\n",
    "\n",
    "> Note: Web sites can be load balanced across many IPv4 and IPv6 addresses.  This example merely accesses the first available."
   ]
  },
  {
   "cell_type": "code",
   "execution_count": null,
   "metadata": {
    "vscode": {
     "languageId": "shellscript"
    }
   },
   "outputs": [],
   "source": [
    "#!/bin/bash\n",
    "\n",
    "#cipher_suite=\"\\'ECDHE-ECDSA-AES128-SHA\\'\" # RSA key type\n",
    "# cipher_suite='ECDHE-ECDSA-AES256-GCM-SHA384' # EC key type\n",
    "\n",
    "!echo \"[ OpenSSL - Connection Details ]============================\"\n",
    "!echo | openssl s_client -showcerts -cipher \"ECDHE-ECDSA-AES128-SHA\" -servername www.google.com -connect www.google.com:443 2>&1\n",
    "!echo \"\"\n",
    "!echo \"[ OpenSSL - Certificate Details ]===========================\"\n",
    "!echo | openssl s_client -showcerts -cipher 'ECDHE-ECDSA-AES128-SHA' -servername www.google.com -connect www.google.com:443 2>&1 | openssl x509 -noout -text\n"
   ]
  }
 ],
 "metadata": {
  "kernelspec": {
   "display_name": "recon",
   "language": "python",
   "name": "python3"
  },
  "language_info": {
   "codemirror_mode": {
    "name": "ipython",
    "version": 3
   },
   "file_extension": ".py",
   "mimetype": "text/x-python",
   "name": "python",
   "nbconvert_exporter": "python",
   "pygments_lexer": "ipython3",
   "version": "3.11.6"
  },
  "orig_nbformat": 4
 },
 "nbformat": 4,
 "nbformat_minor": 2
}
